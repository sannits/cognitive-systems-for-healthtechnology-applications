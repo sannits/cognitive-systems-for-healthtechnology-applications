{
 "cells": [
  {
   "cell_type": "markdown",
   "metadata": {},
   "source": [
    "# Case 2. Diabetic Retinopathy Analysis\n",
    "Sanni Tolonen<br>\n",
    "26.2.2018<br>\n",
    "Cognitive Systems for Health Technology Applications, Spring 2018<br>\n",
    "Helsinki Metropolia University of Applied Sciences"
   ]
  },
  {
   "cell_type": "markdown",
   "metadata": {},
   "source": [
    "<h2>1. Objectives</h2><br>\n",
    "The aim of this assignment is to learn to use convolutional neural networks to classify medical\n",
    "images."
   ]
  },
  {
   "cell_type": "markdown",
   "metadata": {},
   "source": [
    "<h2> 2. Required libraries </h2>"
   ]
  },
  {
   "cell_type": "code",
   "execution_count": 1,
   "metadata": {},
   "outputs": [
    {
     "name": "stderr",
     "output_type": "stream",
     "text": [
      "Using TensorFlow backend.\n"
     ]
    }
   ],
   "source": [
    "# import libraries and functions\n",
    "\n",
    "import numpy as np\n",
    "import matplotlib.pyplot as plt \n",
    "import pickle\n",
    "from keras import layers\n",
    "from keras import models\n",
    "from keras.preprocessing.image import ImageDataGenerator\n",
    "from keras import optimizers\n",
    "import time"
   ]
  },
  {
   "cell_type": "markdown",
   "metadata": {},
   "source": [
    "Numpy is used for scientific computing and creating multidimensional arrays, matplotlib for ploting figures, pickle for saving the history of the model, keras for building the convolutional neural network and time for calculating time."
   ]
  },
  {
   "cell_type": "markdown",
   "metadata": {},
   "source": [
    "<h2> 3. Data description and preprocessing </h2>"
   ]
  },
  {
   "cell_type": "markdown",
   "metadata": {},
   "source": [
    "This dataset is a large set of high-resolution retina images taken under a variety of imaging conditions. \n",
    "A clinician has rated the presence of diabetic retinopathy in each image on a scale of 0 to 4:\n",
    "\n",
    "<ul>\n",
    "<li>0 - No DR</li>\n",
    "<li>1 - Mild</li>\n",
    "<li>2 - Moderate</li>\n",
    "<li>3 - Severe</li>\n",
    "<li>4 - Proliferative DR</li>\n",
    "</ul>\n",
    "\n",
    "The images come from different models and types of cameras, which can affect the visual appearance. Some images are shown as one would see the retina anatomically meaning macula on the left, optic nerve on the right for the right eye. Others are shown as one would see through a microscope condensing lens in example inverted, as one sees in a typical live eye exam. There are two ways to tell if an image is inverted:\n",
    "\n",
    "It is inverted if the macula, the small dark central area, is slightly higher than the midline through the optic nerve. If the macula is lower than the midline of the optic nerve, it's not inverted.\n",
    "If there is a notch on the side of the image (square, triangle, or circle) then it's not inverted. If there is no notch, it's inverted."
   ]
  },
  {
   "cell_type": "code",
   "execution_count": 2,
   "metadata": {
    "collapsed": true
   },
   "outputs": [],
   "source": [
    "# dataset directories and labels files\n",
    "\n",
    "train_dir = \"../dataset2/train\" \n",
    "validation_dir = \"../dataset2/validation\" \n",
    "test_dir = \"../dataset2/test\" \n",
    "\n",
    "#preprocessing function\n",
    "\n",
    "def my_fun(x):\n",
    "    r = x[:, :, 0]\n",
    "    g = x[:, :, 1]\n",
    "    b = x[:, :, 2]\n",
    "    r = (r - np.mean(r))/(12.0*np.std(r))\n",
    "    g = (g - np.mean(g))/(12.0*np.std(g))\n",
    "    b = (b - np.mean(g))/(12.0*np.std(b))\n",
    "    x[:, :, 0] = r\n",
    "    x[:, :, 1] = g\n",
    "    x[:, :, 2] = b\n",
    "    x += 0.5\n",
    "    return x"
   ]
  },
  {
   "cell_type": "markdown",
   "metadata": {},
   "source": [
    "Dataset is splitted to train, validation and test sets. For preprocessing I used a function defined by Sakari Lukkarinen. "
   ]
  },
  {
   "cell_type": "markdown",
   "metadata": {},
   "source": [
    "<h2> 4. Modeling and compilation </h2>"
   ]
  },
  {
   "cell_type": "code",
   "execution_count": 3,
   "metadata": {},
   "outputs": [
    {
     "name": "stdout",
     "output_type": "stream",
     "text": [
      "Training dataset.\n",
      "Found 1928 images belonging to 2 classes.\n",
      "Validation dataset.\n",
      "Found 1021 images belonging to 2 classes.\n",
      "Test dataset.\n",
      "Found 1013 images belonging to 2 classes.\n"
     ]
    }
   ],
   "source": [
    "# training parameters\n",
    "\n",
    "batch_size = 40\n",
    "epochs = 40\n",
    "steps_per_epoch = 48 \n",
    "validation_steps = 13\n",
    "image_height = 150\n",
    "image_width = 200 \n",
    "\n",
    "# create datagenerators\n",
    "\n",
    "train_datagen = ImageDataGenerator(preprocessing_function = my_fun)\n",
    "validation_datagen = ImageDataGenerator(preprocessing_function = my_fun)\n",
    "test_datagen = ImageDataGenerator(preprocessing_function = my_fun)\n",
    "\n",
    "# generator for train dataset\n",
    "\n",
    "print('Training dataset.')\n",
    "train_generator = train_datagen.flow_from_directory(\n",
    "        train_dir,\n",
    "        target_size = (image_height, image_width),\n",
    "        batch_size = batch_size,\n",
    "        class_mode = 'binary')\n",
    "\n",
    "# generator for validation dataset\n",
    "\n",
    "print('Validation dataset.')\n",
    "validation_generator = validation_datagen.flow_from_directory(\n",
    "        validation_dir,\n",
    "        target_size = (image_height, image_width),\n",
    "        batch_size = batch_size,\n",
    "        class_mode = 'binary')\n",
    "\n",
    "# generator for test dataset\n",
    "\n",
    "print('Test dataset.')\n",
    "test_generator = test_datagen.flow_from_directory(\n",
    "        test_dir,\n",
    "        target_size = (image_height, image_width),\n",
    "        batch_size = batch_size,\n",
    "        class_mode = 'binary')\n"
   ]
  },
  {
   "cell_type": "markdown",
   "metadata": {},
   "source": [
    "<h2> 5. Training and validation </h2>"
   ]
  },
  {
   "cell_type": "markdown",
   "metadata": {},
   "source": [
    "This model is designed with a Conv2D layer followed by MaxPool2D layer. After five sets of these, there is one MaxPool2D layer and a Flatten layer to flatten the input. In the end there is a Dropout layer for weight regularization to avoid overfitting and a Dense layer, two sets of these."
   ]
  },
  {
   "cell_type": "code",
   "execution_count": 5,
   "metadata": {},
   "outputs": [
    {
     "name": "stdout",
     "output_type": "stream",
     "text": [
      "_________________________________________________________________\n",
      "Layer (type)                 Output Shape              Param #   \n",
      "=================================================================\n",
      "conv2d_7 (Conv2D)            (None, 148, 198, 32)      896       \n",
      "_________________________________________________________________\n",
      "max_pooling2d_6 (MaxPooling2 (None, 74, 99, 32)        0         \n",
      "_________________________________________________________________\n",
      "conv2d_8 (Conv2D)            (None, 72, 97, 64)        18496     \n",
      "_________________________________________________________________\n",
      "max_pooling2d_7 (MaxPooling2 (None, 36, 48, 64)        0         \n",
      "_________________________________________________________________\n",
      "conv2d_9 (Conv2D)            (None, 34, 46, 128)       73856     \n",
      "_________________________________________________________________\n",
      "max_pooling2d_8 (MaxPooling2 (None, 17, 23, 128)       0         \n",
      "_________________________________________________________________\n",
      "conv2d_10 (Conv2D)           (None, 15, 21, 256)       295168    \n",
      "_________________________________________________________________\n",
      "max_pooling2d_9 (MaxPooling2 (None, 7, 10, 256)        0         \n",
      "_________________________________________________________________\n",
      "flatten_1 (Flatten)          (None, 17920)             0         \n",
      "_________________________________________________________________\n",
      "dropout_1 (Dropout)          (None, 17920)             0         \n",
      "_________________________________________________________________\n",
      "dense_1 (Dense)              (None, 512)               9175552   \n",
      "_________________________________________________________________\n",
      "dropout_2 (Dropout)          (None, 512)               0         \n",
      "_________________________________________________________________\n",
      "dense_2 (Dense)              (None, 1)                 513       \n",
      "=================================================================\n",
      "Total params: 9,564,481\n",
      "Trainable params: 9,564,481\n",
      "Non-trainable params: 0\n",
      "_________________________________________________________________\n",
      "Epoch 1/40\n",
      "48/48 [==============================] - 607s 13s/step - loss: 4.6398 - acc: 0.6990 - val_loss: 4.4945 - val_acc: 0.7212\n",
      "Epoch 2/40\n",
      "48/48 [==============================] - 584s 12s/step - loss: 4.7006 - acc: 0.7084 - val_loss: 4.4945 - val_acc: 0.7212\n",
      "Epoch 3/40\n",
      "48/48 [==============================] - 576s 12s/step - loss: 4.6762 - acc: 0.7099 - val_loss: 4.4945 - val_acc: 0.7212\n",
      "Epoch 4/40\n",
      "48/48 [==============================] - 570s 12s/step - loss: 4.4928 - acc: 0.7213 - val_loss: 4.4945 - val_acc: 0.7212\n",
      "Epoch 5/40\n",
      "48/48 [==============================] - 563s 12s/step - loss: 4.6936 - acc: 0.7088 - val_loss: 4.4945 - val_acc: 0.7212\n",
      "Epoch 6/40\n",
      "48/48 [==============================] - 572s 12s/step - loss: 4.5922 - acc: 0.7151 - val_loss: 4.4945 - val_acc: 0.7212\n",
      "Epoch 7/40\n",
      "48/48 [==============================] - 556s 12s/step - loss: 4.7769 - acc: 0.7036 - val_loss: 4.4945 - val_acc: 0.7212\n",
      "Epoch 8/40\n",
      "48/48 [==============================] - 552s 11s/step - loss: 4.4662 - acc: 0.7229 - val_loss: 4.4945 - val_acc: 0.7212\n",
      "Epoch 9/40\n",
      "48/48 [==============================] - 549s 11s/step - loss: 4.8098 - acc: 0.7016 - val_loss: 4.4945 - val_acc: 0.7212\n",
      "Epoch 10/40\n",
      "48/48 [==============================] - 548s 11s/step - loss: 4.6671 - acc: 0.7104 - val_loss: 4.4945 - val_acc: 0.7212\n",
      "Epoch 11/40\n",
      "48/48 [==============================] - 543s 11s/step - loss: 4.7419 - acc: 0.7058 - val_loss: 4.4945 - val_acc: 0.7212\n",
      "Epoch 12/40\n",
      "48/48 [==============================] - 545s 11s/step - loss: 4.5332 - acc: 0.7187 - val_loss: 4.4945 - val_acc: 0.7212\n",
      "Epoch 13/40\n",
      "48/48 [==============================] - 531s 11s/step - loss: 4.7688 - acc: 0.7041 - val_loss: 4.4945 - val_acc: 0.7212\n",
      "Epoch 14/40\n",
      "48/48 [==============================] - 532s 11s/step - loss: 4.6426 - acc: 0.7120 - val_loss: 4.4945 - val_acc: 0.7212\n",
      "Epoch 15/40\n",
      "48/48 [==============================] - 533s 11s/step - loss: 4.4830 - acc: 0.7219 - val_loss: 4.4945 - val_acc: 0.7212\n",
      "Epoch 16/40\n",
      "48/48 [==============================] - 532s 11s/step - loss: 4.7599 - acc: 0.7047 - val_loss: 4.4945 - val_acc: 0.7212\n",
      "Epoch 17/40\n",
      "48/48 [==============================] - 537s 11s/step - loss: 4.6426 - acc: 0.7120 - val_loss: 4.4945 - val_acc: 0.7212\n",
      "Epoch 18/40\n",
      "48/48 [==============================] - 547s 11s/step - loss: 4.7338 - acc: 0.7063 - val_loss: 4.4945 - val_acc: 0.7212\n",
      "Epoch 19/40\n",
      "48/48 [==============================] - 534s 11s/step - loss: 4.7263 - acc: 0.7068 - val_loss: 4.4945 - val_acc: 0.7212\n",
      "Epoch 20/40\n",
      "48/48 [==============================] - 522s 11s/step - loss: 4.6008 - acc: 0.7146 - val_loss: 4.4945 - val_acc: 0.7212\n",
      "Epoch 21/40\n",
      "48/48 [==============================] - 527s 11s/step - loss: 4.8189 - acc: 0.7010 - val_loss: 4.4945 - val_acc: 0.7212\n",
      "Epoch 22/40\n",
      "48/48 [==============================] - 531s 11s/step - loss: 4.5836 - acc: 0.7156 - val_loss: 4.4945 - val_acc: 0.7212\n",
      "Epoch 23/40\n",
      "48/48 [==============================] - 524s 11s/step - loss: 4.7079 - acc: 0.7079 - val_loss: 4.4945 - val_acc: 0.7212\n",
      "Epoch 24/40\n",
      "48/48 [==============================] - 532s 11s/step - loss: 4.6423 - acc: 0.7120 - val_loss: 4.4945 - val_acc: 0.7212\n",
      "Epoch 25/40\n",
      "48/48 [==============================] - 520s 11s/step - loss: 4.5917 - acc: 0.7151 - val_loss: 4.4945 - val_acc: 0.7212\n",
      "Epoch 26/40\n",
      "48/48 [==============================] - 535s 11s/step - loss: 4.8354 - acc: 0.7000 - val_loss: 4.4945 - val_acc: 0.7212\n",
      "Epoch 27/40\n",
      "48/48 [==============================] - 528s 11s/step - loss: 4.6936 - acc: 0.7088 - val_loss: 4.4945 - val_acc: 0.7212\n",
      "Epoch 28/40\n",
      "48/48 [==============================] - 526s 11s/step - loss: 4.6825 - acc: 0.7095 - val_loss: 4.4945 - val_acc: 0.7212\n",
      "Epoch 29/40\n",
      "48/48 [==============================] - 525s 11s/step - loss: 4.6671 - acc: 0.7104 - val_loss: 4.4945 - val_acc: 0.7212\n",
      "Epoch 30/40\n",
      "48/48 [==============================] - 524s 11s/step - loss: 4.5182 - acc: 0.7197 - val_loss: 4.4945 - val_acc: 0.7212\n",
      "Epoch 31/40\n",
      "48/48 [==============================] - 536s 11s/step - loss: 4.6759 - acc: 0.7099 - val_loss: 4.4945 - val_acc: 0.7212\n",
      "Epoch 32/40\n",
      "48/48 [==============================] - 536s 11s/step - loss: 4.6852 - acc: 0.7093 - val_loss: 4.4945 - val_acc: 0.7212\n",
      "Epoch 33/40\n",
      "48/48 [==============================] - 517s 11s/step - loss: 4.3586 - acc: 0.7296 - val_loss: 4.4945 - val_acc: 0.7212\n",
      "Epoch 34/40\n",
      "48/48 [==============================] - 532s 11s/step - loss: 4.9278 - acc: 0.6943 - val_loss: 4.4945 - val_acc: 0.7212\n",
      "Epoch 35/40\n",
      "48/48 [==============================] - 530s 11s/step - loss: 4.5334 - acc: 0.7187 - val_loss: 4.4945 - val_acc: 0.7212\n",
      "Epoch 36/40\n",
      "48/48 [==============================] - 518s 11s/step - loss: 4.7338 - acc: 0.7063 - val_loss: 4.4945 - val_acc: 0.7212\n",
      "Epoch 37/40\n",
      "48/48 [==============================] - 534s 11s/step - loss: 4.7011 - acc: 0.7083 - val_loss: 4.4945 - val_acc: 0.7212\n",
      "Epoch 38/40\n",
      "48/48 [==============================] - 528s 11s/step - loss: 4.6258 - acc: 0.7130 - val_loss: 4.4945 - val_acc: 0.7212\n",
      "Epoch 39/40\n",
      "48/48 [==============================] - 525s 11s/step - loss: 4.5845 - acc: 0.7156 - val_loss: 4.4945 - val_acc: 0.7212\n",
      "Epoch 40/40\n",
      "48/48 [==============================] - 526s 11s/step - loss: 4.7020 - acc: 0.7083 - val_loss: 4.4945 - val_acc: 0.7212\n",
      " \n",
      "Total elapsed time for training: 359.799 minutes\n",
      " \n"
     ]
    }
   ],
   "source": [
    "# build the model\n",
    "\n",
    "model = models.Sequential()\n",
    "model.add(layers.Conv2D(32, (3, 3), activation='relu',\n",
    "                        input_shape=(image_height, image_width, 3)))\n",
    "\n",
    "model.add(layers.MaxPooling2D((2, 2)))\n",
    "model.add(layers.Conv2D(64, (3, 3), activation='relu'))\n",
    "\n",
    "model.add(layers.MaxPooling2D((2, 2)))\n",
    "model.add(layers.Conv2D(128, (3, 3), activation='relu'))\n",
    "\n",
    "model.add(layers.MaxPooling2D((2, 2)))\n",
    "model.add(layers.Conv2D(256, (3, 3), activation='relu'))\n",
    "\n",
    "model.add(layers.MaxPooling2D((2, 2)))\n",
    "model.add(layers.Flatten())\n",
    "\n",
    "model.add(layers.Dropout(0.2))\n",
    "model.add(layers.Dense(512, activation='relu'))\n",
    "\n",
    "model.add(layers.Dropout(0.2))\n",
    "model.add(layers.Dense(1, activation='sigmoid'))\n",
    "\n",
    "model.summary()\n",
    "\n",
    "# compile the model\n",
    "\n",
    "model.compile(loss='binary_crossentropy',\n",
    "              optimizer=optimizers.RMSprop(),\n",
    "              metrics=['acc'])\n",
    "\n",
    "\n",
    "# train the model\n",
    "\n",
    "t1 = time.time()\n",
    "h = model.fit_generator(\n",
    "      train_generator,\n",
    "      steps_per_epoch = steps_per_epoch,\n",
    "      verbose = 1,\n",
    "      epochs = epochs,\n",
    "      validation_data = validation_generator,\n",
    "      validation_steps = validation_steps)\n",
    "t2 = time.time()\n",
    "\n",
    "# store the elapsed time into history\n",
    "\n",
    "h.history.update({'time_elapsed': t2 - t1})\n",
    "print(' ')\n",
    "print('Total elapsed time for training: {:.3f} minutes'.format((t2-t1)/60))\n",
    "print(' ')\n",
    "\n",
    "# save the model and history\n",
    "\n",
    "model.save('case_2_run_2.h5')\n",
    "pickle.dump(h.history, open('case_2_history_2.p', 'wb'))"
   ]
  },
  {
   "cell_type": "code",
   "execution_count": 12,
   "metadata": {},
   "outputs": [
    {
     "name": "stdout",
     "output_type": "stream",
     "text": [
      "Time per epoch 6.00 hours.\n",
      "Time per epoch 8.99 minutes.\n"
     ]
    }
   ],
   "source": [
    "print('Time per epoch {:.2f} hours.'.format((t2-t1)/3600))\n",
    "print('Time per epoch {:.2f} minutes.'.format((t2-t1)/40/60))"
   ]
  },
  {
   "cell_type": "markdown",
   "metadata": {},
   "source": [
    "<h2> 6. Evaluation </h2>"
   ]
  },
  {
   "cell_type": "markdown",
   "metadata": {},
   "source": [
    "Here the model created above is tested with the testing set. "
   ]
  },
  {
   "cell_type": "code",
   "execution_count": 7,
   "metadata": {},
   "outputs": [
    {
     "name": "stdout",
     "output_type": "stream",
     "text": [
      "Found 1013 images belonging to 2 classes.\n"
     ]
    },
    {
     "data": {
      "text/plain": [
       "[4.7778640928722567, 0.70357142459778554]"
      ]
     },
     "execution_count": 7,
     "metadata": {},
     "output_type": "execute_result"
    }
   ],
   "source": [
    "test_generator = test_datagen.flow_from_directory(\n",
    "        test_dir,\n",
    "        target_size = (image_height, image_width),\n",
    "        batch_size = batch_size,\n",
    "        class_mode = 'binary')\n",
    "\n",
    "r = model.evaluate_generator(test_generator, steps = 21)\n",
    "\n",
    "# loss and accuracy\n",
    "r"
   ]
  },
  {
   "cell_type": "markdown",
   "metadata": {},
   "source": [
    "<h2> 7. Results and discussion </h2>"
   ]
  },
  {
   "cell_type": "markdown",
   "metadata": {},
   "source": [
    "Training accuracy is just above 0.70 almost the whole time. The final testing accuracy is 0.70. In the end of training the loss function is 4.7 which is really big. This means that the inconsistency between predicted value and actual label is large. The final testing loss function is 4.78. "
   ]
  },
  {
   "cell_type": "code",
   "execution_count": 10,
   "metadata": {},
   "outputs": [
    {
     "data": {
      "image/png": "[encoded data removed]",
      "text/plain": [
       "<matplotlib.figure.Figure at 0x1d1d7eaf240>"
      ]
     },
     "metadata": {},
     "output_type": "display_data"
    },
    {
     "data": {
      "image/png": "[encoded data removed]",
      "text/plain": [
       "<matplotlib.figure.Figure at 0x1d1d8e476a0>"
      ]
     },
     "metadata": {},
     "output_type": "display_data"
    }
   ],
   "source": [
    "acc = h.history['acc']\n",
    "val_acc = h.history['val_acc']\n",
    "loss = h.history['loss']\n",
    "val_loss = h.history['val_loss']\n",
    "\n",
    "epochs = range(len(acc))\n",
    "\n",
    "plt.plot(epochs, acc, 'bo', label='Training accuracy')\n",
    "plt.plot(epochs, val_acc, 'b', label='Validation accracy')\n",
    "plt.title('Training and validation accuracy')\n",
    "plt.ylim([0, 1])\n",
    "plt.xlabel('Epochs')\n",
    "plt.grid()\n",
    "plt.legend()\n",
    "\n",
    "plt.figure()\n",
    "\n",
    "plt.plot(epochs, loss, 'bo', label='Training loss')\n",
    "plt.plot(epochs, val_loss, 'b', label='Validation loss')\n",
    "plt.title('Training and validation loss')\n",
    "plt.ylim([0, 10])\n",
    "plt.xlabel('Epochs')\n",
    "plt.grid()\n",
    "plt.legend()  \n",
    "\n",
    "plt.show()"
   ]
  },
  {
   "cell_type": "code",
   "execution_count": 9,
   "metadata": {},
   "outputs": [
    {
     "name": "stdout",
     "output_type": "stream",
     "text": [
      "Found 1013 images belonging to 2 classes.\n"
     ]
    },
    {
     "data": {
      "text/plain": [
       "[4.7778641269320534, 0.70357142459778554]"
      ]
     },
     "execution_count": 9,
     "metadata": {},
     "output_type": "execute_result"
    }
   ],
   "source": [
    "test_generator = test_datagen.flow_from_directory(\n",
    "        test_dir,\n",
    "        target_size = (image_height, image_width),\n",
    "        batch_size = batch_size,\n",
    "        class_mode = 'binary')\n",
    "\n",
    "r = model.evaluate_generator(test_generator, steps = 21)\n",
    "\n",
    "# loss and accuracy\n",
    "r"
   ]
  },
  {
   "cell_type": "markdown",
   "metadata": {},
   "source": [
    "<h2>8. Conclusions</h2>"
   ]
  },
  {
   "cell_type": "markdown",
   "metadata": {},
   "source": [
    "This Case 2 was a nice and interesting introduction to the convolutional neural networks. I think the difficulty level was ok, could have maybe been a little easier for my taste. I underestimated the time consuming of this assignment.\n",
    "\n",
    "70% accuracy isn't that good for binary classification and it's not good enough for a medical classifier. I made quite a few versions and took probably too much time with them, some of the trainings lasted for 14 hours. I don't understand what went wrong with the training because validation accuracy and validation loss stays the same all the time with all combinations that I tried so there is definately some more learning to do for me. "
   ]
  },
  {
   "cell_type": "code",
   "execution_count": null,
   "metadata": {
    "collapsed": true
   },
   "outputs": [],
   "source": []
  }
 ],
 "metadata": {
  "kernelspec": {
   "display_name": "Python 3",
   "language": "python",
   "name": "python3"
  },
  "language_info": {
   "codemirror_mode": {
    "name": "ipython",
    "version": 3
   },
   "file_extension": ".py",
   "mimetype": "text/x-python",
   "name": "python",
   "nbconvert_exporter": "python",
   "pygments_lexer": "ipython3",
   "version": "3.6.3"
  }
 },
 "nbformat": 4,
 "nbformat_minor": 2
}
