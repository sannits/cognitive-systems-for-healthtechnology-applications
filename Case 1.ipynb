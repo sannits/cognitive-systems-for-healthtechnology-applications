{
 "cells": [
  {
   "cell_type": "markdown",
   "metadata": {},
   "source": [
    "# Case 1. Heart Disease Classification\n",
    "Sanni Tolonen<br>\n",
    "4.2.2018<br>\n",
    "Cognitive Systems for Health Technology Applications, Spring 2018<br>\n",
    "Helsinki Metropolia University of Applied Sciences"
   ]
  },
  {
   "cell_type": "markdown",
   "metadata": {},
   "source": [
    "<h2>1. Objectives</h2><br>\n",
    "The aim of this assignment is to learn to read data from externals sources using panda’s iofunctions<br>\n",
    "and use keras.io dense neural networks to make an expert system to support in\n",
    "diagnostic decision making.\n"
   ]
  },
  {
   "cell_type": "markdown",
   "metadata": {},
   "source": [
    "<h2> 2. Required libraries </h2>"
   ]
  },
  {
   "cell_type": "code",
   "execution_count": 126,
   "metadata": {},
   "outputs": [],
   "source": [
    "# import libraries\n",
    "\n",
    "import numpy as np\n",
    "import matplotlib.pyplot as plt\n",
    "%matplotlib inline\n",
    "\n",
    "import pandas as pd\n",
    "\n",
    "import sklearn as sk\n",
    "from sklearn import preprocessing\n",
    "from sklearn.model_selection import train_test_split\n",
    "\n",
    "import keras\n",
    "from keras.models import Sequential\n",
    "from keras.layers import Dense, Activation, Dropout\n",
    "from keras import models\n",
    "from keras import layers"
   ]
  },
  {
   "cell_type": "code",
   "execution_count": 127,
   "metadata": {},
   "outputs": [
    {
     "name": "stdout",
     "output_type": "stream",
     "text": [
      "numpy: 1.12.1\n",
      "pandas: 0.22.0\n",
      "sklearn: 0.19.1\n",
      "keras: 2.1.2\n"
     ]
    }
   ],
   "source": [
    "# check the versions\n",
    "\n",
    "print('numpy:', np.__version__)\n",
    "print('pandas:', pd.__version__)\n",
    "print('sklearn:', sk.__version__)\n",
    "print('keras:', keras.__version__)"
   ]
  },
  {
   "cell_type": "markdown",
   "metadata": {},
   "source": [
    "<h2> 3. Data description and preprocessing </h2>"
   ]
  },
  {
   "cell_type": "markdown",
   "metadata": {},
   "source": [
    "Starting with the processed data.The data was collected from the Cleveland Clinic Foundation. This database contains 76 attributes, but all published experiments refer to using a subset of 14 of them. The \"goal\" field refers to the presence of heart disease in the patient.  It is integer valued from 0 (no presence) to 4. Experiments with the Cleveland database have concentrated on simply attempting to distinguish presence (values 1,2,3,4) from absence (value 0).<br>The 14 used attributes are:\n",
    "1. age: age in years      \n",
    "2. sex: sex (1 = male; 0 = female)      \n",
    "3. cp: chest pain type\n",
    "        Value 1: typical angina\n",
    "        Value 2: atypical angina\n",
    "        Value 3: non-anginal pain\n",
    "        Value 4: asymptomatic        \n",
    "4. trestbps: resting blood pressure (in mm Hg on admission to the hospital)\n",
    "5. chol: serum cholestoral in mg/dl      \n",
    "6. fbs: fasting blood sugar > 120 mg/dl  (1 = true; 0 = false)       \n",
    "7. restecg: resting electrocardiographic results\n",
    "        Value 0: normal\n",
    "        Value 1: having ST-T wave abnormality (T wave inversions and/or ST \n",
    "                 elevation or depression of > 0.05 mV)\n",
    "        Value 2: showing probable or definite left ventricular hypertrophy\n",
    "                 by Estes' criteria   \n",
    "8. thalach: maximum heart rate achieved   \n",
    "9. exang: exercise induced angina (1 = yes; 0 = no)    \n",
    "10. oldpeak: ST depression induced by exercise relative to rest   \n",
    "11. slope: the slope of the peak exercise ST segment\n",
    "        Value 1: upsloping\n",
    "        Value 2: flat\n",
    "        Value 3: downsloping     \n",
    "12. ca: number of major vessels (0-3) colored by flourosopy       \n",
    "13. thal: 3 = normal; 6 = fixed defect; 7 = reversable defect      \n",
    "14. num: diagnosis of heart disease (angiographic disease status)\n",
    "        Value 0: < 50% diameter narrowing\n",
    "        Value 1: > 50% diameter narrowing\n",
    "        (in any major vessel: attributes 59 through 68 are vessels)\n",
    "        \n",
    "Number of instances in this database is 303. Missing Attribute Values are distinguished with value -9.0.<br>\n",
    "Under here you can see the first ten lines of the database."
   ]
  },
  {
   "cell_type": "code",
   "execution_count": 128,
   "metadata": {},
   "outputs": [
    {
     "data": {
      "text/html": [
       "<div>\n",
       "<style scoped>\n",
       "    .dataframe tbody tr th:only-of-type {\n",
       "        vertical-align: middle;\n",
       "    }\n",
       "\n",
       "    .dataframe tbody tr th {\n",
       "        vertical-align: top;\n",
       "    }\n",
       "\n",
       "    .dataframe thead th {\n",
       "        text-align: right;\n",
       "    }\n",
       "</style>\n",
       "<table border=\"1\" class=\"dataframe\">\n",
       "  <thead>\n",
       "    <tr style=\"text-align: right;\">\n",
       "      <th></th>\n",
       "      <th>age</th>\n",
       "      <th>sex</th>\n",
       "      <th>cp</th>\n",
       "      <th>trestbps</th>\n",
       "      <th>chol</th>\n",
       "      <th>fbs</th>\n",
       "      <th>restecg</th>\n",
       "      <th>thalach</th>\n",
       "      <th>exang</th>\n",
       "      <th>oldpeak</th>\n",
       "      <th>slope</th>\n",
       "      <th>ca</th>\n",
       "      <th>thal</th>\n",
       "      <th>num</th>\n",
       "    </tr>\n",
       "  </thead>\n",
       "  <tbody>\n",
       "    <tr>\n",
       "      <th>0</th>\n",
       "      <td>63.0</td>\n",
       "      <td>1.0</td>\n",
       "      <td>1.0</td>\n",
       "      <td>145.0</td>\n",
       "      <td>233.0</td>\n",
       "      <td>1.0</td>\n",
       "      <td>2.0</td>\n",
       "      <td>150.0</td>\n",
       "      <td>0.0</td>\n",
       "      <td>2.3</td>\n",
       "      <td>3.0</td>\n",
       "      <td>0.0</td>\n",
       "      <td>6.0</td>\n",
       "      <td>0</td>\n",
       "    </tr>\n",
       "    <tr>\n",
       "      <th>1</th>\n",
       "      <td>67.0</td>\n",
       "      <td>1.0</td>\n",
       "      <td>4.0</td>\n",
       "      <td>160.0</td>\n",
       "      <td>286.0</td>\n",
       "      <td>0.0</td>\n",
       "      <td>2.0</td>\n",
       "      <td>108.0</td>\n",
       "      <td>1.0</td>\n",
       "      <td>1.5</td>\n",
       "      <td>2.0</td>\n",
       "      <td>3.0</td>\n",
       "      <td>3.0</td>\n",
       "      <td>2</td>\n",
       "    </tr>\n",
       "    <tr>\n",
       "      <th>2</th>\n",
       "      <td>67.0</td>\n",
       "      <td>1.0</td>\n",
       "      <td>4.0</td>\n",
       "      <td>120.0</td>\n",
       "      <td>229.0</td>\n",
       "      <td>0.0</td>\n",
       "      <td>2.0</td>\n",
       "      <td>129.0</td>\n",
       "      <td>1.0</td>\n",
       "      <td>2.6</td>\n",
       "      <td>2.0</td>\n",
       "      <td>2.0</td>\n",
       "      <td>7.0</td>\n",
       "      <td>1</td>\n",
       "    </tr>\n",
       "    <tr>\n",
       "      <th>3</th>\n",
       "      <td>37.0</td>\n",
       "      <td>1.0</td>\n",
       "      <td>3.0</td>\n",
       "      <td>130.0</td>\n",
       "      <td>250.0</td>\n",
       "      <td>0.0</td>\n",
       "      <td>0.0</td>\n",
       "      <td>187.0</td>\n",
       "      <td>0.0</td>\n",
       "      <td>3.5</td>\n",
       "      <td>3.0</td>\n",
       "      <td>0.0</td>\n",
       "      <td>3.0</td>\n",
       "      <td>0</td>\n",
       "    </tr>\n",
       "    <tr>\n",
       "      <th>4</th>\n",
       "      <td>41.0</td>\n",
       "      <td>0.0</td>\n",
       "      <td>2.0</td>\n",
       "      <td>130.0</td>\n",
       "      <td>204.0</td>\n",
       "      <td>0.0</td>\n",
       "      <td>2.0</td>\n",
       "      <td>172.0</td>\n",
       "      <td>0.0</td>\n",
       "      <td>1.4</td>\n",
       "      <td>1.0</td>\n",
       "      <td>0.0</td>\n",
       "      <td>3.0</td>\n",
       "      <td>0</td>\n",
       "    </tr>\n",
       "    <tr>\n",
       "      <th>5</th>\n",
       "      <td>56.0</td>\n",
       "      <td>1.0</td>\n",
       "      <td>2.0</td>\n",
       "      <td>120.0</td>\n",
       "      <td>236.0</td>\n",
       "      <td>0.0</td>\n",
       "      <td>0.0</td>\n",
       "      <td>178.0</td>\n",
       "      <td>0.0</td>\n",
       "      <td>0.8</td>\n",
       "      <td>1.0</td>\n",
       "      <td>0.0</td>\n",
       "      <td>3.0</td>\n",
       "      <td>0</td>\n",
       "    </tr>\n",
       "    <tr>\n",
       "      <th>6</th>\n",
       "      <td>62.0</td>\n",
       "      <td>0.0</td>\n",
       "      <td>4.0</td>\n",
       "      <td>140.0</td>\n",
       "      <td>268.0</td>\n",
       "      <td>0.0</td>\n",
       "      <td>2.0</td>\n",
       "      <td>160.0</td>\n",
       "      <td>0.0</td>\n",
       "      <td>3.6</td>\n",
       "      <td>3.0</td>\n",
       "      <td>2.0</td>\n",
       "      <td>3.0</td>\n",
       "      <td>3</td>\n",
       "    </tr>\n",
       "    <tr>\n",
       "      <th>7</th>\n",
       "      <td>57.0</td>\n",
       "      <td>0.0</td>\n",
       "      <td>4.0</td>\n",
       "      <td>120.0</td>\n",
       "      <td>354.0</td>\n",
       "      <td>0.0</td>\n",
       "      <td>0.0</td>\n",
       "      <td>163.0</td>\n",
       "      <td>1.0</td>\n",
       "      <td>0.6</td>\n",
       "      <td>1.0</td>\n",
       "      <td>0.0</td>\n",
       "      <td>3.0</td>\n",
       "      <td>0</td>\n",
       "    </tr>\n",
       "    <tr>\n",
       "      <th>8</th>\n",
       "      <td>63.0</td>\n",
       "      <td>1.0</td>\n",
       "      <td>4.0</td>\n",
       "      <td>130.0</td>\n",
       "      <td>254.0</td>\n",
       "      <td>0.0</td>\n",
       "      <td>2.0</td>\n",
       "      <td>147.0</td>\n",
       "      <td>0.0</td>\n",
       "      <td>1.4</td>\n",
       "      <td>2.0</td>\n",
       "      <td>1.0</td>\n",
       "      <td>7.0</td>\n",
       "      <td>2</td>\n",
       "    </tr>\n",
       "    <tr>\n",
       "      <th>9</th>\n",
       "      <td>53.0</td>\n",
       "      <td>1.0</td>\n",
       "      <td>4.0</td>\n",
       "      <td>140.0</td>\n",
       "      <td>203.0</td>\n",
       "      <td>1.0</td>\n",
       "      <td>2.0</td>\n",
       "      <td>155.0</td>\n",
       "      <td>1.0</td>\n",
       "      <td>3.1</td>\n",
       "      <td>3.0</td>\n",
       "      <td>0.0</td>\n",
       "      <td>7.0</td>\n",
       "      <td>1</td>\n",
       "    </tr>\n",
       "  </tbody>\n",
       "</table>\n",
       "</div>"
      ],
      "text/plain": [
       "    age  sex   cp  trestbps   chol  fbs  restecg  thalach  exang  oldpeak  \\\n",
       "0  63.0  1.0  1.0     145.0  233.0  1.0      2.0    150.0    0.0      2.3   \n",
       "1  67.0  1.0  4.0     160.0  286.0  0.0      2.0    108.0    1.0      1.5   \n",
       "2  67.0  1.0  4.0     120.0  229.0  0.0      2.0    129.0    1.0      2.6   \n",
       "3  37.0  1.0  3.0     130.0  250.0  0.0      0.0    187.0    0.0      3.5   \n",
       "4  41.0  0.0  2.0     130.0  204.0  0.0      2.0    172.0    0.0      1.4   \n",
       "5  56.0  1.0  2.0     120.0  236.0  0.0      0.0    178.0    0.0      0.8   \n",
       "6  62.0  0.0  4.0     140.0  268.0  0.0      2.0    160.0    0.0      3.6   \n",
       "7  57.0  0.0  4.0     120.0  354.0  0.0      0.0    163.0    1.0      0.6   \n",
       "8  63.0  1.0  4.0     130.0  254.0  0.0      2.0    147.0    0.0      1.4   \n",
       "9  53.0  1.0  4.0     140.0  203.0  1.0      2.0    155.0    1.0      3.1   \n",
       "\n",
       "   slope   ca  thal  num  \n",
       "0    3.0  0.0   6.0    0  \n",
       "1    2.0  3.0   3.0    2  \n",
       "2    2.0  2.0   7.0    1  \n",
       "3    3.0  0.0   3.0    0  \n",
       "4    1.0  0.0   3.0    0  \n",
       "5    1.0  0.0   3.0    0  \n",
       "6    3.0  2.0   3.0    3  \n",
       "7    1.0  0.0   3.0    0  \n",
       "8    2.0  1.0   7.0    2  \n",
       "9    3.0  0.0   7.0    1  "
      ]
     },
     "execution_count": 128,
     "metadata": {},
     "output_type": "execute_result"
    }
   ],
   "source": [
    "# location of the dataset\n",
    "\n",
    "filename = 'https://archive.ics.uci.edu/ml/machine-learning-databases/heart-disease/processed.cleveland.data'\n",
    "\n",
    "# column names for the data\n",
    "\n",
    "colnames = [\"age\", \"sex\", \"cp\", \"trestbps\",\"chol\",\"fbs\",\"restecg\",\"thalach\",\"exang\",\"oldpeak\",\"slope\",\"ca\",\"thal\",\"num\"]\n",
    "\n",
    "# read the data to data frame\n",
    "\n",
    "df = pd.read_csv(filename,\n",
    "                names=colnames,\n",
    "                na_values='?')\n",
    "\n",
    "# print the first ten lines of the data\n",
    "\n",
    "df.head(10)"
   ]
  },
  {
   "cell_type": "markdown",
   "metadata": {},
   "source": [
    "Under here you can see the descriptive statistics of the data."
   ]
  },
  {
   "cell_type": "code",
   "execution_count": 129,
   "metadata": {},
   "outputs": [
    {
     "data": {
      "text/html": [
       "<div>\n",
       "<style scoped>\n",
       "    .dataframe tbody tr th:only-of-type {\n",
       "        vertical-align: middle;\n",
       "    }\n",
       "\n",
       "    .dataframe tbody tr th {\n",
       "        vertical-align: top;\n",
       "    }\n",
       "\n",
       "    .dataframe thead th {\n",
       "        text-align: right;\n",
       "    }\n",
       "</style>\n",
       "<table border=\"1\" class=\"dataframe\">\n",
       "  <thead>\n",
       "    <tr style=\"text-align: right;\">\n",
       "      <th></th>\n",
       "      <th>age</th>\n",
       "      <th>sex</th>\n",
       "      <th>cp</th>\n",
       "      <th>trestbps</th>\n",
       "      <th>chol</th>\n",
       "      <th>fbs</th>\n",
       "      <th>restecg</th>\n",
       "      <th>thalach</th>\n",
       "      <th>exang</th>\n",
       "      <th>oldpeak</th>\n",
       "      <th>slope</th>\n",
       "      <th>ca</th>\n",
       "      <th>thal</th>\n",
       "      <th>num</th>\n",
       "    </tr>\n",
       "  </thead>\n",
       "  <tbody>\n",
       "    <tr>\n",
       "      <th>count</th>\n",
       "      <td>303.000000</td>\n",
       "      <td>303.000000</td>\n",
       "      <td>303.000000</td>\n",
       "      <td>303.000000</td>\n",
       "      <td>303.000000</td>\n",
       "      <td>303.000000</td>\n",
       "      <td>303.000000</td>\n",
       "      <td>303.000000</td>\n",
       "      <td>303.000000</td>\n",
       "      <td>303.000000</td>\n",
       "      <td>303.000000</td>\n",
       "      <td>299.000000</td>\n",
       "      <td>301.000000</td>\n",
       "      <td>303.000000</td>\n",
       "    </tr>\n",
       "    <tr>\n",
       "      <th>mean</th>\n",
       "      <td>54.438944</td>\n",
       "      <td>0.679868</td>\n",
       "      <td>3.158416</td>\n",
       "      <td>131.689769</td>\n",
       "      <td>246.693069</td>\n",
       "      <td>0.148515</td>\n",
       "      <td>0.990099</td>\n",
       "      <td>149.607261</td>\n",
       "      <td>0.326733</td>\n",
       "      <td>1.039604</td>\n",
       "      <td>1.600660</td>\n",
       "      <td>0.672241</td>\n",
       "      <td>4.734219</td>\n",
       "      <td>0.937294</td>\n",
       "    </tr>\n",
       "    <tr>\n",
       "      <th>std</th>\n",
       "      <td>9.038662</td>\n",
       "      <td>0.467299</td>\n",
       "      <td>0.960126</td>\n",
       "      <td>17.599748</td>\n",
       "      <td>51.776918</td>\n",
       "      <td>0.356198</td>\n",
       "      <td>0.994971</td>\n",
       "      <td>22.875003</td>\n",
       "      <td>0.469794</td>\n",
       "      <td>1.161075</td>\n",
       "      <td>0.616226</td>\n",
       "      <td>0.937438</td>\n",
       "      <td>1.939706</td>\n",
       "      <td>1.228536</td>\n",
       "    </tr>\n",
       "    <tr>\n",
       "      <th>min</th>\n",
       "      <td>29.000000</td>\n",
       "      <td>0.000000</td>\n",
       "      <td>1.000000</td>\n",
       "      <td>94.000000</td>\n",
       "      <td>126.000000</td>\n",
       "      <td>0.000000</td>\n",
       "      <td>0.000000</td>\n",
       "      <td>71.000000</td>\n",
       "      <td>0.000000</td>\n",
       "      <td>0.000000</td>\n",
       "      <td>1.000000</td>\n",
       "      <td>0.000000</td>\n",
       "      <td>3.000000</td>\n",
       "      <td>0.000000</td>\n",
       "    </tr>\n",
       "    <tr>\n",
       "      <th>25%</th>\n",
       "      <td>48.000000</td>\n",
       "      <td>0.000000</td>\n",
       "      <td>3.000000</td>\n",
       "      <td>120.000000</td>\n",
       "      <td>211.000000</td>\n",
       "      <td>0.000000</td>\n",
       "      <td>0.000000</td>\n",
       "      <td>133.500000</td>\n",
       "      <td>0.000000</td>\n",
       "      <td>0.000000</td>\n",
       "      <td>1.000000</td>\n",
       "      <td>0.000000</td>\n",
       "      <td>3.000000</td>\n",
       "      <td>0.000000</td>\n",
       "    </tr>\n",
       "    <tr>\n",
       "      <th>50%</th>\n",
       "      <td>56.000000</td>\n",
       "      <td>1.000000</td>\n",
       "      <td>3.000000</td>\n",
       "      <td>130.000000</td>\n",
       "      <td>241.000000</td>\n",
       "      <td>0.000000</td>\n",
       "      <td>1.000000</td>\n",
       "      <td>153.000000</td>\n",
       "      <td>0.000000</td>\n",
       "      <td>0.800000</td>\n",
       "      <td>2.000000</td>\n",
       "      <td>0.000000</td>\n",
       "      <td>3.000000</td>\n",
       "      <td>0.000000</td>\n",
       "    </tr>\n",
       "    <tr>\n",
       "      <th>75%</th>\n",
       "      <td>61.000000</td>\n",
       "      <td>1.000000</td>\n",
       "      <td>4.000000</td>\n",
       "      <td>140.000000</td>\n",
       "      <td>275.000000</td>\n",
       "      <td>0.000000</td>\n",
       "      <td>2.000000</td>\n",
       "      <td>166.000000</td>\n",
       "      <td>1.000000</td>\n",
       "      <td>1.600000</td>\n",
       "      <td>2.000000</td>\n",
       "      <td>1.000000</td>\n",
       "      <td>7.000000</td>\n",
       "      <td>2.000000</td>\n",
       "    </tr>\n",
       "    <tr>\n",
       "      <th>max</th>\n",
       "      <td>77.000000</td>\n",
       "      <td>1.000000</td>\n",
       "      <td>4.000000</td>\n",
       "      <td>200.000000</td>\n",
       "      <td>564.000000</td>\n",
       "      <td>1.000000</td>\n",
       "      <td>2.000000</td>\n",
       "      <td>202.000000</td>\n",
       "      <td>1.000000</td>\n",
       "      <td>6.200000</td>\n",
       "      <td>3.000000</td>\n",
       "      <td>3.000000</td>\n",
       "      <td>7.000000</td>\n",
       "      <td>4.000000</td>\n",
       "    </tr>\n",
       "  </tbody>\n",
       "</table>\n",
       "</div>"
      ],
      "text/plain": [
       "              age         sex          cp    trestbps        chol         fbs  \\\n",
       "count  303.000000  303.000000  303.000000  303.000000  303.000000  303.000000   \n",
       "mean    54.438944    0.679868    3.158416  131.689769  246.693069    0.148515   \n",
       "std      9.038662    0.467299    0.960126   17.599748   51.776918    0.356198   \n",
       "min     29.000000    0.000000    1.000000   94.000000  126.000000    0.000000   \n",
       "25%     48.000000    0.000000    3.000000  120.000000  211.000000    0.000000   \n",
       "50%     56.000000    1.000000    3.000000  130.000000  241.000000    0.000000   \n",
       "75%     61.000000    1.000000    4.000000  140.000000  275.000000    0.000000   \n",
       "max     77.000000    1.000000    4.000000  200.000000  564.000000    1.000000   \n",
       "\n",
       "          restecg     thalach       exang     oldpeak       slope          ca  \\\n",
       "count  303.000000  303.000000  303.000000  303.000000  303.000000  299.000000   \n",
       "mean     0.990099  149.607261    0.326733    1.039604    1.600660    0.672241   \n",
       "std      0.994971   22.875003    0.469794    1.161075    0.616226    0.937438   \n",
       "min      0.000000   71.000000    0.000000    0.000000    1.000000    0.000000   \n",
       "25%      0.000000  133.500000    0.000000    0.000000    1.000000    0.000000   \n",
       "50%      1.000000  153.000000    0.000000    0.800000    2.000000    0.000000   \n",
       "75%      2.000000  166.000000    1.000000    1.600000    2.000000    1.000000   \n",
       "max      2.000000  202.000000    1.000000    6.200000    3.000000    3.000000   \n",
       "\n",
       "             thal         num  \n",
       "count  301.000000  303.000000  \n",
       "mean     4.734219    0.937294  \n",
       "std      1.939706    1.228536  \n",
       "min      3.000000    0.000000  \n",
       "25%      3.000000    0.000000  \n",
       "50%      3.000000    0.000000  \n",
       "75%      7.000000    2.000000  \n",
       "max      7.000000    4.000000  "
      ]
     },
     "execution_count": 129,
     "metadata": {},
     "output_type": "execute_result"
    }
   ],
   "source": [
    "# calculate descriptive statistics\n",
    "\n",
    "df.describe()"
   ]
  },
  {
   "cell_type": "code",
   "execution_count": 130,
   "metadata": {},
   "outputs": [
    {
     "data": {
      "text/plain": [
       "age         0\n",
       "sex         0\n",
       "cp          0\n",
       "trestbps    0\n",
       "chol        0\n",
       "fbs         0\n",
       "restecg     0\n",
       "thalach     0\n",
       "exang       0\n",
       "oldpeak     0\n",
       "slope       0\n",
       "ca          4\n",
       "thal        2\n",
       "num         0\n",
       "dtype: int64"
      ]
     },
     "execution_count": 130,
     "metadata": {},
     "output_type": "execute_result"
    }
   ],
   "source": [
    "# check how many missing values are in each column\n",
    "\n",
    "np.sum(np.isnan(df))"
   ]
  },
  {
   "cell_type": "code",
   "execution_count": 131,
   "metadata": {
    "collapsed": true
   },
   "outputs": [],
   "source": [
    "# replace the missing values with column mean values\n",
    "\n",
    "df = df.where(~np.isnan(df), df.mean(), axis='columns')"
   ]
  },
  {
   "cell_type": "markdown",
   "metadata": {},
   "source": [
    "Under here you can see the minimum values of the database."
   ]
  },
  {
   "cell_type": "code",
   "execution_count": 132,
   "metadata": {},
   "outputs": [
    {
     "data": {
      "text/plain": [
       "age          29.0\n",
       "sex           0.0\n",
       "cp            1.0\n",
       "trestbps     94.0\n",
       "chol        126.0\n",
       "fbs           0.0\n",
       "restecg       0.0\n",
       "thalach      71.0\n",
       "exang         0.0\n",
       "oldpeak       0.0\n",
       "slope         1.0\n",
       "ca            0.0\n",
       "thal          3.0\n",
       "num           0.0\n",
       "dtype: float64"
      ]
     },
     "execution_count": 132,
     "metadata": {},
     "output_type": "execute_result"
    }
   ],
   "source": [
    "# print all the minimum values of the data\n",
    "\n",
    "df.min()"
   ]
  },
  {
   "cell_type": "markdown",
   "metadata": {},
   "source": [
    "And under here you can see the maximum values of the database."
   ]
  },
  {
   "cell_type": "code",
   "execution_count": 133,
   "metadata": {},
   "outputs": [
    {
     "data": {
      "text/plain": [
       "age          77.0\n",
       "sex           1.0\n",
       "cp            4.0\n",
       "trestbps    200.0\n",
       "chol        564.0\n",
       "fbs           1.0\n",
       "restecg       2.0\n",
       "thalach     202.0\n",
       "exang         1.0\n",
       "oldpeak       6.2\n",
       "slope         3.0\n",
       "ca            3.0\n",
       "thal          7.0\n",
       "num           4.0\n",
       "dtype: float64"
      ]
     },
     "execution_count": 133,
     "metadata": {},
     "output_type": "execute_result"
    }
   ],
   "source": [
    "# print all the maximum values of the data\n",
    "\n",
    "df.max()"
   ]
  },
  {
   "cell_type": "markdown",
   "metadata": {},
   "source": [
    "This is a boxplot made from the persons ages and its grouped by sex. O means female and 1 means male. The green line in the middle of the boxes is the mean of each group. As you can see, for females it's a little over 55 years old and for males it's about 55 years old."
   ]
  },
  {
   "cell_type": "code",
   "execution_count": 134,
   "metadata": {},
   "outputs": [
    {
     "data": {
      "image/png": "[encoded data removed]",
      "text/plain": [
       "<matplotlib.figure.Figure at 0x1a051ef82b0>"
      ]
     },
     "metadata": {},
     "output_type": "display_data"
    }
   ],
   "source": [
    "# create a boxplot of the column age and group it by sex\n",
    "\n",
    "df.boxplot(column='age', by='sex')\n",
    "plt.show()"
   ]
  },
  {
   "cell_type": "markdown",
   "metadata": {},
   "source": [
    "This is a histogram  made of resting blood pressure of the test subjects in mm/Hg. A histogram is a plot tha shows the underlying frequency distribution of a set of continuous data. From this histogram it you can see that the highest count of the blood pressure is approximately aroun 130 mm/Hg."
   ]
  },
  {
   "cell_type": "code",
   "execution_count": 135,
   "metadata": {},
   "outputs": [
    {
     "data": {
      "image/png": "[encoded data removed]",
      "text/plain": [
       "<matplotlib.figure.Figure at 0x1a0562cec18>"
      ]
     },
     "metadata": {},
     "output_type": "display_data"
    }
   ],
   "source": [
    "# create a histogram of the resting bloodpressure\n",
    "\n",
    "df['trestbps'].hist(bins=10)\n",
    "plt.title('Histogram of resting blood pressure of the test subjects in mm/Hg')\n",
    "plt.xlabel('Resting Blood pressure(mm/Hg)')\n",
    "plt.ylabel('Count')\n",
    "plt.show()"
   ]
  },
  {
   "cell_type": "markdown",
   "metadata": {},
   "source": [
    "<h2> 4. Modeling and compilation </h2>"
   ]
  },
  {
   "cell_type": "code",
   "execution_count": 136,
   "metadata": {
    "collapsed": true
   },
   "outputs": [],
   "source": [
    "# calculate the labels:\n",
    "# 0 = healthy, 1 = disease\n",
    "labels = (df['num'] > 0).values"
   ]
  },
  {
   "cell_type": "code",
   "execution_count": 137,
   "metadata": {
    "collapsed": true
   },
   "outputs": [],
   "source": [
    "# select the columns for training\n",
    "\n",
    "columns = ['age', 'sex', 'cp', 'trestbps', \n",
    "           'chol', 'fbs', 'restecg', 'thalach', \n",
    "           'exang', 'oldpeak', 'slope', 'ca', 'thal'] \n",
    "\n",
    "# convert into numerical array (np.array)\n",
    "\n",
    "data = df[columns].values"
   ]
  },
  {
   "cell_type": "code",
   "execution_count": 138,
   "metadata": {},
   "outputs": [
    {
     "data": {
      "text/plain": [
       "(303, 13)"
      ]
     },
     "execution_count": 138,
     "metadata": {},
     "output_type": "execute_result"
    }
   ],
   "source": [
    "# check the number of samples and attributes\n",
    "\n",
    "data.shape"
   ]
  },
  {
   "cell_type": "code",
   "execution_count": 139,
   "metadata": {},
   "outputs": [
    {
     "data": {
      "text/plain": [
       "array([[ 0.70833333,  1.        ,  0.        , ...,  1.        ,\n",
       "         0.        ,  0.75      ],\n",
       "       [ 0.79166667,  1.        ,  1.        , ...,  0.5       ,\n",
       "         1.        ,  0.        ],\n",
       "       [ 0.79166667,  1.        ,  1.        , ...,  0.5       ,\n",
       "         0.66666667,  1.        ],\n",
       "       ..., \n",
       "       [ 0.58333333,  1.        ,  1.        , ...,  0.5       ,\n",
       "         0.33333333,  1.        ],\n",
       "       [ 0.58333333,  0.        ,  0.33333333, ...,  0.5       ,\n",
       "         0.33333333,  0.        ],\n",
       "       [ 0.1875    ,  1.        ,  0.66666667, ...,  0.        ,\n",
       "         0.22408027,  0.        ]])"
      ]
     },
     "execution_count": 139,
     "metadata": {},
     "output_type": "execute_result"
    }
   ],
   "source": [
    "# scale the data\n",
    "\n",
    "min_max_scaler = preprocessing.MinMaxScaler()\n",
    "data_minmax = min_max_scaler.fit_transform(data)\n",
    "data_minmax"
   ]
  },
  {
   "cell_type": "code",
   "execution_count": 140,
   "metadata": {},
   "outputs": [
    {
     "data": {
      "text/plain": [
       "array([ 0.02083333,  1.        ,  0.33333333,  0.00943396,  0.00228311,\n",
       "        1.        ,  0.5       ,  0.00763359,  1.        ,  0.16129032,\n",
       "        0.5       ,  0.33333333,  0.25      ])"
      ]
     },
     "execution_count": 140,
     "metadata": {},
     "output_type": "execute_result"
    }
   ],
   "source": [
    "# check the scaler values\n",
    "\n",
    "min_max_scaler.scale_"
   ]
  },
  {
   "cell_type": "code",
   "execution_count": 141,
   "metadata": {},
   "outputs": [
    {
     "data": {
      "text/plain": [
       "array([-0.60416667,  0.        , -0.33333333, -0.88679245, -0.28767123,\n",
       "        0.        ,  0.        , -0.54198473,  0.        ,  0.        ,\n",
       "       -0.5       ,  0.        , -0.75      ])"
      ]
     },
     "execution_count": 141,
     "metadata": {},
     "output_type": "execute_result"
    }
   ],
   "source": [
    "# check the minimum values\n",
    "\n",
    "min_max_scaler.min_"
   ]
  },
  {
   "cell_type": "code",
   "execution_count": 142,
   "metadata": {},
   "outputs": [
    {
     "data": {
      "text/plain": [
       "array([ 0.529978  ,  0.67986799,  0.71947195,  0.35556386,  0.27555495,\n",
       "        0.14851485,  0.4950495 ,  0.60005543,  0.32673267,  0.16767806,\n",
       "        0.30033003,  0.22408027,  0.43355482])"
      ]
     },
     "execution_count": 142,
     "metadata": {},
     "output_type": "execute_result"
    }
   ],
   "source": [
    "# calculate the mean values of the scaled dataset\n",
    "\n",
    "data_minmax.mean(axis = 0)"
   ]
  },
  {
   "cell_type": "code",
   "execution_count": 143,
   "metadata": {},
   "outputs": [
    {
     "data": {
      "text/plain": [
       "((193, 13), (110, 13), (193,), (110,))"
      ]
     },
     "execution_count": 143,
     "metadata": {},
     "output_type": "execute_result"
    }
   ],
   "source": [
    "# divide the data into train and test sets, leave 36% of the data to testset\n",
    "\n",
    "x_train, x_test, y_train, y_test = train_test_split(\n",
    "    data_minmax, labels, test_size=0.36)\n",
    "\n",
    "# check the sizes of the variables\n",
    "\n",
    "x_train.shape, x_test.shape, y_train.shape, y_test.shape"
   ]
  },
  {
   "cell_type": "markdown",
   "metadata": {},
   "source": [
    "<h2> 5. Training and validation </h2>"
   ]
  },
  {
   "cell_type": "code",
   "execution_count": 144,
   "metadata": {},
   "outputs": [
    {
     "name": "stdout",
     "output_type": "stream",
     "text": [
      "Train on 193 samples, validate on 110 samples\n",
      "Epoch 1/100\n",
      "193/193 [==============================] - 1s 5ms/step - loss: 0.6935 - acc: 0.5596 - val_loss: 0.6667 - val_acc: 0.7273\n",
      "Epoch 2/100\n",
      "193/193 [==============================] - 0s 57us/step - loss: 0.6581 - acc: 0.7927 - val_loss: 0.6516 - val_acc: 0.7364\n",
      "Epoch 3/100\n",
      "193/193 [==============================] - 0s 52us/step - loss: 0.6365 - acc: 0.7617 - val_loss: 0.6350 - val_acc: 0.7636\n",
      "Epoch 4/100\n",
      "193/193 [==============================] - 0s 47us/step - loss: 0.6192 - acc: 0.7720 - val_loss: 0.6189 - val_acc: 0.8000\n",
      "Epoch 5/100\n",
      "193/193 [==============================] - 0s 62us/step - loss: 0.6039 - acc: 0.8031 - val_loss: 0.6045 - val_acc: 0.8182\n",
      "Epoch 6/100\n",
      "193/193 [==============================] - 0s 67us/step - loss: 0.5885 - acc: 0.8135 - val_loss: 0.5910 - val_acc: 0.8182\n",
      "Epoch 7/100\n",
      "193/193 [==============================] - 0s 67us/step - loss: 0.5737 - acc: 0.8135 - val_loss: 0.5776 - val_acc: 0.8091\n",
      "Epoch 8/100\n",
      "193/193 [==============================] - 0s 67us/step - loss: 0.5594 - acc: 0.8135 - val_loss: 0.5624 - val_acc: 0.8182\n",
      "Epoch 9/100\n",
      "193/193 [==============================] - 0s 73us/step - loss: 0.5455 - acc: 0.8238 - val_loss: 0.5485 - val_acc: 0.8182\n",
      "Epoch 10/100\n",
      "193/193 [==============================] - 0s 47us/step - loss: 0.5319 - acc: 0.8187 - val_loss: 0.5318 - val_acc: 0.8636\n",
      "Epoch 11/100\n",
      "193/193 [==============================] - 0s 73us/step - loss: 0.5209 - acc: 0.8290 - val_loss: 0.5177 - val_acc: 0.8545\n",
      "Epoch 12/100\n",
      "193/193 [==============================] - 0s 52us/step - loss: 0.5070 - acc: 0.8394 - val_loss: 0.5098 - val_acc: 0.8273\n",
      "Epoch 13/100\n",
      "193/193 [==============================] - 0s 67us/step - loss: 0.4957 - acc: 0.8238 - val_loss: 0.4942 - val_acc: 0.8545\n",
      "Epoch 14/100\n",
      "193/193 [==============================] - 0s 62us/step - loss: 0.4852 - acc: 0.8290 - val_loss: 0.4849 - val_acc: 0.8364\n",
      "Epoch 15/100\n",
      "193/193 [==============================] - 0s 78us/step - loss: 0.4746 - acc: 0.8342 - val_loss: 0.4717 - val_acc: 0.8364\n",
      "Epoch 16/100\n",
      "193/193 [==============================] - 0s 67us/step - loss: 0.4642 - acc: 0.8342 - val_loss: 0.4618 - val_acc: 0.8364\n",
      "Epoch 17/100\n",
      "193/193 [==============================] - 0s 67us/step - loss: 0.4567 - acc: 0.8238 - val_loss: 0.4494 - val_acc: 0.8636\n",
      "Epoch 18/100\n",
      "193/193 [==============================] - 0s 67us/step - loss: 0.4473 - acc: 0.8290 - val_loss: 0.4415 - val_acc: 0.8364\n",
      "Epoch 19/100\n",
      "193/193 [==============================] - 0s 57us/step - loss: 0.4389 - acc: 0.8238 - val_loss: 0.4321 - val_acc: 0.8545\n",
      "Epoch 20/100\n",
      "193/193 [==============================] - 0s 47us/step - loss: 0.4313 - acc: 0.8238 - val_loss: 0.4240 - val_acc: 0.8545\n",
      "Epoch 21/100\n",
      "193/193 [==============================] - 0s 47us/step - loss: 0.4245 - acc: 0.8290 - val_loss: 0.4201 - val_acc: 0.8182\n",
      "Epoch 22/100\n",
      "193/193 [==============================] - 0s 62us/step - loss: 0.4177 - acc: 0.8238 - val_loss: 0.4082 - val_acc: 0.8545\n",
      "Epoch 23/100\n",
      "193/193 [==============================] - 0s 62us/step - loss: 0.4111 - acc: 0.8446 - val_loss: 0.4025 - val_acc: 0.8636\n",
      "Epoch 24/100\n",
      "193/193 [==============================] - 0s 67us/step - loss: 0.4076 - acc: 0.8342 - val_loss: 0.4039 - val_acc: 0.8182\n",
      "Epoch 25/100\n",
      "193/193 [==============================] - 0s 67us/step - loss: 0.4060 - acc: 0.8394 - val_loss: 0.3985 - val_acc: 0.8273\n",
      "Epoch 26/100\n",
      "193/193 [==============================] - 0s 57us/step - loss: 0.3980 - acc: 0.8187 - val_loss: 0.3877 - val_acc: 0.8636\n",
      "Epoch 27/100\n",
      "193/193 [==============================] - 0s 57us/step - loss: 0.4000 - acc: 0.8549 - val_loss: 0.3838 - val_acc: 0.8636\n",
      "Epoch 28/100\n",
      "193/193 [==============================] - 0s 73us/step - loss: 0.3916 - acc: 0.8549 - val_loss: 0.3858 - val_acc: 0.8364\n",
      "Epoch 29/100\n",
      "193/193 [==============================] - 0s 130us/step - loss: 0.3867 - acc: 0.8342 - val_loss: 0.3782 - val_acc: 0.8636\n",
      "Epoch 30/100\n",
      "193/193 [==============================] - 0s 73us/step - loss: 0.3828 - acc: 0.8497 - val_loss: 0.3742 - val_acc: 0.8636\n",
      "Epoch 31/100\n",
      "193/193 [==============================] - 0s 73us/step - loss: 0.3797 - acc: 0.8446 - val_loss: 0.3744 - val_acc: 0.8545\n",
      "Epoch 32/100\n",
      "193/193 [==============================] - 0s 67us/step - loss: 0.3769 - acc: 0.8394 - val_loss: 0.3694 - val_acc: 0.8636\n",
      "Epoch 33/100\n",
      "193/193 [==============================] - 0s 62us/step - loss: 0.3753 - acc: 0.8497 - val_loss: 0.3691 - val_acc: 0.8636\n",
      "Epoch 34/100\n",
      "193/193 [==============================] - 0s 73us/step - loss: 0.3734 - acc: 0.8446 - val_loss: 0.3685 - val_acc: 0.8636\n",
      "Epoch 35/100\n",
      "193/193 [==============================] - 0s 52us/step - loss: 0.3716 - acc: 0.8446 - val_loss: 0.3652 - val_acc: 0.8636\n",
      "Epoch 36/100\n",
      "193/193 [==============================] - 0s 67us/step - loss: 0.3748 - acc: 0.8290 - val_loss: 0.3618 - val_acc: 0.8545\n",
      "Epoch 37/100\n",
      "193/193 [==============================] - 0s 67us/step - loss: 0.3680 - acc: 0.8549 - val_loss: 0.3597 - val_acc: 0.8545\n",
      "Epoch 38/100\n",
      "193/193 [==============================] - 0s 104us/step - loss: 0.3686 - acc: 0.8497 - val_loss: 0.3590 - val_acc: 0.8545\n",
      "Epoch 39/100\n",
      "193/193 [==============================] - 0s 73us/step - loss: 0.3639 - acc: 0.8497 - val_loss: 0.3574 - val_acc: 0.8636\n",
      "Epoch 40/100\n",
      "193/193 [==============================] - 0s 67us/step - loss: 0.3605 - acc: 0.8549 - val_loss: 0.3555 - val_acc: 0.8727\n",
      "Epoch 41/100\n",
      "193/193 [==============================] - 0s 83us/step - loss: 0.3605 - acc: 0.8549 - val_loss: 0.3548 - val_acc: 0.8727\n",
      "Epoch 42/100\n",
      "193/193 [==============================] - 0s 67us/step - loss: 0.3596 - acc: 0.8497 - val_loss: 0.3596 - val_acc: 0.8636\n",
      "Epoch 43/100\n",
      "193/193 [==============================] - 0s 78us/step - loss: 0.3594 - acc: 0.8394 - val_loss: 0.3566 - val_acc: 0.8636\n",
      "Epoch 44/100\n",
      "193/193 [==============================] - 0s 67us/step - loss: 0.3570 - acc: 0.8497 - val_loss: 0.3567 - val_acc: 0.8636\n",
      "Epoch 45/100\n",
      "193/193 [==============================] - 0s 62us/step - loss: 0.3542 - acc: 0.8549 - val_loss: 0.3529 - val_acc: 0.8636\n",
      "Epoch 46/100\n",
      "193/193 [==============================] - 0s 73us/step - loss: 0.3526 - acc: 0.8549 - val_loss: 0.3513 - val_acc: 0.8636\n",
      "Epoch 47/100\n",
      "193/193 [==============================] - 0s 73us/step - loss: 0.3510 - acc: 0.8549 - val_loss: 0.3524 - val_acc: 0.8636\n",
      "Epoch 48/100\n",
      "193/193 [==============================] - 0s 83us/step - loss: 0.3526 - acc: 0.8549 - val_loss: 0.3567 - val_acc: 0.8636\n",
      "Epoch 49/100\n",
      "193/193 [==============================] - 0s 78us/step - loss: 0.3503 - acc: 0.8446 - val_loss: 0.3508 - val_acc: 0.8636\n",
      "Epoch 50/100\n",
      "193/193 [==============================] - 0s 73us/step - loss: 0.3466 - acc: 0.8549 - val_loss: 0.3493 - val_acc: 0.8636\n",
      "Epoch 51/100\n",
      "193/193 [==============================] - 0s 99us/step - loss: 0.3452 - acc: 0.8549 - val_loss: 0.3511 - val_acc: 0.8636\n",
      "Epoch 52/100\n",
      "193/193 [==============================] - 0s 62us/step - loss: 0.3434 - acc: 0.8549 - val_loss: 0.3486 - val_acc: 0.8636\n",
      "Epoch 53/100\n",
      "193/193 [==============================] - 0s 67us/step - loss: 0.3457 - acc: 0.8601 - val_loss: 0.3556 - val_acc: 0.8636\n",
      "Epoch 54/100\n",
      "193/193 [==============================] - 0s 73us/step - loss: 0.3476 - acc: 0.8497 - val_loss: 0.3492 - val_acc: 0.8636\n",
      "Epoch 55/100\n",
      "193/193 [==============================] - 0s 62us/step - loss: 0.3405 - acc: 0.8549 - val_loss: 0.3452 - val_acc: 0.8636\n",
      "Epoch 56/100\n",
      "193/193 [==============================] - 0s 62us/step - loss: 0.3447 - acc: 0.8497 - val_loss: 0.3530 - val_acc: 0.8545\n",
      "Epoch 57/100\n",
      "193/193 [==============================] - 0s 124us/step - loss: 0.3484 - acc: 0.8446 - val_loss: 0.3510 - val_acc: 0.8636\n",
      "Epoch 58/100\n",
      "193/193 [==============================] - 0s 67us/step - loss: 0.3400 - acc: 0.8653 - val_loss: 0.3446 - val_acc: 0.8545\n",
      "Epoch 59/100\n",
      "193/193 [==============================] - 0s 57us/step - loss: 0.3364 - acc: 0.8549 - val_loss: 0.3451 - val_acc: 0.8545\n",
      "Epoch 60/100\n",
      "193/193 [==============================] - 0s 67us/step - loss: 0.3352 - acc: 0.8653 - val_loss: 0.3433 - val_acc: 0.8636\n",
      "Epoch 61/100\n"
     ]
    },
    {
     "name": "stdout",
     "output_type": "stream",
     "text": [
      "193/193 [==============================] - 0s 67us/step - loss: 0.3345 - acc: 0.8653 - val_loss: 0.3451 - val_acc: 0.8545\n",
      "Epoch 62/100\n",
      "193/193 [==============================] - 0s 78us/step - loss: 0.3328 - acc: 0.8653 - val_loss: 0.3444 - val_acc: 0.8545\n",
      "Epoch 63/100\n",
      "193/193 [==============================] - 0s 67us/step - loss: 0.3320 - acc: 0.8549 - val_loss: 0.3447 - val_acc: 0.8545\n",
      "Epoch 64/100\n",
      "193/193 [==============================] - 0s 67us/step - loss: 0.3316 - acc: 0.8601 - val_loss: 0.3451 - val_acc: 0.8545\n",
      "Epoch 65/100\n",
      "193/193 [==============================] - 0s 57us/step - loss: 0.3303 - acc: 0.8549 - val_loss: 0.3445 - val_acc: 0.8545\n",
      "Epoch 66/100\n",
      "193/193 [==============================] - 0s 67us/step - loss: 0.3300 - acc: 0.8705 - val_loss: 0.3464 - val_acc: 0.8545\n",
      "Epoch 67/100\n",
      "193/193 [==============================] - 0s 83us/step - loss: 0.3317 - acc: 0.8497 - val_loss: 0.3455 - val_acc: 0.8545\n",
      "Epoch 68/100\n",
      "193/193 [==============================] - 0s 73us/step - loss: 0.3295 - acc: 0.8601 - val_loss: 0.3419 - val_acc: 0.8545\n",
      "Epoch 69/100\n",
      "193/193 [==============================] - 0s 57us/step - loss: 0.3253 - acc: 0.8653 - val_loss: 0.3409 - val_acc: 0.8636\n",
      "Epoch 70/100\n",
      "193/193 [==============================] - 0s 62us/step - loss: 0.3273 - acc: 0.8601 - val_loss: 0.3484 - val_acc: 0.8545\n",
      "Epoch 71/100\n",
      "193/193 [==============================] - 0s 73us/step - loss: 0.3295 - acc: 0.8549 - val_loss: 0.3429 - val_acc: 0.8545\n",
      "Epoch 72/100\n",
      "193/193 [==============================] - 0s 73us/step - loss: 0.3225 - acc: 0.8653 - val_loss: 0.3423 - val_acc: 0.8545\n",
      "Epoch 73/100\n",
      "193/193 [==============================] - 0s 52us/step - loss: 0.3208 - acc: 0.8653 - val_loss: 0.3421 - val_acc: 0.8727\n",
      "Epoch 74/100\n",
      "193/193 [==============================] - 0s 47us/step - loss: 0.3205 - acc: 0.8653 - val_loss: 0.3427 - val_acc: 0.8545\n",
      "Epoch 75/100\n",
      "193/193 [==============================] - 0s 52us/step - loss: 0.3236 - acc: 0.8601 - val_loss: 0.3444 - val_acc: 0.8455\n",
      "Epoch 76/100\n",
      "193/193 [==============================] - 0s 47us/step - loss: 0.3276 - acc: 0.8601 - val_loss: 0.3402 - val_acc: 0.8727\n",
      "Epoch 77/100\n",
      "193/193 [==============================] - 0s 52us/step - loss: 0.3190 - acc: 0.8601 - val_loss: 0.3428 - val_acc: 0.8545\n",
      "Epoch 78/100\n",
      "193/193 [==============================] - 0s 52us/step - loss: 0.3174 - acc: 0.8601 - val_loss: 0.3398 - val_acc: 0.8727\n",
      "Epoch 79/100\n",
      "193/193 [==============================] - 0s 57us/step - loss: 0.3160 - acc: 0.8601 - val_loss: 0.3401 - val_acc: 0.8545\n",
      "Epoch 80/100\n",
      "193/193 [==============================] - 0s 41us/step - loss: 0.3165 - acc: 0.8653 - val_loss: 0.3422 - val_acc: 0.8545\n",
      "Epoch 81/100\n",
      "193/193 [==============================] - 0s 41us/step - loss: 0.3163 - acc: 0.8601 - val_loss: 0.3430 - val_acc: 0.8545\n",
      "Epoch 82/100\n",
      "193/193 [==============================] - 0s 57us/step - loss: 0.3161 - acc: 0.8653 - val_loss: 0.3418 - val_acc: 0.8545\n",
      "Epoch 83/100\n",
      "193/193 [==============================] - 0s 41us/step - loss: 0.3123 - acc: 0.8705 - val_loss: 0.3384 - val_acc: 0.8636\n",
      "Epoch 84/100\n",
      "193/193 [==============================] - 0s 47us/step - loss: 0.3134 - acc: 0.8705 - val_loss: 0.3446 - val_acc: 0.8545\n",
      "Epoch 85/100\n",
      "193/193 [==============================] - 0s 42us/step - loss: 0.3138 - acc: 0.8705 - val_loss: 0.3379 - val_acc: 0.8636\n",
      "Epoch 86/100\n",
      "193/193 [==============================] - 0s 47us/step - loss: 0.3113 - acc: 0.8705 - val_loss: 0.3406 - val_acc: 0.8545\n",
      "Epoch 87/100\n",
      "193/193 [==============================] - 0s 78us/step - loss: 0.3090 - acc: 0.8653 - val_loss: 0.3366 - val_acc: 0.8636\n",
      "Epoch 88/100\n",
      "193/193 [==============================] - 0s 67us/step - loss: 0.3069 - acc: 0.8653 - val_loss: 0.3353 - val_acc: 0.8636\n",
      "Epoch 89/100\n",
      "193/193 [==============================] - 0s 52us/step - loss: 0.3062 - acc: 0.8601 - val_loss: 0.3363 - val_acc: 0.8636\n",
      "Epoch 90/100\n",
      "193/193 [==============================] - 0s 57us/step - loss: 0.3061 - acc: 0.8808 - val_loss: 0.3421 - val_acc: 0.8545\n",
      "Epoch 91/100\n",
      "193/193 [==============================] - 0s 47us/step - loss: 0.3104 - acc: 0.8653 - val_loss: 0.3374 - val_acc: 0.8636\n",
      "Epoch 92/100\n",
      "193/193 [==============================] - 0s 47us/step - loss: 0.3055 - acc: 0.8653 - val_loss: 0.3397 - val_acc: 0.8545\n",
      "Epoch 93/100\n",
      "193/193 [==============================] - 0s 52us/step - loss: 0.3104 - acc: 0.8601 - val_loss: 0.3367 - val_acc: 0.8636\n",
      "Epoch 94/100\n",
      "193/193 [==============================] - 0s 47us/step - loss: 0.3016 - acc: 0.8808 - val_loss: 0.3358 - val_acc: 0.8636\n",
      "Epoch 95/100\n",
      "193/193 [==============================] - 0s 52us/step - loss: 0.3001 - acc: 0.8705 - val_loss: 0.3369 - val_acc: 0.8636\n",
      "Epoch 96/100\n",
      "193/193 [==============================] - 0s 52us/step - loss: 0.2987 - acc: 0.8705 - val_loss: 0.3376 - val_acc: 0.8545\n",
      "Epoch 97/100\n",
      "193/193 [==============================] - ETA: 0s - loss: 0.2914 - acc: 0.875 - 0s 52us/step - loss: 0.2987 - acc: 0.8808 - val_loss: 0.3410 - val_acc: 0.8545\n",
      "Epoch 98/100\n",
      "193/193 [==============================] - 0s 47us/step - loss: 0.2983 - acc: 0.8653 - val_loss: 0.3374 - val_acc: 0.8545\n",
      "Epoch 99/100\n",
      "193/193 [==============================] - 0s 57us/step - loss: 0.3020 - acc: 0.8808 - val_loss: 0.3448 - val_acc: 0.8273\n",
      "Epoch 100/100\n",
      "193/193 [==============================] - 0s 52us/step - loss: 0.3059 - acc: 0.8653 - val_loss: 0.3392 - val_acc: 0.8545\n"
     ]
    }
   ],
   "source": [
    "# build and train the model.\n",
    "\n",
    "model = []\n",
    "model = models.Sequential()\n",
    "model.add(layers.Dense(64, activation = 'relu', input_dim = 13)) \n",
    "model.add(layers.Dense(64, activation = 'relu'))\n",
    "model.add(layers.Dense(1, activation = 'sigmoid'))\n",
    "\n",
    "model.compile(loss = 'binary_crossentropy',\n",
    "              optimizer = 'rmsprop',\n",
    "              metrics = ['accuracy'])\n",
    "\n",
    "# N = number of epochs\n",
    "N = 100\n",
    "h = model.fit(x_train, y_train,\n",
    "              epochs = N,\n",
    "              batch_size = 128,\n",
    "              validation_data=(x_test, y_test))"
   ]
  },
  {
   "cell_type": "markdown",
   "metadata": {},
   "source": [
    "<h2> 6. Evaluation </h2>"
   ]
  },
  {
   "cell_type": "code",
   "execution_count": 151,
   "metadata": {},
   "outputs": [
    {
     "data": {
      "image/png": "[encoded data removed]",
      "text/plain": [
       "<matplotlib.figure.Figure at 0x1a055f11c18>"
      ]
     },
     "metadata": {},
     "output_type": "display_data"
    },
    {
     "data": {
      "image/png": "[encoded data removed]",
      "text/plain": [
       "<matplotlib.figure.Figure at 0x1a05b010f28>"
      ]
     },
     "metadata": {},
     "output_type": "display_data"
    },
    {
     "name": "stdout",
     "output_type": "stream",
     "text": [
      "\r",
      "110/110 [==============================] - 0s 18us/step\n"
     ]
    },
    {
     "data": {
      "text/plain": [
       "[0.34698668122291565, 0.84545457363128662]"
      ]
     },
     "execution_count": 151,
     "metadata": {},
     "output_type": "execute_result"
    }
   ],
   "source": [
    "# plot the results\n",
    "\n",
    "epochs = range(1, N + 1)\n",
    "acc = h.history['acc']\n",
    "val_acc = h.history['val_acc']\n",
    "loss = h.history['loss']\n",
    "val_loss = h.history['val_loss']\n",
    "\n",
    "# accuracy plot\n",
    "\n",
    "plt.figure(figsize = (20, 5))\n",
    "plt.plot(epochs, acc, 'bo', label='Training')\n",
    "plt.plot(epochs, val_acc, 'b', label = 'Validation')\n",
    "plt.xlabel('Epochs')\n",
    "plt.ylabel('Accuracy')\n",
    "plt.ylim([0, 1])\n",
    "plt.grid()\n",
    "plt.legend()\n",
    "plt.show()\n",
    "\n",
    "# Loss plot\n",
    "\n",
    "plt.figure(figsize = (20, 5))\n",
    "plt.plot(epochs, loss, 'bo', label='Training')\n",
    "plt.plot(epochs, val_loss, 'b', label = 'Validation')\n",
    "plt.xlabel('Epochs')\n",
    "plt.ylabel('Loss')\n",
    "plt.ylim([0.2, 0.8])\n",
    "plt.grid()\n",
    "plt.legend()\n",
    "plt.show()\n",
    "\n",
    "score = model.evaluate(x_test, y_test, batch_size = 128)\n",
    "score"
   ]
  },
  {
   "cell_type": "markdown",
   "metadata": {},
   "source": [
    "Under here we try to use the traincde network in a practical setting and generate the likelihood of a person actually having a heart disease by using the predict method."
   ]
  },
  {
   "cell_type": "code",
   "execution_count": 146,
   "metadata": {},
   "outputs": [
    {
     "data": {
      "text/plain": [
       "array([[ 0.24758857],\n",
       "       [ 0.87931401],\n",
       "       [ 0.98295367],\n",
       "       [ 0.99485564],\n",
       "       [ 0.27953476],\n",
       "       [ 0.09898409],\n",
       "       [ 0.38532177],\n",
       "       [ 0.71455973],\n",
       "       [ 0.99017769],\n",
       "       [ 0.9611463 ],\n",
       "       [ 0.06614269],\n",
       "       [ 0.95210534],\n",
       "       [ 0.1506629 ],\n",
       "       [ 0.61317933],\n",
       "       [ 0.31484497],\n",
       "       [ 0.04528483],\n",
       "       [ 0.0576498 ],\n",
       "       [ 0.86659318],\n",
       "       [ 0.95277125],\n",
       "       [ 0.47851408],\n",
       "       [ 0.02601009],\n",
       "       [ 0.44230911],\n",
       "       [ 0.06751491],\n",
       "       [ 0.06539154],\n",
       "       [ 0.97928542],\n",
       "       [ 0.07593402],\n",
       "       [ 0.37455183],\n",
       "       [ 0.94073379],\n",
       "       [ 0.99432606],\n",
       "       [ 0.26053259],\n",
       "       [ 0.11385487],\n",
       "       [ 0.17496866],\n",
       "       [ 0.18155809],\n",
       "       [ 0.0398792 ],\n",
       "       [ 0.36729589],\n",
       "       [ 0.0688078 ],\n",
       "       [ 0.08653677],\n",
       "       [ 0.99078417],\n",
       "       [ 0.51564413],\n",
       "       [ 0.97482002],\n",
       "       [ 0.28163224],\n",
       "       [ 0.97567153],\n",
       "       [ 0.67828572],\n",
       "       [ 0.4810423 ],\n",
       "       [ 0.55894375],\n",
       "       [ 0.2940492 ],\n",
       "       [ 0.17829587],\n",
       "       [ 0.37503922],\n",
       "       [ 0.11122938],\n",
       "       [ 0.06073531],\n",
       "       [ 0.07188899],\n",
       "       [ 0.08480001],\n",
       "       [ 0.95410377],\n",
       "       [ 0.04633011],\n",
       "       [ 0.12687743],\n",
       "       [ 0.03154525],\n",
       "       [ 0.97803062],\n",
       "       [ 0.04654005],\n",
       "       [ 0.12424237],\n",
       "       [ 0.82215011],\n",
       "       [ 0.86747837],\n",
       "       [ 0.66264927],\n",
       "       [ 0.03381106],\n",
       "       [ 0.96963543],\n",
       "       [ 0.78172821],\n",
       "       [ 0.11068269],\n",
       "       [ 0.09063161],\n",
       "       [ 0.04868649],\n",
       "       [ 0.2644363 ],\n",
       "       [ 0.02621343],\n",
       "       [ 0.63879853],\n",
       "       [ 0.26093274],\n",
       "       [ 0.94722635],\n",
       "       [ 0.98796535],\n",
       "       [ 0.2621043 ],\n",
       "       [ 0.40415516],\n",
       "       [ 0.03946059],\n",
       "       [ 0.07201581],\n",
       "       [ 0.25449544],\n",
       "       [ 0.2030548 ],\n",
       "       [ 0.81606287],\n",
       "       [ 0.80344987],\n",
       "       [ 0.94269913],\n",
       "       [ 0.22964914],\n",
       "       [ 0.96833271],\n",
       "       [ 0.03676652],\n",
       "       [ 0.08312185],\n",
       "       [ 0.04713763],\n",
       "       [ 0.15073419],\n",
       "       [ 0.93503183],\n",
       "       [ 0.35526541],\n",
       "       [ 0.89073014],\n",
       "       [ 0.09114779],\n",
       "       [ 0.64417088],\n",
       "       [ 0.99400157],\n",
       "       [ 0.0690215 ],\n",
       "       [ 0.41862217],\n",
       "       [ 0.46563494],\n",
       "       [ 0.31036898],\n",
       "       [ 0.78330922],\n",
       "       [ 0.22954214],\n",
       "       [ 0.87248361],\n",
       "       [ 0.33620861],\n",
       "       [ 0.05142025],\n",
       "       [ 0.63525897],\n",
       "       [ 0.77351141],\n",
       "       [ 0.06259178],\n",
       "       [ 0.91522211],\n",
       "       [ 0.07088429],\n",
       "       [ 0.0814513 ]], dtype=float32)"
      ]
     },
     "execution_count": 146,
     "metadata": {},
     "output_type": "execute_result"
    }
   ],
   "source": [
    "# generate the likelyhood of reviews being positive\n",
    "\n",
    "model.predict(x_test)"
   ]
  },
  {
   "cell_type": "markdown",
   "metadata": {},
   "source": [
    "As you can see the training accuracy incereases with every epoch and the training loss decreases with every epoch. From the plots it is possible to see that around the 40th epoch the model is trained to it's maximum and the values are not changing tha much anymora so it is probably best to stop training after 40 epochs. The validation loss and accuracy do not seem to peak at any point compared to the training loss and accuracy so this is not the caes of overfitting the model. If it was though, the best way to prevent that would be to stp training after the number of epochs where the validation loss and accuracy start to peak."
   ]
  },
  {
   "cell_type": "markdown",
   "metadata": {},
   "source": [
    "<h2> 7. Results and discussion </h2>"
   ]
  },
  {
   "cell_type": "markdown",
   "metadata": {},
   "source": [
    "Now we train a new network from scratch fo 40 epochs and evaluate it on the test data."
   ]
  },
  {
   "cell_type": "code",
   "execution_count": 150,
   "metadata": {},
   "outputs": [
    {
     "data": {
      "image/png": "[encoded data removed]",
      "text/plain": [
       "<matplotlib.figure.Figure at 0x1a05a73aba8>"
      ]
     },
     "metadata": {},
     "output_type": "display_data"
    },
    {
     "data": {
      "image/png": "[encoded data removed]",
      "text/plain": [
       "<matplotlib.figure.Figure at 0x1a05aa44e80>"
      ]
     },
     "metadata": {},
     "output_type": "display_data"
    },
    {
     "name": "stdout",
     "output_type": "stream",
     "text": [
      "\r",
      "110/110 [==============================] - 0s 9us/step\n"
     ]
    },
    {
     "data": {
      "text/plain": [
       "[0.34698668122291565, 0.84545457363128662]"
      ]
     },
     "execution_count": 150,
     "metadata": {},
     "output_type": "execute_result"
    }
   ],
   "source": [
    "model = []\n",
    "model = models.Sequential()\n",
    "model.add(layers.Dense(64, activation = 'relu', input_dim = 13)) \n",
    "model.add(layers.Dense(64, activation = 'relu'))\n",
    "model.add(layers.Dense(1, activation = 'sigmoid'))\n",
    "\n",
    "model.compile(loss = 'binary_crossentropy',\n",
    "              optimizer = 'rmsprop',\n",
    "              metrics = ['accuracy'])\n",
    "\n",
    "N = 70\n",
    "h = model.fit(x_train, y_train,\n",
    "              epochs = N,\n",
    "              verbose = 0,\n",
    "              batch_size = 128,\n",
    "              validation_data=(x_test, y_test))\n",
    "\n",
    "# plot the results\n",
    "\n",
    "epochs = range(1, N + 1)\n",
    "acc = h.history['acc']\n",
    "val_acc = h.history['val_acc']\n",
    "loss = h.history['loss']\n",
    "val_loss = h.history['val_loss']\n",
    "\n",
    "# accuracy plot\n",
    "\n",
    "plt.figure(figsize = (20, 5))\n",
    "plt.plot(epochs, acc, 'bo', label='Training')\n",
    "plt.plot(epochs, val_acc, 'b', label = 'Validation')\n",
    "plt.xlabel('Epochs')\n",
    "plt.ylabel('Accuracy')\n",
    "plt.ylim([0, 1])\n",
    "plt.grid()\n",
    "plt.legend()\n",
    "plt.show()\n",
    "\n",
    "# Loss plot\n",
    "\n",
    "plt.figure(figsize = (20, 5))\n",
    "plt.plot(epochs, loss, 'bo', label='Training')\n",
    "plt.plot(epochs, val_loss, 'b', label = 'Validation')\n",
    "plt.xlabel('Epochs')\n",
    "plt.ylabel('Loss')\n",
    "plt.ylim([0.2, 0.8])\n",
    "plt.grid()\n",
    "plt.legend()\n",
    "plt.show()\n",
    "\n",
    "score = model.evaluate(x_test, y_test, batch_size = 128)\n",
    "score\n"
   ]
  },
  {
   "cell_type": "markdown",
   "metadata": {},
   "source": [
    "By cutting the number of epochs from 100 to 40, the accuracy did not change so I think it's safe to say that 40 epochs is enough for this model. The accuracy would be better if it were over 95% so this is not probably the best model."
   ]
  },
  {
   "cell_type": "markdown",
   "metadata": {},
   "source": [
    "<h2> 8. Conclusions </h2>"
   ]
  },
  {
   "cell_type": "markdown",
   "metadata": {},
   "source": [
    "This assignment was interesting and well thought but still difficult. I left the using of the unprocessed data out because I faced some difficulties with it and attacking those problems were too time consuming for me to finish the assignment in time. I'm not sure if I understood everything correctly but tried my best. "
   ]
  },
  {
   "cell_type": "code",
   "execution_count": null,
   "metadata": {
    "collapsed": true
   },
   "outputs": [],
   "source": []
  }
 ],
 "metadata": {
  "kernelspec": {
   "display_name": "Python 3",
   "language": "python",
   "name": "python3"
  },
  "language_info": {
   "codemirror_mode": {
    "name": "ipython",
    "version": 3
   },
   "file_extension": ".py",
   "mimetype": "text/x-python",
   "name": "python",
   "nbconvert_exporter": "python",
   "pygments_lexer": "ipython3",
   "version": "3.6.3"
  }
 },
 "nbformat": 4,
 "nbformat_minor": 2
}
