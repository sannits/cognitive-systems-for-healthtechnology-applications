{
 "cells": [
  {
   "cell_type": "markdown",
   "metadata": {},
   "source": [
    "# Case 1. Heart Disease Classification\n",
    "Sanni Tolonen<br>\n",
    "4.2.2018<br>\n",
    "Cognitive Systems for Health Technology Applications, Spring 2018<br>\n",
    "Helsinki Metropolia University of Applied Sciences"
   ]
  },
  {
   "cell_type": "markdown",
   "metadata": {},
   "source": [
    "<h2>1. Objectives</h2><br>\n",
    "The aim of this assignment is to learn to read data from externals sources using panda’s iofunctions<br>\n",
    "and use keras.io dense neural networks to make an expert system to support in\n",
    "diagnostic decision making.\n"
   ]
  },
  {
   "cell_type": "markdown",
   "metadata": {},
   "source": [
    "<h2> 2. Required libraries </h2>"
   ]
  },
  {
   "cell_type": "code",
   "execution_count": 79,
   "metadata": {},
   "outputs": [],
   "source": [
    "# import libraries\n",
    "\n",
    "import numpy as np\n",
    "import matplotlib.pyplot as plt\n",
    "%matplotlib inline\n",
    "\n",
    "import pandas as pd\n",
    "\n",
    "import sklearn as sk\n",
    "from sklearn import preprocessing\n",
    "from sklearn.model_selection import train_test_split\n",
    "\n",
    "import keras\n",
    "from keras.models import Sequential\n",
    "from keras.layers import Dense, Activation, Dropout\n",
    "from keras import models\n",
    "from keras import layers"
   ]
  },
  {
   "cell_type": "code",
   "execution_count": 80,
   "metadata": {},
   "outputs": [
    {
     "name": "stdout",
     "output_type": "stream",
     "text": [
      "numpy: 1.12.1\n",
      "pandas: 0.22.0\n",
      "sklearn: 0.19.1\n",
      "keras: 2.1.2\n"
     ]
    }
   ],
   "source": [
    "# check the versions\n",
    "\n",
    "print('numpy:', np.__version__)\n",
    "print('pandas:', pd.__version__)\n",
    "print('sklearn:', sk.__version__)\n",
    "print('keras:', keras.__version__)"
   ]
  },
  {
   "cell_type": "markdown",
   "metadata": {},
   "source": [
    "<h2> 3. Data description and preprocessing </h2>"
   ]
  },
  {
   "cell_type": "markdown",
   "metadata": {},
   "source": [
    "Starting with the processed data.The data was collected from the Cleveland Clinic Foundation. This database contains 76 attributes, but all published experiments refer to using a subset of 14 of them. The \"goal\" field refers to the presence of heart disease in the patient.  It is integer valued from 0 (no presence) to 4. Experiments with the Cleveland database have concentrated on simply attempting to distinguish presence (values 1,2,3,4) from absence (value 0).<br>The 14 used attributes are:\n",
    "1. age: age in years      \n",
    "2. sex: sex (1 = male; 0 = female)      \n",
    "3. cp: chest pain type\n",
    "        Value 1: typical angina\n",
    "        Value 2: atypical angina\n",
    "        Value 3: non-anginal pain\n",
    "        Value 4: asymptomatic        \n",
    "4. trestbps: resting blood pressure (in mm Hg on admission to the hospital)\n",
    "5. chol: serum cholestoral in mg/dl      \n",
    "6. fbs: fasting blood sugar > 120 mg/dl  (1 = true; 0 = false)       \n",
    "7. restecg: resting electrocardiographic results\n",
    "        Value 0: normal\n",
    "        Value 1: having ST-T wave abnormality (T wave inversions and/or ST \n",
    "                 elevation or depression of > 0.05 mV)\n",
    "        Value 2: showing probable or definite left ventricular hypertrophy\n",
    "                 by Estes' criteria   \n",
    "8. thalach: maximum heart rate achieved   \n",
    "9. exang: exercise induced angina (1 = yes; 0 = no)    \n",
    "10. oldpeak: ST depression induced by exercise relative to rest   \n",
    "11. slope: the slope of the peak exercise ST segment\n",
    "        Value 1: upsloping\n",
    "        Value 2: flat\n",
    "        Value 3: downsloping     \n",
    "12. ca: number of major vessels (0-3) colored by flourosopy       \n",
    "13. thal: 3 = normal; 6 = fixed defect; 7 = reversable defect      \n",
    "14. num: diagnosis of heart disease (angiographic disease status)\n",
    "        Value 0: < 50% diameter narrowing\n",
    "        Value 1: > 50% diameter narrowing\n",
    "        (in any major vessel: attributes 59 through 68 are vessels)\n",
    "        \n",
    "Number of instances in this database is 303. Missing Attribute Values are distinguished with value -9.0.<br>\n",
    "Under here you can see the first ten lines of the database."
   ]
  },
  {
   "cell_type": "code",
   "execution_count": 81,
   "metadata": {},
   "outputs": [
    {
     "data": {
      "text/html": [
       "<div>\n",
       "<style scoped>\n",
       "    .dataframe tbody tr th:only-of-type {\n",
       "        vertical-align: middle;\n",
       "    }\n",
       "\n",
       "    .dataframe tbody tr th {\n",
       "        vertical-align: top;\n",
       "    }\n",
       "\n",
       "    .dataframe thead th {\n",
       "        text-align: right;\n",
       "    }\n",
       "</style>\n",
       "<table border=\"1\" class=\"dataframe\">\n",
       "  <thead>\n",
       "    <tr style=\"text-align: right;\">\n",
       "      <th></th>\n",
       "      <th>age</th>\n",
       "      <th>sex</th>\n",
       "      <th>cp</th>\n",
       "      <th>trestbps</th>\n",
       "      <th>chol</th>\n",
       "      <th>fbs</th>\n",
       "      <th>restecg</th>\n",
       "      <th>thalach</th>\n",
       "      <th>exang</th>\n",
       "      <th>oldpeak</th>\n",
       "      <th>slope</th>\n",
       "      <th>ca</th>\n",
       "      <th>thal</th>\n",
       "      <th>num</th>\n",
       "    </tr>\n",
       "  </thead>\n",
       "  <tbody>\n",
       "    <tr>\n",
       "      <th>0</th>\n",
       "      <td>63.0</td>\n",
       "      <td>1.0</td>\n",
       "      <td>1.0</td>\n",
       "      <td>145.0</td>\n",
       "      <td>233.0</td>\n",
       "      <td>1.0</td>\n",
       "      <td>2.0</td>\n",
       "      <td>150.0</td>\n",
       "      <td>0.0</td>\n",
       "      <td>2.3</td>\n",
       "      <td>3.0</td>\n",
       "      <td>0.0</td>\n",
       "      <td>6.0</td>\n",
       "      <td>0</td>\n",
       "    </tr>\n",
       "    <tr>\n",
       "      <th>1</th>\n",
       "      <td>67.0</td>\n",
       "      <td>1.0</td>\n",
       "      <td>4.0</td>\n",
       "      <td>160.0</td>\n",
       "      <td>286.0</td>\n",
       "      <td>0.0</td>\n",
       "      <td>2.0</td>\n",
       "      <td>108.0</td>\n",
       "      <td>1.0</td>\n",
       "      <td>1.5</td>\n",
       "      <td>2.0</td>\n",
       "      <td>3.0</td>\n",
       "      <td>3.0</td>\n",
       "      <td>2</td>\n",
       "    </tr>\n",
       "    <tr>\n",
       "      <th>2</th>\n",
       "      <td>67.0</td>\n",
       "      <td>1.0</td>\n",
       "      <td>4.0</td>\n",
       "      <td>120.0</td>\n",
       "      <td>229.0</td>\n",
       "      <td>0.0</td>\n",
       "      <td>2.0</td>\n",
       "      <td>129.0</td>\n",
       "      <td>1.0</td>\n",
       "      <td>2.6</td>\n",
       "      <td>2.0</td>\n",
       "      <td>2.0</td>\n",
       "      <td>7.0</td>\n",
       "      <td>1</td>\n",
       "    </tr>\n",
       "    <tr>\n",
       "      <th>3</th>\n",
       "      <td>37.0</td>\n",
       "      <td>1.0</td>\n",
       "      <td>3.0</td>\n",
       "      <td>130.0</td>\n",
       "      <td>250.0</td>\n",
       "      <td>0.0</td>\n",
       "      <td>0.0</td>\n",
       "      <td>187.0</td>\n",
       "      <td>0.0</td>\n",
       "      <td>3.5</td>\n",
       "      <td>3.0</td>\n",
       "      <td>0.0</td>\n",
       "      <td>3.0</td>\n",
       "      <td>0</td>\n",
       "    </tr>\n",
       "    <tr>\n",
       "      <th>4</th>\n",
       "      <td>41.0</td>\n",
       "      <td>0.0</td>\n",
       "      <td>2.0</td>\n",
       "      <td>130.0</td>\n",
       "      <td>204.0</td>\n",
       "      <td>0.0</td>\n",
       "      <td>2.0</td>\n",
       "      <td>172.0</td>\n",
       "      <td>0.0</td>\n",
       "      <td>1.4</td>\n",
       "      <td>1.0</td>\n",
       "      <td>0.0</td>\n",
       "      <td>3.0</td>\n",
       "      <td>0</td>\n",
       "    </tr>\n",
       "    <tr>\n",
       "      <th>5</th>\n",
       "      <td>56.0</td>\n",
       "      <td>1.0</td>\n",
       "      <td>2.0</td>\n",
       "      <td>120.0</td>\n",
       "      <td>236.0</td>\n",
       "      <td>0.0</td>\n",
       "      <td>0.0</td>\n",
       "      <td>178.0</td>\n",
       "      <td>0.0</td>\n",
       "      <td>0.8</td>\n",
       "      <td>1.0</td>\n",
       "      <td>0.0</td>\n",
       "      <td>3.0</td>\n",
       "      <td>0</td>\n",
       "    </tr>\n",
       "    <tr>\n",
       "      <th>6</th>\n",
       "      <td>62.0</td>\n",
       "      <td>0.0</td>\n",
       "      <td>4.0</td>\n",
       "      <td>140.0</td>\n",
       "      <td>268.0</td>\n",
       "      <td>0.0</td>\n",
       "      <td>2.0</td>\n",
       "      <td>160.0</td>\n",
       "      <td>0.0</td>\n",
       "      <td>3.6</td>\n",
       "      <td>3.0</td>\n",
       "      <td>2.0</td>\n",
       "      <td>3.0</td>\n",
       "      <td>3</td>\n",
       "    </tr>\n",
       "    <tr>\n",
       "      <th>7</th>\n",
       "      <td>57.0</td>\n",
       "      <td>0.0</td>\n",
       "      <td>4.0</td>\n",
       "      <td>120.0</td>\n",
       "      <td>354.0</td>\n",
       "      <td>0.0</td>\n",
       "      <td>0.0</td>\n",
       "      <td>163.0</td>\n",
       "      <td>1.0</td>\n",
       "      <td>0.6</td>\n",
       "      <td>1.0</td>\n",
       "      <td>0.0</td>\n",
       "      <td>3.0</td>\n",
       "      <td>0</td>\n",
       "    </tr>\n",
       "    <tr>\n",
       "      <th>8</th>\n",
       "      <td>63.0</td>\n",
       "      <td>1.0</td>\n",
       "      <td>4.0</td>\n",
       "      <td>130.0</td>\n",
       "      <td>254.0</td>\n",
       "      <td>0.0</td>\n",
       "      <td>2.0</td>\n",
       "      <td>147.0</td>\n",
       "      <td>0.0</td>\n",
       "      <td>1.4</td>\n",
       "      <td>2.0</td>\n",
       "      <td>1.0</td>\n",
       "      <td>7.0</td>\n",
       "      <td>2</td>\n",
       "    </tr>\n",
       "    <tr>\n",
       "      <th>9</th>\n",
       "      <td>53.0</td>\n",
       "      <td>1.0</td>\n",
       "      <td>4.0</td>\n",
       "      <td>140.0</td>\n",
       "      <td>203.0</td>\n",
       "      <td>1.0</td>\n",
       "      <td>2.0</td>\n",
       "      <td>155.0</td>\n",
       "      <td>1.0</td>\n",
       "      <td>3.1</td>\n",
       "      <td>3.0</td>\n",
       "      <td>0.0</td>\n",
       "      <td>7.0</td>\n",
       "      <td>1</td>\n",
       "    </tr>\n",
       "  </tbody>\n",
       "</table>\n",
       "</div>"
      ],
      "text/plain": [
       "    age  sex   cp  trestbps   chol  fbs  restecg  thalach  exang  oldpeak  \\\n",
       "0  63.0  1.0  1.0     145.0  233.0  1.0      2.0    150.0    0.0      2.3   \n",
       "1  67.0  1.0  4.0     160.0  286.0  0.0      2.0    108.0    1.0      1.5   \n",
       "2  67.0  1.0  4.0     120.0  229.0  0.0      2.0    129.0    1.0      2.6   \n",
       "3  37.0  1.0  3.0     130.0  250.0  0.0      0.0    187.0    0.0      3.5   \n",
       "4  41.0  0.0  2.0     130.0  204.0  0.0      2.0    172.0    0.0      1.4   \n",
       "5  56.0  1.0  2.0     120.0  236.0  0.0      0.0    178.0    0.0      0.8   \n",
       "6  62.0  0.0  4.0     140.0  268.0  0.0      2.0    160.0    0.0      3.6   \n",
       "7  57.0  0.0  4.0     120.0  354.0  0.0      0.0    163.0    1.0      0.6   \n",
       "8  63.0  1.0  4.0     130.0  254.0  0.0      2.0    147.0    0.0      1.4   \n",
       "9  53.0  1.0  4.0     140.0  203.0  1.0      2.0    155.0    1.0      3.1   \n",
       "\n",
       "   slope   ca  thal  num  \n",
       "0    3.0  0.0   6.0    0  \n",
       "1    2.0  3.0   3.0    2  \n",
       "2    2.0  2.0   7.0    1  \n",
       "3    3.0  0.0   3.0    0  \n",
       "4    1.0  0.0   3.0    0  \n",
       "5    1.0  0.0   3.0    0  \n",
       "6    3.0  2.0   3.0    3  \n",
       "7    1.0  0.0   3.0    0  \n",
       "8    2.0  1.0   7.0    2  \n",
       "9    3.0  0.0   7.0    1  "
      ]
     },
     "execution_count": 81,
     "metadata": {},
     "output_type": "execute_result"
    }
   ],
   "source": [
    "# location of the dataset\n",
    "\n",
    "filename = 'https://archive.ics.uci.edu/ml/machine-learning-databases/heart-disease/processed.cleveland.data'\n",
    "\n",
    "# column names for the data\n",
    "\n",
    "colnames = [\"age\", \"sex\", \"cp\", \"trestbps\",\"chol\",\"fbs\",\"restecg\",\"thalach\",\"exang\",\"oldpeak\",\"slope\",\"ca\",\"thal\",\"num\"]\n",
    "\n",
    "# read the data to data frame\n",
    "\n",
    "df = pd.read_csv(filename,\n",
    "                names=colnames,\n",
    "                na_values='?')\n",
    "\n",
    "# print the first ten lines of the data\n",
    "\n",
    "df.head(10)"
   ]
  },
  {
   "cell_type": "markdown",
   "metadata": {},
   "source": [
    "Under here you can see the descriptive statistics of the data."
   ]
  },
  {
   "cell_type": "code",
   "execution_count": 82,
   "metadata": {},
   "outputs": [
    {
     "data": {
      "text/html": [
       "<div>\n",
       "<style scoped>\n",
       "    .dataframe tbody tr th:only-of-type {\n",
       "        vertical-align: middle;\n",
       "    }\n",
       "\n",
       "    .dataframe tbody tr th {\n",
       "        vertical-align: top;\n",
       "    }\n",
       "\n",
       "    .dataframe thead th {\n",
       "        text-align: right;\n",
       "    }\n",
       "</style>\n",
       "<table border=\"1\" class=\"dataframe\">\n",
       "  <thead>\n",
       "    <tr style=\"text-align: right;\">\n",
       "      <th></th>\n",
       "      <th>age</th>\n",
       "      <th>sex</th>\n",
       "      <th>cp</th>\n",
       "      <th>trestbps</th>\n",
       "      <th>chol</th>\n",
       "      <th>fbs</th>\n",
       "      <th>restecg</th>\n",
       "      <th>thalach</th>\n",
       "      <th>exang</th>\n",
       "      <th>oldpeak</th>\n",
       "      <th>slope</th>\n",
       "      <th>ca</th>\n",
       "      <th>thal</th>\n",
       "      <th>num</th>\n",
       "    </tr>\n",
       "  </thead>\n",
       "  <tbody>\n",
       "    <tr>\n",
       "      <th>count</th>\n",
       "      <td>303.000000</td>\n",
       "      <td>303.000000</td>\n",
       "      <td>303.000000</td>\n",
       "      <td>303.000000</td>\n",
       "      <td>303.000000</td>\n",
       "      <td>303.000000</td>\n",
       "      <td>303.000000</td>\n",
       "      <td>303.000000</td>\n",
       "      <td>303.000000</td>\n",
       "      <td>303.000000</td>\n",
       "      <td>303.000000</td>\n",
       "      <td>299.000000</td>\n",
       "      <td>301.000000</td>\n",
       "      <td>303.000000</td>\n",
       "    </tr>\n",
       "    <tr>\n",
       "      <th>mean</th>\n",
       "      <td>54.438944</td>\n",
       "      <td>0.679868</td>\n",
       "      <td>3.158416</td>\n",
       "      <td>131.689769</td>\n",
       "      <td>246.693069</td>\n",
       "      <td>0.148515</td>\n",
       "      <td>0.990099</td>\n",
       "      <td>149.607261</td>\n",
       "      <td>0.326733</td>\n",
       "      <td>1.039604</td>\n",
       "      <td>1.600660</td>\n",
       "      <td>0.672241</td>\n",
       "      <td>4.734219</td>\n",
       "      <td>0.937294</td>\n",
       "    </tr>\n",
       "    <tr>\n",
       "      <th>std</th>\n",
       "      <td>9.038662</td>\n",
       "      <td>0.467299</td>\n",
       "      <td>0.960126</td>\n",
       "      <td>17.599748</td>\n",
       "      <td>51.776918</td>\n",
       "      <td>0.356198</td>\n",
       "      <td>0.994971</td>\n",
       "      <td>22.875003</td>\n",
       "      <td>0.469794</td>\n",
       "      <td>1.161075</td>\n",
       "      <td>0.616226</td>\n",
       "      <td>0.937438</td>\n",
       "      <td>1.939706</td>\n",
       "      <td>1.228536</td>\n",
       "    </tr>\n",
       "    <tr>\n",
       "      <th>min</th>\n",
       "      <td>29.000000</td>\n",
       "      <td>0.000000</td>\n",
       "      <td>1.000000</td>\n",
       "      <td>94.000000</td>\n",
       "      <td>126.000000</td>\n",
       "      <td>0.000000</td>\n",
       "      <td>0.000000</td>\n",
       "      <td>71.000000</td>\n",
       "      <td>0.000000</td>\n",
       "      <td>0.000000</td>\n",
       "      <td>1.000000</td>\n",
       "      <td>0.000000</td>\n",
       "      <td>3.000000</td>\n",
       "      <td>0.000000</td>\n",
       "    </tr>\n",
       "    <tr>\n",
       "      <th>25%</th>\n",
       "      <td>48.000000</td>\n",
       "      <td>0.000000</td>\n",
       "      <td>3.000000</td>\n",
       "      <td>120.000000</td>\n",
       "      <td>211.000000</td>\n",
       "      <td>0.000000</td>\n",
       "      <td>0.000000</td>\n",
       "      <td>133.500000</td>\n",
       "      <td>0.000000</td>\n",
       "      <td>0.000000</td>\n",
       "      <td>1.000000</td>\n",
       "      <td>0.000000</td>\n",
       "      <td>3.000000</td>\n",
       "      <td>0.000000</td>\n",
       "    </tr>\n",
       "    <tr>\n",
       "      <th>50%</th>\n",
       "      <td>56.000000</td>\n",
       "      <td>1.000000</td>\n",
       "      <td>3.000000</td>\n",
       "      <td>130.000000</td>\n",
       "      <td>241.000000</td>\n",
       "      <td>0.000000</td>\n",
       "      <td>1.000000</td>\n",
       "      <td>153.000000</td>\n",
       "      <td>0.000000</td>\n",
       "      <td>0.800000</td>\n",
       "      <td>2.000000</td>\n",
       "      <td>0.000000</td>\n",
       "      <td>3.000000</td>\n",
       "      <td>0.000000</td>\n",
       "    </tr>\n",
       "    <tr>\n",
       "      <th>75%</th>\n",
       "      <td>61.000000</td>\n",
       "      <td>1.000000</td>\n",
       "      <td>4.000000</td>\n",
       "      <td>140.000000</td>\n",
       "      <td>275.000000</td>\n",
       "      <td>0.000000</td>\n",
       "      <td>2.000000</td>\n",
       "      <td>166.000000</td>\n",
       "      <td>1.000000</td>\n",
       "      <td>1.600000</td>\n",
       "      <td>2.000000</td>\n",
       "      <td>1.000000</td>\n",
       "      <td>7.000000</td>\n",
       "      <td>2.000000</td>\n",
       "    </tr>\n",
       "    <tr>\n",
       "      <th>max</th>\n",
       "      <td>77.000000</td>\n",
       "      <td>1.000000</td>\n",
       "      <td>4.000000</td>\n",
       "      <td>200.000000</td>\n",
       "      <td>564.000000</td>\n",
       "      <td>1.000000</td>\n",
       "      <td>2.000000</td>\n",
       "      <td>202.000000</td>\n",
       "      <td>1.000000</td>\n",
       "      <td>6.200000</td>\n",
       "      <td>3.000000</td>\n",
       "      <td>3.000000</td>\n",
       "      <td>7.000000</td>\n",
       "      <td>4.000000</td>\n",
       "    </tr>\n",
       "  </tbody>\n",
       "</table>\n",
       "</div>"
      ],
      "text/plain": [
       "              age         sex          cp    trestbps        chol         fbs  \\\n",
       "count  303.000000  303.000000  303.000000  303.000000  303.000000  303.000000   \n",
       "mean    54.438944    0.679868    3.158416  131.689769  246.693069    0.148515   \n",
       "std      9.038662    0.467299    0.960126   17.599748   51.776918    0.356198   \n",
       "min     29.000000    0.000000    1.000000   94.000000  126.000000    0.000000   \n",
       "25%     48.000000    0.000000    3.000000  120.000000  211.000000    0.000000   \n",
       "50%     56.000000    1.000000    3.000000  130.000000  241.000000    0.000000   \n",
       "75%     61.000000    1.000000    4.000000  140.000000  275.000000    0.000000   \n",
       "max     77.000000    1.000000    4.000000  200.000000  564.000000    1.000000   \n",
       "\n",
       "          restecg     thalach       exang     oldpeak       slope          ca  \\\n",
       "count  303.000000  303.000000  303.000000  303.000000  303.000000  299.000000   \n",
       "mean     0.990099  149.607261    0.326733    1.039604    1.600660    0.672241   \n",
       "std      0.994971   22.875003    0.469794    1.161075    0.616226    0.937438   \n",
       "min      0.000000   71.000000    0.000000    0.000000    1.000000    0.000000   \n",
       "25%      0.000000  133.500000    0.000000    0.000000    1.000000    0.000000   \n",
       "50%      1.000000  153.000000    0.000000    0.800000    2.000000    0.000000   \n",
       "75%      2.000000  166.000000    1.000000    1.600000    2.000000    1.000000   \n",
       "max      2.000000  202.000000    1.000000    6.200000    3.000000    3.000000   \n",
       "\n",
       "             thal         num  \n",
       "count  301.000000  303.000000  \n",
       "mean     4.734219    0.937294  \n",
       "std      1.939706    1.228536  \n",
       "min      3.000000    0.000000  \n",
       "25%      3.000000    0.000000  \n",
       "50%      3.000000    0.000000  \n",
       "75%      7.000000    2.000000  \n",
       "max      7.000000    4.000000  "
      ]
     },
     "execution_count": 82,
     "metadata": {},
     "output_type": "execute_result"
    }
   ],
   "source": [
    "# calculate descriptive statistics\n",
    "\n",
    "df.describe()"
   ]
  },
  {
   "cell_type": "code",
   "execution_count": 83,
   "metadata": {},
   "outputs": [
    {
     "data": {
      "text/plain": [
       "age         0\n",
       "sex         0\n",
       "cp          0\n",
       "trestbps    0\n",
       "chol        0\n",
       "fbs         0\n",
       "restecg     0\n",
       "thalach     0\n",
       "exang       0\n",
       "oldpeak     0\n",
       "slope       0\n",
       "ca          4\n",
       "thal        2\n",
       "num         0\n",
       "dtype: int64"
      ]
     },
     "execution_count": 83,
     "metadata": {},
     "output_type": "execute_result"
    }
   ],
   "source": [
    "# check how many missing values are in each column\n",
    "\n",
    "np.sum(np.isnan(df))"
   ]
  },
  {
   "cell_type": "code",
   "execution_count": 84,
   "metadata": {
    "collapsed": true
   },
   "outputs": [],
   "source": [
    "# replace the missing values with column mean values\n",
    "\n",
    "df = df.where(~np.isnan(df), df.mean(), axis='columns')"
   ]
  },
  {
   "cell_type": "markdown",
   "metadata": {},
   "source": [
    "Under here you can see the minimum values of the database."
   ]
  },
  {
   "cell_type": "code",
   "execution_count": 85,
   "metadata": {},
   "outputs": [
    {
     "data": {
      "text/plain": [
       "age          29.0\n",
       "sex           0.0\n",
       "cp            1.0\n",
       "trestbps     94.0\n",
       "chol        126.0\n",
       "fbs           0.0\n",
       "restecg       0.0\n",
       "thalach      71.0\n",
       "exang         0.0\n",
       "oldpeak       0.0\n",
       "slope         1.0\n",
       "ca            0.0\n",
       "thal          3.0\n",
       "num           0.0\n",
       "dtype: float64"
      ]
     },
     "execution_count": 85,
     "metadata": {},
     "output_type": "execute_result"
    }
   ],
   "source": [
    "# print all the minimum values of the data\n",
    "\n",
    "df.min()"
   ]
  },
  {
   "cell_type": "markdown",
   "metadata": {},
   "source": [
    "And under here you can see the maximum values of the database."
   ]
  },
  {
   "cell_type": "code",
   "execution_count": 86,
   "metadata": {},
   "outputs": [
    {
     "data": {
      "text/plain": [
       "age          77.0\n",
       "sex           1.0\n",
       "cp            4.0\n",
       "trestbps    200.0\n",
       "chol        564.0\n",
       "fbs           1.0\n",
       "restecg       2.0\n",
       "thalach     202.0\n",
       "exang         1.0\n",
       "oldpeak       6.2\n",
       "slope         3.0\n",
       "ca            3.0\n",
       "thal          7.0\n",
       "num           4.0\n",
       "dtype: float64"
      ]
     },
     "execution_count": 86,
     "metadata": {},
     "output_type": "execute_result"
    }
   ],
   "source": [
    "# print all the maximum values of the data\n",
    "\n",
    "df.max()"
   ]
  },
  {
   "cell_type": "markdown",
   "metadata": {},
   "source": [
    "This is a boxplot made from the persons ages and its grouped by sex. O means female and 1 means male. The green line in the middle of the boxes is the mean of each group. As you can see, for females it's a little over 55 years old and for males it's about 55 years old."
   ]
  },
  {
   "cell_type": "code",
   "execution_count": 87,
   "metadata": {},
   "outputs": [
    {
     "data": {
      "image/png": "[encoded data removed]",
      "text/plain": [
       "<matplotlib.figure.Figure at 0x1a04e0cb828>"
      ]
     },
     "metadata": {},
     "output_type": "display_data"
    }
   ],
   "source": [
    "# create a boxplot of the column age and group it by sex\n",
    "\n",
    "df.boxplot(column='age', by='sex')\n",
    "plt.show()"
   ]
  },
  {
   "cell_type": "markdown",
   "metadata": {},
   "source": [
    "This is a histogram  made of resting blood pressure of the test subjects in mm/Hg. A histogram is a plot tha shows the underlying frequency distribution of a set of continuous data. From this histogram it you can see that the highest count of the blood pressure is approximately aroun 130 mm/Hg."
   ]
  },
  {
   "cell_type": "code",
   "execution_count": 88,
   "metadata": {},
   "outputs": [
    {
     "data": {
      "image/png": "[encoded data removed]",
      "text/plain": [
       "<matplotlib.figure.Figure at 0x1a0522d4fd0>"
      ]
     },
     "metadata": {},
     "output_type": "display_data"
    }
   ],
   "source": [
    "# create a histogram of the resting bloodpressure\n",
    "\n",
    "df['trestbps'].hist(bins=10)\n",
    "plt.title('Histogram of resting blood pressure of the test subjects in mm/Hg')\n",
    "plt.xlabel('Resting Blood pressure(mm/Hg)')\n",
    "plt.ylabel('Count')\n",
    "plt.show()"
   ]
  },
  {
   "cell_type": "markdown",
   "metadata": {},
   "source": [
    "<h2> 4. Modeling and compilation </h2>"
   ]
  },
  {
   "cell_type": "code",
   "execution_count": 89,
   "metadata": {
    "collapsed": true
   },
   "outputs": [],
   "source": [
    "# calculate the labels:\n",
    "# 0 = healthy, 1 = disease\n",
    "labels = (df['num'] > 0).values"
   ]
  },
  {
   "cell_type": "code",
   "execution_count": 90,
   "metadata": {
    "collapsed": true
   },
   "outputs": [],
   "source": [
    "# select the columns for training\n",
    "\n",
    "columns = ['age', 'sex', 'cp', 'trestbps', \n",
    "           'chol', 'fbs', 'restecg', 'thalach', \n",
    "           'exang', 'oldpeak', 'slope', 'ca', 'thal'] \n",
    "\n",
    "# convert into numerical array (np.array)\n",
    "\n",
    "data = df[columns].values"
   ]
  },
  {
   "cell_type": "code",
   "execution_count": 91,
   "metadata": {},
   "outputs": [
    {
     "data": {
      "text/plain": [
       "(303, 13)"
      ]
     },
     "execution_count": 91,
     "metadata": {},
     "output_type": "execute_result"
    }
   ],
   "source": [
    "# check the number of samples and attributes\n",
    "\n",
    "data.shape"
   ]
  },
  {
   "cell_type": "code",
   "execution_count": 92,
   "metadata": {},
   "outputs": [
    {
     "data": {
      "text/plain": [
       "array([[ 0.70833333,  1.        ,  0.        , ...,  1.        ,\n",
       "         0.        ,  0.75      ],\n",
       "       [ 0.79166667,  1.        ,  1.        , ...,  0.5       ,\n",
       "         1.        ,  0.        ],\n",
       "       [ 0.79166667,  1.        ,  1.        , ...,  0.5       ,\n",
       "         0.66666667,  1.        ],\n",
       "       ..., \n",
       "       [ 0.58333333,  1.        ,  1.        , ...,  0.5       ,\n",
       "         0.33333333,  1.        ],\n",
       "       [ 0.58333333,  0.        ,  0.33333333, ...,  0.5       ,\n",
       "         0.33333333,  0.        ],\n",
       "       [ 0.1875    ,  1.        ,  0.66666667, ...,  0.        ,\n",
       "         0.22408027,  0.        ]])"
      ]
     },
     "execution_count": 92,
     "metadata": {},
     "output_type": "execute_result"
    }
   ],
   "source": [
    "# scale the data\n",
    "\n",
    "min_max_scaler = preprocessing.MinMaxScaler()\n",
    "data_minmax = min_max_scaler.fit_transform(data)\n",
    "data_minmax"
   ]
  },
  {
   "cell_type": "code",
   "execution_count": 93,
   "metadata": {},
   "outputs": [
    {
     "data": {
      "text/plain": [
       "array([ 0.02083333,  1.        ,  0.33333333,  0.00943396,  0.00228311,\n",
       "        1.        ,  0.5       ,  0.00763359,  1.        ,  0.16129032,\n",
       "        0.5       ,  0.33333333,  0.25      ])"
      ]
     },
     "execution_count": 93,
     "metadata": {},
     "output_type": "execute_result"
    }
   ],
   "source": [
    "# check the scaler values\n",
    "\n",
    "min_max_scaler.scale_"
   ]
  },
  {
   "cell_type": "code",
   "execution_count": 94,
   "metadata": {},
   "outputs": [
    {
     "data": {
      "text/plain": [
       "array([-0.60416667,  0.        , -0.33333333, -0.88679245, -0.28767123,\n",
       "        0.        ,  0.        , -0.54198473,  0.        ,  0.        ,\n",
       "       -0.5       ,  0.        , -0.75      ])"
      ]
     },
     "execution_count": 94,
     "metadata": {},
     "output_type": "execute_result"
    }
   ],
   "source": [
    "# check the minimum values\n",
    "\n",
    "min_max_scaler.min_"
   ]
  },
  {
   "cell_type": "code",
   "execution_count": 95,
   "metadata": {},
   "outputs": [
    {
     "data": {
      "text/plain": [
       "array([ 0.529978  ,  0.67986799,  0.71947195,  0.35556386,  0.27555495,\n",
       "        0.14851485,  0.4950495 ,  0.60005543,  0.32673267,  0.16767806,\n",
       "        0.30033003,  0.22408027,  0.43355482])"
      ]
     },
     "execution_count": 95,
     "metadata": {},
     "output_type": "execute_result"
    }
   ],
   "source": [
    "# calculate the mean values of the scaled dataset\n",
    "\n",
    "data_minmax.mean(axis = 0)"
   ]
  },
  {
   "cell_type": "code",
   "execution_count": 96,
   "metadata": {},
   "outputs": [
    {
     "data": {
      "text/plain": [
       "((193, 13), (110, 13), (193,), (110,))"
      ]
     },
     "execution_count": 96,
     "metadata": {},
     "output_type": "execute_result"
    }
   ],
   "source": [
    "# divide the data into train and test sets, leave 36% of the data to testset\n",
    "\n",
    "x_train, x_test, y_train, y_test = train_test_split(\n",
    "    data_minmax, labels, test_size=0.36)\n",
    "\n",
    "# check the sizes of the variables\n",
    "\n",
    "x_train.shape, x_test.shape, y_train.shape, y_test.shape"
   ]
  },
  {
   "cell_type": "markdown",
   "metadata": {},
   "source": [
    "<h2> 5. Training and validation </h2>"
   ]
  },
  {
   "cell_type": "code",
   "execution_count": 97,
   "metadata": {},
   "outputs": [
    {
     "name": "stdout",
     "output_type": "stream",
     "text": [
      "Train on 193 samples, validate on 110 samples\n",
      "Epoch 1/100\n",
      "193/193 [==============================] - 1s 5ms/step - loss: 0.7078 - acc: 0.3886 - val_loss: 0.6856 - val_acc: 0.4818\n",
      "Epoch 2/100\n",
      "193/193 [==============================] - 0s 57us/step - loss: 0.6776 - acc: 0.5544 - val_loss: 0.6649 - val_acc: 0.5455\n",
      "Epoch 3/100\n",
      "193/193 [==============================] - 0s 57us/step - loss: 0.6586 - acc: 0.6321 - val_loss: 0.6464 - val_acc: 0.7727\n",
      "Epoch 4/100\n",
      "193/193 [==============================] - 0s 62us/step - loss: 0.6422 - acc: 0.7513 - val_loss: 0.6276 - val_acc: 0.8455\n",
      "Epoch 5/100\n",
      "193/193 [==============================] - 0s 62us/step - loss: 0.6267 - acc: 0.7720 - val_loss: 0.6118 - val_acc: 0.8636\n",
      "Epoch 6/100\n",
      "193/193 [==============================] - 0s 57us/step - loss: 0.6123 - acc: 0.7927 - val_loss: 0.5954 - val_acc: 0.8727\n",
      "Epoch 7/100\n",
      "193/193 [==============================] - 0s 83us/step - loss: 0.5985 - acc: 0.7824 - val_loss: 0.5801 - val_acc: 0.8636\n",
      "Epoch 8/100\n",
      "193/193 [==============================] - 0s 52us/step - loss: 0.5841 - acc: 0.8083 - val_loss: 0.5648 - val_acc: 0.8727\n",
      "Epoch 9/100\n",
      "193/193 [==============================] - 0s 62us/step - loss: 0.5708 - acc: 0.7824 - val_loss: 0.5510 - val_acc: 0.8545\n",
      "Epoch 10/100\n",
      "193/193 [==============================] - 0s 62us/step - loss: 0.5575 - acc: 0.8238 - val_loss: 0.5381 - val_acc: 0.8636\n",
      "Epoch 11/100\n",
      "193/193 [==============================] - 0s 67us/step - loss: 0.5445 - acc: 0.7772 - val_loss: 0.5224 - val_acc: 0.8818\n",
      "Epoch 12/100\n",
      "193/193 [==============================] - 0s 99us/step - loss: 0.5319 - acc: 0.7876 - val_loss: 0.5083 - val_acc: 0.8727\n",
      "Epoch 13/100\n",
      "193/193 [==============================] - 0s 57us/step - loss: 0.5193 - acc: 0.7824 - val_loss: 0.4944 - val_acc: 0.8727\n",
      "Epoch 14/100\n",
      "193/193 [==============================] - 0s 78us/step - loss: 0.5097 - acc: 0.7876 - val_loss: 0.4838 - val_acc: 0.8545\n",
      "Epoch 15/100\n",
      "193/193 [==============================] - 0s 73us/step - loss: 0.4985 - acc: 0.7565 - val_loss: 0.4700 - val_acc: 0.8727\n",
      "Epoch 16/100\n",
      "193/193 [==============================] - 0s 57us/step - loss: 0.4882 - acc: 0.8187 - val_loss: 0.4586 - val_acc: 0.8818\n",
      "Epoch 17/100\n",
      "193/193 [==============================] - 0s 67us/step - loss: 0.4811 - acc: 0.7824 - val_loss: 0.4502 - val_acc: 0.8545\n",
      "Epoch 18/100\n",
      "193/193 [==============================] - 0s 57us/step - loss: 0.4723 - acc: 0.8290 - val_loss: 0.4395 - val_acc: 0.8727\n",
      "Epoch 19/100\n",
      "193/193 [==============================] - ETA: 0s - loss: 0.4633 - acc: 0.828 - 0s 73us/step - loss: 0.4639 - acc: 0.8238 - val_loss: 0.4300 - val_acc: 0.8455\n",
      "Epoch 20/100\n",
      "193/193 [==============================] - 0s 57us/step - loss: 0.4569 - acc: 0.8290 - val_loss: 0.4212 - val_acc: 0.8545\n",
      "Epoch 21/100\n",
      "193/193 [==============================] - 0s 52us/step - loss: 0.4507 - acc: 0.8290 - val_loss: 0.4140 - val_acc: 0.8636\n",
      "Epoch 22/100\n",
      "193/193 [==============================] - 0s 47us/step - loss: 0.4496 - acc: 0.8238 - val_loss: 0.4092 - val_acc: 0.8545\n",
      "Epoch 23/100\n",
      "193/193 [==============================] - 0s 52us/step - loss: 0.4396 - acc: 0.8342 - val_loss: 0.3990 - val_acc: 0.8727\n",
      "Epoch 24/100\n",
      "193/193 [==============================] - 0s 47us/step - loss: 0.4334 - acc: 0.8135 - val_loss: 0.3937 - val_acc: 0.8727\n",
      "Epoch 25/100\n",
      "193/193 [==============================] - 0s 57us/step - loss: 0.4287 - acc: 0.8238 - val_loss: 0.3868 - val_acc: 0.8727\n",
      "Epoch 26/100\n",
      "193/193 [==============================] - 0s 52us/step - loss: 0.4269 - acc: 0.8238 - val_loss: 0.3837 - val_acc: 0.8727\n",
      "Epoch 27/100\n",
      "193/193 [==============================] - 0s 73us/step - loss: 0.4221 - acc: 0.7927 - val_loss: 0.3799 - val_acc: 0.8727\n",
      "Epoch 28/100\n",
      "193/193 [==============================] - 0s 52us/step - loss: 0.4174 - acc: 0.8238 - val_loss: 0.3742 - val_acc: 0.8727\n",
      "Epoch 29/100\n",
      "193/193 [==============================] - 0s 52us/step - loss: 0.4147 - acc: 0.8187 - val_loss: 0.3727 - val_acc: 0.8636\n",
      "Epoch 30/100\n",
      "193/193 [==============================] - 0s 47us/step - loss: 0.4112 - acc: 0.8394 - val_loss: 0.3659 - val_acc: 0.8727\n",
      "Epoch 31/100\n",
      "193/193 [==============================] - 0s 73us/step - loss: 0.4078 - acc: 0.8187 - val_loss: 0.3622 - val_acc: 0.8727\n",
      "Epoch 32/100\n",
      "193/193 [==============================] - 0s 52us/step - loss: 0.4054 - acc: 0.8187 - val_loss: 0.3616 - val_acc: 0.8727\n",
      "Epoch 33/100\n",
      "193/193 [==============================] - 0s 67us/step - loss: 0.4020 - acc: 0.8342 - val_loss: 0.3571 - val_acc: 0.8818\n",
      "Epoch 34/100\n",
      "193/193 [==============================] - 0s 47us/step - loss: 0.4004 - acc: 0.8083 - val_loss: 0.3563 - val_acc: 0.8727\n",
      "Epoch 35/100\n",
      "193/193 [==============================] - 0s 47us/step - loss: 0.3981 - acc: 0.8290 - val_loss: 0.3515 - val_acc: 0.8727\n",
      "Epoch 36/100\n",
      "193/193 [==============================] - 0s 62us/step - loss: 0.3939 - acc: 0.8394 - val_loss: 0.3477 - val_acc: 0.8818\n",
      "Epoch 37/100\n",
      "193/193 [==============================] - 0s 67us/step - loss: 0.3928 - acc: 0.8187 - val_loss: 0.3456 - val_acc: 0.8727\n",
      "Epoch 38/100\n",
      "193/193 [==============================] - 0s 62us/step - loss: 0.3905 - acc: 0.8290 - val_loss: 0.3447 - val_acc: 0.8727\n",
      "Epoch 39/100\n",
      "193/193 [==============================] - 0s 41us/step - loss: 0.3921 - acc: 0.8549 - val_loss: 0.3427 - val_acc: 0.8818\n",
      "Epoch 40/100\n",
      "193/193 [==============================] - 0s 47us/step - loss: 0.3907 - acc: 0.8187 - val_loss: 0.3387 - val_acc: 0.8909\n",
      "Epoch 41/100\n",
      "193/193 [==============================] - 0s 73us/step - loss: 0.3851 - acc: 0.8083 - val_loss: 0.3407 - val_acc: 0.8727\n",
      "Epoch 42/100\n",
      "193/193 [==============================] - 0s 57us/step - loss: 0.3880 - acc: 0.8342 - val_loss: 0.3414 - val_acc: 0.8636\n",
      "Epoch 43/100\n",
      "193/193 [==============================] - 0s 52us/step - loss: 0.3853 - acc: 0.8497 - val_loss: 0.3356 - val_acc: 0.8727\n",
      "Epoch 44/100\n",
      "193/193 [==============================] - ETA: 0s - loss: 0.4397 - acc: 0.812 - 0s 88us/step - loss: 0.3811 - acc: 0.8497 - val_loss: 0.3327 - val_acc: 0.9000\n",
      "Epoch 45/100\n",
      "193/193 [==============================] - 0s 62us/step - loss: 0.3788 - acc: 0.8342 - val_loss: 0.3305 - val_acc: 0.8909\n",
      "Epoch 46/100\n",
      "193/193 [==============================] - 0s 47us/step - loss: 0.3763 - acc: 0.8394 - val_loss: 0.3310 - val_acc: 0.8818\n",
      "Epoch 47/100\n",
      "193/193 [==============================] - 0s 62us/step - loss: 0.3816 - acc: 0.8394 - val_loss: 0.3334 - val_acc: 0.8636\n",
      "Epoch 48/100\n",
      "193/193 [==============================] - 0s 62us/step - loss: 0.3757 - acc: 0.8446 - val_loss: 0.3272 - val_acc: 0.9000\n",
      "Epoch 49/100\n",
      "193/193 [==============================] - 0s 52us/step - loss: 0.3733 - acc: 0.8446 - val_loss: 0.3286 - val_acc: 0.8636\n",
      "Epoch 50/100\n",
      "193/193 [==============================] - 0s 47us/step - loss: 0.3738 - acc: 0.8394 - val_loss: 0.3270 - val_acc: 0.8727\n",
      "Epoch 51/100\n",
      "193/193 [==============================] - 0s 47us/step - loss: 0.3696 - acc: 0.8497 - val_loss: 0.3237 - val_acc: 0.8909\n",
      "Epoch 52/100\n",
      "193/193 [==============================] - 0s 57us/step - loss: 0.3684 - acc: 0.8549 - val_loss: 0.3215 - val_acc: 0.8909\n",
      "Epoch 53/100\n",
      "193/193 [==============================] - 0s 78us/step - loss: 0.3662 - acc: 0.8705 - val_loss: 0.3200 - val_acc: 0.8909\n",
      "Epoch 54/100\n",
      "193/193 [==============================] - 0s 47us/step - loss: 0.3653 - acc: 0.8601 - val_loss: 0.3201 - val_acc: 0.9000\n",
      "Epoch 55/100\n",
      "193/193 [==============================] - 0s 78us/step - loss: 0.3654 - acc: 0.8497 - val_loss: 0.3212 - val_acc: 0.8818\n",
      "Epoch 56/100\n",
      "193/193 [==============================] - 0s 47us/step - loss: 0.3664 - acc: 0.8601 - val_loss: 0.3206 - val_acc: 0.8818\n",
      "Epoch 57/100\n",
      "193/193 [==============================] - 0s 47us/step - loss: 0.3626 - acc: 0.8497 - val_loss: 0.3172 - val_acc: 0.8909\n",
      "Epoch 58/100\n",
      "193/193 [==============================] - 0s 41us/step - loss: 0.3623 - acc: 0.8653 - val_loss: 0.3186 - val_acc: 0.9000\n",
      "Epoch 59/100\n",
      "193/193 [==============================] - 0s 52us/step - loss: 0.3601 - acc: 0.8446 - val_loss: 0.3168 - val_acc: 0.8818\n",
      "Epoch 60/100\n",
      "193/193 [==============================] - ETA: 0s - loss: 0.3654 - acc: 0.851 - 0s 52us/step - loss: 0.3574 - acc: 0.8705 - val_loss: 0.3149 - val_acc: 0.8909\n"
     ]
    },
    {
     "name": "stdout",
     "output_type": "stream",
     "text": [
      "Epoch 61/100\n",
      "193/193 [==============================] - 0s 52us/step - loss: 0.3574 - acc: 0.8653 - val_loss: 0.3157 - val_acc: 0.9000\n",
      "Epoch 62/100\n",
      "193/193 [==============================] - 0s 62us/step - loss: 0.3579 - acc: 0.8497 - val_loss: 0.3140 - val_acc: 0.9000\n",
      "Epoch 63/100\n",
      "193/193 [==============================] - 0s 52us/step - loss: 0.3547 - acc: 0.8549 - val_loss: 0.3169 - val_acc: 0.8818\n",
      "Epoch 64/100\n",
      "193/193 [==============================] - 0s 52us/step - loss: 0.3536 - acc: 0.8601 - val_loss: 0.3137 - val_acc: 0.8909\n",
      "Epoch 65/100\n",
      "193/193 [==============================] - 0s 52us/step - loss: 0.3513 - acc: 0.8549 - val_loss: 0.3113 - val_acc: 0.8909\n",
      "Epoch 66/100\n",
      "193/193 [==============================] - 0s 52us/step - loss: 0.3498 - acc: 0.8653 - val_loss: 0.3120 - val_acc: 0.8818\n",
      "Epoch 67/100\n",
      "193/193 [==============================] - 0s 57us/step - loss: 0.3538 - acc: 0.8446 - val_loss: 0.3133 - val_acc: 0.8818\n",
      "Epoch 68/100\n",
      "193/193 [==============================] - 0s 47us/step - loss: 0.3484 - acc: 0.8653 - val_loss: 0.3095 - val_acc: 0.9000\n",
      "Epoch 69/100\n",
      "193/193 [==============================] - 0s 57us/step - loss: 0.3461 - acc: 0.8653 - val_loss: 0.3096 - val_acc: 0.8818\n",
      "Epoch 70/100\n",
      "193/193 [==============================] - 0s 57us/step - loss: 0.3451 - acc: 0.8705 - val_loss: 0.3072 - val_acc: 0.8909\n",
      "Epoch 71/100\n",
      "193/193 [==============================] - 0s 47us/step - loss: 0.3432 - acc: 0.8705 - val_loss: 0.3065 - val_acc: 0.8909\n",
      "Epoch 72/100\n",
      "193/193 [==============================] - 0s 73us/step - loss: 0.3417 - acc: 0.8653 - val_loss: 0.3046 - val_acc: 0.8818\n",
      "Epoch 73/100\n",
      "193/193 [==============================] - 0s 73us/step - loss: 0.3445 - acc: 0.8705 - val_loss: 0.3091 - val_acc: 0.9000\n",
      "Epoch 74/100\n",
      "193/193 [==============================] - 0s 67us/step - loss: 0.3415 - acc: 0.8446 - val_loss: 0.3071 - val_acc: 0.8818\n",
      "Epoch 75/100\n",
      "193/193 [==============================] - 0s 67us/step - loss: 0.3417 - acc: 0.8705 - val_loss: 0.3051 - val_acc: 0.8818\n",
      "Epoch 76/100\n",
      "193/193 [==============================] - 0s 62us/step - loss: 0.3421 - acc: 0.8653 - val_loss: 0.3074 - val_acc: 0.8818\n",
      "Epoch 77/100\n",
      "193/193 [==============================] - 0s 62us/step - loss: 0.3442 - acc: 0.8497 - val_loss: 0.3066 - val_acc: 0.8818\n",
      "Epoch 78/100\n",
      "193/193 [==============================] - 0s 47us/step - loss: 0.3372 - acc: 0.8601 - val_loss: 0.3035 - val_acc: 0.8818\n",
      "Epoch 79/100\n",
      "193/193 [==============================] - 0s 57us/step - loss: 0.3352 - acc: 0.8705 - val_loss: 0.3055 - val_acc: 0.8727\n",
      "Epoch 80/100\n",
      "193/193 [==============================] - 0s 47us/step - loss: 0.3358 - acc: 0.8601 - val_loss: 0.3045 - val_acc: 0.8727\n",
      "Epoch 81/100\n",
      "193/193 [==============================] - ETA: 0s - loss: 0.3216 - acc: 0.875 - 0s 57us/step - loss: 0.3310 - acc: 0.8705 - val_loss: 0.3028 - val_acc: 0.8909\n",
      "Epoch 82/100\n",
      "193/193 [==============================] - 0s 57us/step - loss: 0.3333 - acc: 0.8653 - val_loss: 0.3073 - val_acc: 0.8818\n",
      "Epoch 83/100\n",
      "193/193 [==============================] - 0s 57us/step - loss: 0.3325 - acc: 0.8653 - val_loss: 0.3014 - val_acc: 0.8818\n",
      "Epoch 84/100\n",
      "193/193 [==============================] - 0s 67us/step - loss: 0.3284 - acc: 0.8705 - val_loss: 0.3014 - val_acc: 0.8818\n",
      "Epoch 85/100\n",
      "193/193 [==============================] - 0s 52us/step - loss: 0.3270 - acc: 0.8653 - val_loss: 0.2998 - val_acc: 0.8909\n",
      "Epoch 86/100\n",
      "193/193 [==============================] - 0s 62us/step - loss: 0.3250 - acc: 0.8705 - val_loss: 0.3009 - val_acc: 0.8818\n",
      "Epoch 87/100\n",
      "193/193 [==============================] - 0s 52us/step - loss: 0.3240 - acc: 0.8705 - val_loss: 0.3001 - val_acc: 0.8909\n",
      "Epoch 88/100\n",
      "193/193 [==============================] - 0s 52us/step - loss: 0.3255 - acc: 0.8705 - val_loss: 0.3050 - val_acc: 0.8727\n",
      "Epoch 89/100\n",
      "193/193 [==============================] - 0s 47us/step - loss: 0.3254 - acc: 0.8653 - val_loss: 0.2997 - val_acc: 0.8909\n",
      "Epoch 90/100\n",
      "193/193 [==============================] - 0s 73us/step - loss: 0.3209 - acc: 0.8756 - val_loss: 0.3015 - val_acc: 0.8818\n",
      "Epoch 91/100\n",
      "193/193 [==============================] - 0s 52us/step - loss: 0.3199 - acc: 0.8705 - val_loss: 0.3008 - val_acc: 0.8909\n",
      "Epoch 92/100\n",
      "193/193 [==============================] - 0s 52us/step - loss: 0.3188 - acc: 0.8705 - val_loss: 0.2998 - val_acc: 0.8909\n",
      "Epoch 93/100\n",
      "193/193 [==============================] - 0s 47us/step - loss: 0.3178 - acc: 0.8756 - val_loss: 0.3021 - val_acc: 0.8727\n",
      "Epoch 94/100\n",
      "193/193 [==============================] - 0s 62us/step - loss: 0.3180 - acc: 0.8705 - val_loss: 0.2988 - val_acc: 0.8818\n",
      "Epoch 95/100\n",
      "193/193 [==============================] - 0s 47us/step - loss: 0.3186 - acc: 0.8705 - val_loss: 0.3012 - val_acc: 0.8727\n",
      "Epoch 96/100\n",
      "193/193 [==============================] - 0s 52us/step - loss: 0.3220 - acc: 0.8653 - val_loss: 0.3024 - val_acc: 0.8727\n",
      "Epoch 97/100\n",
      "193/193 [==============================] - 0s 47us/step - loss: 0.3171 - acc: 0.8705 - val_loss: 0.2979 - val_acc: 0.8818\n",
      "Epoch 98/100\n",
      "193/193 [==============================] - 0s 62us/step - loss: 0.3116 - acc: 0.8756 - val_loss: 0.2982 - val_acc: 0.8818\n",
      "Epoch 99/100\n",
      "193/193 [==============================] - 0s 67us/step - loss: 0.3121 - acc: 0.8756 - val_loss: 0.2981 - val_acc: 0.8727\n",
      "Epoch 100/100\n",
      "193/193 [==============================] - 0s 67us/step - loss: 0.3106 - acc: 0.8705 - val_loss: 0.2980 - val_acc: 0.9000\n"
     ]
    }
   ],
   "source": [
    "# build and train the model.\n",
    "\n",
    "model = []\n",
    "model = models.Sequential()\n",
    "model.add(layers.Dense(64, activation = 'relu', input_dim = 13)) \n",
    "model.add(layers.Dense(64, activation = 'relu'))\n",
    "model.add(layers.Dense(1, activation = 'sigmoid'))\n",
    "\n",
    "model.compile(loss = 'binary_crossentropy',\n",
    "              optimizer = 'rmsprop',\n",
    "              metrics = ['accuracy'])\n",
    "\n",
    "# N = number of epochs\n",
    "N = 100\n",
    "h = model.fit(x_train, y_train,\n",
    "              epochs = N,\n",
    "              batch_size = 128,\n",
    "              validation_data=(x_test, y_test))"
   ]
  },
  {
   "cell_type": "markdown",
   "metadata": {},
   "source": [
    "<h2> 6. Evaluation </h2>"
   ]
  },
  {
   "cell_type": "code",
   "execution_count": 98,
   "metadata": {},
   "outputs": [
    {
     "data": {
      "image/png": "[encoded data removed]",
      "text/plain": [
       "<matplotlib.figure.Figure at 0x1a04e70fc50>"
      ]
     },
     "metadata": {},
     "output_type": "display_data"
    },
    {
     "data": {
      "image/png": "[encoded data removed]",
      "text/plain": [
       "<matplotlib.figure.Figure at 0x1a04e726da0>"
      ]
     },
     "metadata": {},
     "output_type": "display_data"
    },
    {
     "name": "stdout",
     "output_type": "stream",
     "text": [
      "\r",
      "110/110 [==============================] - 0s 18us/step\n"
     ]
    },
    {
     "data": {
      "text/plain": [
       "[0.29798394441604614, 0.89999997615814209]"
      ]
     },
     "execution_count": 98,
     "metadata": {},
     "output_type": "execute_result"
    }
   ],
   "source": [
    "# plot the results\n",
    "\n",
    "epochs = range(1, N + 1)\n",
    "acc = h.history['acc']\n",
    "val_acc = h.history['val_acc']\n",
    "loss = h.history['loss']\n",
    "val_loss = h.history['val_loss']\n",
    "\n",
    "# accuracy plot\n",
    "\n",
    "plt.figure(figsize = (20, 5))\n",
    "plt.plot(epochs, acc, 'bo', label='Training')\n",
    "plt.plot(epochs, val_acc, 'b', label = 'Validation')\n",
    "plt.xlabel('Epochs')\n",
    "plt.ylabel('Accuracy')\n",
    "plt.ylim([0, 1])\n",
    "plt.grid()\n",
    "plt.legend()\n",
    "plt.show()\n",
    "\n",
    "# Loss plot\n",
    "\n",
    "plt.figure(figsize = (20, 5))\n",
    "plt.plot(epochs, loss, 'bo', label='Training')\n",
    "plt.plot(epochs, val_loss, 'b', label = 'Validation')\n",
    "plt.xlabel('Epochs')\n",
    "plt.ylabel('Loss')\n",
    "plt.ylim([0.2, 0.8])\n",
    "plt.grid()\n",
    "plt.legend()\n",
    "plt.show()\n",
    "\n",
    "score = model.evaluate(x_test, y_test, batch_size = 128)\n",
    "score"
   ]
  },
  {
   "cell_type": "markdown",
   "metadata": {},
   "source": [
    "Under here we try to use the traincde network in a practical setting and generate the likelihood of a person actually having a heart disease by using the predict method."
   ]
  },
  {
   "cell_type": "code",
   "execution_count": 99,
   "metadata": {},
   "outputs": [
    {
     "data": {
      "text/plain": [
       "array([[ 0.94649518],\n",
       "       [ 0.97569025],\n",
       "       [ 0.81967694],\n",
       "       [ 0.09651729],\n",
       "       [ 0.51162088],\n",
       "       [ 0.97503984],\n",
       "       [ 0.97447997],\n",
       "       [ 0.25634515],\n",
       "       [ 0.97961831],\n",
       "       [ 0.11600801],\n",
       "       [ 0.32204908],\n",
       "       [ 0.33437347],\n",
       "       [ 0.29795516],\n",
       "       [ 0.05228186],\n",
       "       [ 0.87477612],\n",
       "       [ 0.3867453 ],\n",
       "       [ 0.23600933],\n",
       "       [ 0.06013605],\n",
       "       [ 0.20455344],\n",
       "       [ 0.06613977],\n",
       "       [ 0.95981902],\n",
       "       [ 0.54804587],\n",
       "       [ 0.05628854],\n",
       "       [ 0.03396168],\n",
       "       [ 0.16072348],\n",
       "       [ 0.12325788],\n",
       "       [ 0.91057158],\n",
       "       [ 0.18722712],\n",
       "       [ 0.34827289],\n",
       "       [ 0.98860443],\n",
       "       [ 0.03858634],\n",
       "       [ 0.97523743],\n",
       "       [ 0.108491  ],\n",
       "       [ 0.85759568],\n",
       "       [ 0.1107567 ],\n",
       "       [ 0.03561876],\n",
       "       [ 0.0441473 ],\n",
       "       [ 0.37752703],\n",
       "       [ 0.59234661],\n",
       "       [ 0.10780454],\n",
       "       [ 0.23924536],\n",
       "       [ 0.30862167],\n",
       "       [ 0.40131789],\n",
       "       [ 0.37347421],\n",
       "       [ 0.67353386],\n",
       "       [ 0.60838842],\n",
       "       [ 0.10024799],\n",
       "       [ 0.06016359],\n",
       "       [ 0.19760926],\n",
       "       [ 0.0541291 ],\n",
       "       [ 0.96703488],\n",
       "       [ 0.12582526],\n",
       "       [ 0.31485209],\n",
       "       [ 0.39398137],\n",
       "       [ 0.65968359],\n",
       "       [ 0.23829456],\n",
       "       [ 0.95903325],\n",
       "       [ 0.97769529],\n",
       "       [ 0.9651913 ],\n",
       "       [ 0.9866643 ],\n",
       "       [ 0.98801965],\n",
       "       [ 0.19369546],\n",
       "       [ 0.06305252],\n",
       "       [ 0.29531902],\n",
       "       [ 0.76146173],\n",
       "       [ 0.97777212],\n",
       "       [ 0.15676709],\n",
       "       [ 0.02500297],\n",
       "       [ 0.30669907],\n",
       "       [ 0.14665227],\n",
       "       [ 0.04494485],\n",
       "       [ 0.16561268],\n",
       "       [ 0.66675174],\n",
       "       [ 0.20224783],\n",
       "       [ 0.75705576],\n",
       "       [ 0.28279889],\n",
       "       [ 0.44993246],\n",
       "       [ 0.97254342],\n",
       "       [ 0.96856201],\n",
       "       [ 0.13247257],\n",
       "       [ 0.92160439],\n",
       "       [ 0.90212417],\n",
       "       [ 0.91978294],\n",
       "       [ 0.98483098],\n",
       "       [ 0.05470108],\n",
       "       [ 0.01800742],\n",
       "       [ 0.20963812],\n",
       "       [ 0.99578238],\n",
       "       [ 0.95256257],\n",
       "       [ 0.90397543],\n",
       "       [ 0.04995517],\n",
       "       [ 0.02101902],\n",
       "       [ 0.08394393],\n",
       "       [ 0.22831467],\n",
       "       [ 0.02695693],\n",
       "       [ 0.49015176],\n",
       "       [ 0.28116259],\n",
       "       [ 0.03559649],\n",
       "       [ 0.93662107],\n",
       "       [ 0.05657018],\n",
       "       [ 0.98247564],\n",
       "       [ 0.98083466],\n",
       "       [ 0.06884386],\n",
       "       [ 0.07692147],\n",
       "       [ 0.93424791],\n",
       "       [ 0.79726446],\n",
       "       [ 0.97243124],\n",
       "       [ 0.13878289],\n",
       "       [ 0.12208772],\n",
       "       [ 0.94990361]], dtype=float32)"
      ]
     },
     "execution_count": 99,
     "metadata": {},
     "output_type": "execute_result"
    }
   ],
   "source": [
    "# generate the likelyhood of reviews being positive\n",
    "\n",
    "model.predict(x_test)"
   ]
  },
  {
   "cell_type": "markdown",
   "metadata": {},
   "source": [
    "As you can see the training accuracy incereases with every epoch and the training loss decreases with every epoch. From the plots it is possible to see that around the 40th epoch the model is trained to it's maximum and the values are not changing tha much anymora so it is probably best to stop training after 40 epochs. The validation loss and accuracy do not seem to peak at any point compared to the training loss and accuracy so this is not the caes of overfitting the model. If it was though, the best way to prevent that would be to stp training after the number of epochs where the validation loss and accuracy start to peak."
   ]
  },
  {
   "cell_type": "markdown",
   "metadata": {},
   "source": [
    "<h2> 7. Results and discussion </h2>"
   ]
  },
  {
   "cell_type": "markdown",
   "metadata": {},
   "source": [
    "Now we train a new network from scratch fo 40 epochs and evaluate it on the test data."
   ]
  },
  {
   "cell_type": "code",
   "execution_count": 103,
   "metadata": {},
   "outputs": [
    {
     "data": {
      "image/png": "[encoded data removed]",
      "text/plain": [
       "<matplotlib.figure.Figure at 0x1a0552eef60>"
      ]
     },
     "metadata": {},
     "output_type": "display_data"
    },
    {
     "data": {
      "image/png": "[encoded data removed]",
      "text/plain": [
       "<matplotlib.figure.Figure at 0x1a0556d6e80>"
      ]
     },
     "metadata": {},
     "output_type": "display_data"
    },
    {
     "name": "stdout",
     "output_type": "stream",
     "text": [
      "\r",
      "110/110 [==============================] - 0s 18us/step\n"
     ]
    },
    {
     "data": {
      "text/plain": [
       "[0.30899351835250854, 0.89090907573699951]"
      ]
     },
     "execution_count": 103,
     "metadata": {},
     "output_type": "execute_result"
    }
   ],
   "source": [
    "model = []\n",
    "model = models.Sequential()\n",
    "model.add(layers.Dense(64, activation = 'relu', input_dim = 13)) \n",
    "model.add(layers.Dense(64, activation = 'relu'))\n",
    "model.add(layers.Dense(1, activation = 'sigmoid'))\n",
    "\n",
    "model.compile(loss = 'binary_crossentropy',\n",
    "              optimizer = 'rmsprop',\n",
    "              metrics = ['accuracy'])\n",
    "\n",
    "N = 70\n",
    "h = model.fit(x_train, y_train,\n",
    "              epochs = N,\n",
    "              verbose = 0,\n",
    "              batch_size = 128,\n",
    "              validation_data=(x_test, y_test))\n",
    "\n",
    "# plot the results\n",
    "\n",
    "epochs = range(1, N + 1)\n",
    "acc = h.history['acc']\n",
    "val_acc = h.history['val_acc']\n",
    "loss = h.history['loss']\n",
    "val_loss = h.history['val_loss']\n",
    "\n",
    "# accuracy plot\n",
    "\n",
    "plt.figure(figsize = (20, 5))\n",
    "plt.plot(epochs, acc, 'bo', label='Training')\n",
    "plt.plot(epochs, val_acc, 'b', label = 'Validation')\n",
    "plt.xlabel('Epochs')\n",
    "plt.ylabel('Accuracy')\n",
    "plt.ylim([0, 1])\n",
    "plt.grid()\n",
    "plt.legend()\n",
    "plt.show()\n",
    "\n",
    "# Loss plot\n",
    "\n",
    "plt.figure(figsize = (20, 5))\n",
    "plt.plot(epochs, loss, 'bo', label='Training')\n",
    "plt.plot(epochs, val_loss, 'b', label = 'Validation')\n",
    "plt.xlabel('Epochs')\n",
    "plt.ylabel('Loss')\n",
    "plt.ylim([0.2, 0.8])\n",
    "plt.grid()\n",
    "plt.legend()\n",
    "plt.show()\n",
    "\n",
    "score = model.evaluate(x_test, y_test, batch_size = 128)\n",
    "score\n"
   ]
  },
  {
   "cell_type": "markdown",
   "metadata": {},
   "source": [
    "By cutting the number of epochs from 100 to 40, the accuracy actually did get up a bit, from 89% to 90%. The accuracy would be better if it were over 95% so this is not probably the best model."
   ]
  },
  {
   "cell_type": "markdown",
   "metadata": {},
   "source": [
    "<h2> 8. Conclusions </h2>"
   ]
  },
  {
   "cell_type": "markdown",
   "metadata": {},
   "source": [
    "This assignment was interesting and well thought but still difficult. I left the using of the unprocessed data out because I faced some difficulties with it and attacking those problems were too time consuming for me to finish the assignment in time. I'm not sure if I understood everything correctly but tried my best. "
   ]
  },
  {
   "cell_type": "code",
   "execution_count": null,
   "metadata": {
    "collapsed": true
   },
   "outputs": [],
   "source": []
  }
 ],
 "metadata": {
  "kernelspec": {
   "display_name": "Python 3",
   "language": "python",
   "name": "python3"
  },
  "language_info": {
   "codemirror_mode": {
    "name": "ipython",
    "version": 3
   },
   "file_extension": ".py",
   "mimetype": "text/x-python",
   "name": "python",
   "nbconvert_exporter": "python",
   "pygments_lexer": "ipython3",
   "version": "3.6.3"
  }
 },
 "nbformat": 4,
 "nbformat_minor": 2
}
