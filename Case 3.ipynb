{
 "cells": [
  {
   "cell_type": "markdown",
   "metadata": {},
   "source": [
    "# Case 3. Medical text categorization\n",
    "Sanni Tolonen<br>\n",
    "18.3.2018<br>\n",
    "Cognitive Systems for Health Technology Applications, Spring 2018<br>\n",
    "Helsinki Metropolia University of Applied Sciences"
   ]
  },
  {
   "cell_type": "markdown",
   "metadata": {},
   "source": [
    "## 1. Objectives\n",
    "The aim of this assignment is to learn to use recurrent and 1D convolutional neural networks to\n",
    "categorize medical texts."
   ]
  },
  {
   "cell_type": "markdown",
   "metadata": {},
   "source": [
    "## 2. Required libraries"
   ]
  },
  {
   "cell_type": "code",
   "execution_count": 8,
   "metadata": {
    "collapsed": true
   },
   "outputs": [],
   "source": [
    "import os\n",
    "import time\n",
    "from keras.preprocessing.text import Tokenizer\n",
    "from keras.preprocessing.sequence import pad_sequences\n",
    "from keras.utils.np_utils import to_categorical\n",
    "from keras.models import Sequential\n",
    "from keras.layers import LSTM, Dense, Embedding\n",
    "import matplotlib.pyplot as plt\n",
    "import numpy as np\n",
    "from sklearn.metrics import accuracy_score, precision_score, f1_score, confusion_matrix\n",
    "from sklearn.metrics import classification_report, recall_score"
   ]
  },
  {
   "cell_type": "markdown",
   "metadata": {},
   "source": [
    "## 3. Data description and preprocessing"
   ]
  },
  {
   "cell_type": "markdown",
   "metadata": {},
   "source": [
    "The data used in this case is the Cardiovascular diseases abstract database from MEDLINE. It includes medical abstracts from the MeSH categories of the year 1991. The first 20,000 documents are already divided for training and testing sets, 10 000 for training and 10 000 for testing. The data is downloaded from http://disi.unitn.it/moschitti/corpora.htm. \n",
    "\n",
    "The labels in this dataset are:\n",
    "<ul>\n",
    "<li>Bacterial Infections and Mycoses                      C01</li>\n",
    "<li>Virus Diseases                                        C02</li>\n",
    "<li>Parasitic Diseases                                    C03</li>\n",
    "<li>Neoplasms                                             C04</li>\n",
    "<li>Musculoskeletal Diseases                              C05</li>\n",
    "<li>Digestive System Diseases                             C06</li>\n",
    "<li>Stomatognathic Diseases                               C07</li>\n",
    "<li>Respiratory Tract Diseases                            C08</li>\n",
    "<li>Otorhinolaryngologic Diseases                         C09</li>\n",
    "<li>Nervous System Diseases                               C10</li>\n",
    "<li>Eye Diseases                                          C11</li>\n",
    "<li>Urologic and Male Genital Diseases                    C12</li>\n",
    "<li>Female Genital Diseases and Pregnancy Complications   C13</li>\n",
    "<li>Cardiovascular Diseases                               C14</li>\n",
    "<li>Hemic and Lymphatic Diseases                          C15</li>\n",
    "<li>Neonatal Diseases and Abnormalities                   C16</li>\n",
    "<li>Skin and Connective Tissue Diseases                   C17</li>\n",
    "<li>Nutritional and Metabolic Diseases                    C18</li>\n",
    "<li>Endocrine Diseases                                    C19</li>\n",
    "<li>Immunologic Diseases                                  C20</li>\n",
    "<li>Disorders of Environmental Origin                     C21</li>\n",
    "<li>Animal Diseases                                       C22</li>\n",
    "<li>Pathological Conditions, Signs and Symptoms           C23</li>\n",
    "</ul>"
   ]
  },
  {
   "cell_type": "markdown",
   "metadata": {},
   "source": [
    "### Processing raw data\n",
    "\n",
    "Here the medical abstracts and labels are downloaded. The abstracts are collected into a list of strings and labels are collected to a list of labels. "
   ]
  },
  {
   "cell_type": "code",
   "execution_count": 3,
   "metadata": {
    "collapsed": true
   },
   "outputs": [],
   "source": [
    "ohsumed_dir = 'ohsumed-first-20000-docs/'\n",
    "train_dir = os.path.join(ohsumed_dir, 'training')\n",
    "\n",
    "labels = []\n",
    "texts = []\n",
    "\n",
    "L = ['C{:02}'.format(n) for n in range(1, 23 + 1)]\n",
    "for label_type in L:\n",
    "    dir_name = os.path.join(train_dir, label_type)\n",
    "    for fname in os.listdir(dir_name):\n",
    "        f = open(os.path.join(dir_name, fname))\n",
    "        texts.append(f.read())\n",
    "        f.close()\n",
    "        i = L.index(label_type)\n",
    "        labels.append(i)"
   ]
  },
  {
   "cell_type": "markdown",
   "metadata": {},
   "source": [
    "### Tokenize the text of the raw data\n",
    "The data is tokenized and maximum length of text and number of words is defined. "
   ]
  },
  {
   "cell_type": "code",
   "execution_count": 4,
   "metadata": {},
   "outputs": [
    {
     "name": "stdout",
     "output_type": "stream",
     "text": [
      "Found 30857 unique tokens\n"
     ]
    }
   ],
   "source": [
    "maxlen = 250\n",
    "max_words = 20000\n",
    "\n",
    "tokenizer = Tokenizer(num_words = max_words)\n",
    "tokenizer.fit_on_texts(texts)\n",
    "sequences = tokenizer.texts_to_sequences(texts)\n",
    "\n",
    "word_index = tokenizer.word_index\n",
    "print('Found %s unique tokens' % len(word_index))"
   ]
  },
  {
   "cell_type": "markdown",
   "metadata": {},
   "source": [
    "### Shape the data and labels\n",
    "Here ther data is shaped into the right shape."
   ]
  },
  {
   "cell_type": "code",
   "execution_count": 5,
   "metadata": {},
   "outputs": [
    {
     "name": "stdout",
     "output_type": "stream",
     "text": [
      "Shape of data tensor: (10433, 250)\n",
      "Shape of labels tensor: (10433, 23)\n"
     ]
    }
   ],
   "source": [
    "data = pad_sequences(sequences, maxlen = maxlen)\n",
    "\n",
    "labels = np.asarray(labels)\n",
    "one_hot_labels = to_categorical(labels)\n",
    "\n",
    "\n",
    "print('Shape of data tensor:', data.shape)\n",
    "print('Shape of labels tensor:', one_hot_labels.shape)"
   ]
  },
  {
   "cell_type": "markdown",
   "metadata": {},
   "source": [
    "### Shuffle the data and labels\n",
    "And finally here the data is shuffled. Shuffeling is important. Otherwise when splitting the data into training and validation sets the  validation set will consist only of abstracts from last two categories."
   ]
  },
  {
   "cell_type": "code",
   "execution_count": 6,
   "metadata": {
    "collapsed": true
   },
   "outputs": [],
   "source": [
    "indices = np.arange(data.shape[0])\n",
    "np.random.shuffle(indices)\n",
    "data = data[indices]\n",
    "labels = labels[indices]\n",
    "one_hot_labels = one_hot_labels[indices]"
   ]
  },
  {
   "cell_type": "markdown",
   "metadata": {},
   "source": [
    "## 4. Modeling and compilation"
   ]
  },
  {
   "cell_type": "markdown",
   "metadata": {},
   "source": [
    "This is a recurrent neural network. It is build by using Keras Sequential model. At first there is an Embedding layer. It's purpose is to turn positive integers into dense vectors. After that there is two LSTM recurrent layers. Dropout and recurrent_dropout arguments are used here to avoid overfitting. Finally there is one Dense layer with softmax activation to split data to the label 23 categories."
   ]
  },
  {
   "cell_type": "code",
   "execution_count": 9,
   "metadata": {},
   "outputs": [
    {
     "name": "stdout",
     "output_type": "stream",
     "text": [
      "_________________________________________________________________\n",
      "Layer (type)                 Output Shape              Param #   \n",
      "=================================================================\n",
      "embedding_2 (Embedding)      (None, 250, 109)          2180000   \n",
      "_________________________________________________________________\n",
      "lstm_1 (LSTM)                (None, 250, 100)          84000     \n",
      "_________________________________________________________________\n",
      "lstm_2 (LSTM)                (None, 100)               80400     \n",
      "_________________________________________________________________\n",
      "dense_1 (Dense)              (None, 23)                2323      \n",
      "=================================================================\n",
      "Total params: 2,346,723\n",
      "Trainable params: 2,346,723\n",
      "Non-trainable params: 0\n",
      "_________________________________________________________________\n"
     ]
    }
   ],
   "source": [
    "model = Sequential()\n",
    "model.add(Embedding(max_words, 109, input_length=maxlen))\n",
    "model.add(LSTM(100, return_sequences = True, dropout = 0.4, recurrent_dropout = 0.2))\n",
    "model.add(LSTM(100, dropout = 0.2, recurrent_dropout = 0.4))\n",
    "model.add(Dense(len(L), activation = 'softmax'))\n",
    "\n",
    "model.compile(optimizer = 'rmsprop',\n",
    "             loss = 'categorical_crossentropy',\n",
    "             metrics = ['accuracy'])\n",
    "\n",
    "model.summary()"
   ]
  },
  {
   "cell_type": "markdown",
   "metadata": {},
   "source": [
    "## 5. Training and validation"
   ]
  },
  {
   "cell_type": "markdown",
   "metadata": {},
   "source": [
    "Training is executed with .fit() method. 30% from the training set is split for validation is with validation_split argument."
   ]
  },
  {
   "cell_type": "code",
   "execution_count": 10,
   "metadata": {},
   "outputs": [
    {
     "name": "stdout",
     "output_type": "stream",
     "text": [
      "Train on 7303 samples, validate on 3130 samples\n",
      "Epoch 1/30\n",
      "7303/7303 [==============================] - 202s 28ms/step - loss: 2.8213 - acc: 0.1714 - val_loss: 2.7533 - val_acc: 0.1987\n",
      "Epoch 2/30\n",
      "7303/7303 [==============================] - 204s 28ms/step - loss: 2.6846 - acc: 0.1921 - val_loss: 2.6619 - val_acc: 0.2080\n",
      "Epoch 3/30\n",
      "7303/7303 [==============================] - 202s 28ms/step - loss: 2.5906 - acc: 0.2151 - val_loss: 2.6646 - val_acc: 0.2010\n",
      "Epoch 4/30\n",
      "7303/7303 [==============================] - 201s 27ms/step - loss: 2.5042 - acc: 0.2404 - val_loss: 2.6384 - val_acc: 0.2419\n",
      "Epoch 5/30\n",
      "7303/7303 [==============================] - 190s 26ms/step - loss: 2.3954 - acc: 0.2770 - val_loss: 2.6049 - val_acc: 0.2470\n",
      "Epoch 6/30\n",
      "7303/7303 [==============================] - 190s 26ms/step - loss: 2.2856 - acc: 0.3044 - val_loss: 2.6279 - val_acc: 0.2425\n",
      "Epoch 7/30\n",
      "7303/7303 [==============================] - 200s 27ms/step - loss: 2.1874 - acc: 0.3340 - val_loss: 2.6645 - val_acc: 0.2297\n",
      "Epoch 8/30\n",
      "7303/7303 [==============================] - 224s 31ms/step - loss: 2.1000 - acc: 0.3618 - val_loss: 2.6900 - val_acc: 0.2310\n",
      "Epoch 9/30\n",
      "7303/7303 [==============================] - 221s 30ms/step - loss: 2.0228 - acc: 0.3783 - val_loss: 2.6967 - val_acc: 0.2224\n",
      "Epoch 10/30\n",
      "7303/7303 [==============================] - 225s 31ms/step - loss: 1.9533 - acc: 0.4012 - val_loss: 2.8070 - val_acc: 0.2073\n",
      "Epoch 11/30\n",
      "7303/7303 [==============================] - 231s 32ms/step - loss: 1.8941 - acc: 0.4141 - val_loss: 2.7559 - val_acc: 0.2141\n",
      "Epoch 12/30\n",
      "7303/7303 [==============================] - 230s 31ms/step - loss: 1.8378 - acc: 0.4363 - val_loss: 2.8344 - val_acc: 0.2137\n",
      "Epoch 13/30\n",
      "7303/7303 [==============================] - 224s 31ms/step - loss: 1.7694 - acc: 0.4554 - val_loss: 2.9117 - val_acc: 0.2169\n",
      "Epoch 14/30\n",
      "7303/7303 [==============================] - 224s 31ms/step - loss: 1.7294 - acc: 0.4702 - val_loss: 2.8970 - val_acc: 0.2105\n",
      "Epoch 15/30\n",
      "7303/7303 [==============================] - 222s 30ms/step - loss: 1.6752 - acc: 0.4880 - val_loss: 2.9424 - val_acc: 0.2147\n",
      "Epoch 16/30\n",
      "7303/7303 [==============================] - 231s 32ms/step - loss: 1.6333 - acc: 0.5001 - val_loss: 2.9925 - val_acc: 0.1984\n",
      "Epoch 17/30\n",
      "7303/7303 [==============================] - 231s 32ms/step - loss: 1.5866 - acc: 0.5117 - val_loss: 3.0176 - val_acc: 0.2010\n",
      "Epoch 18/30\n",
      "7303/7303 [==============================] - 215s 29ms/step - loss: 1.5607 - acc: 0.5151 - val_loss: 3.0669 - val_acc: 0.2000\n",
      "Epoch 19/30\n",
      "7303/7303 [==============================] - 206s 28ms/step - loss: 1.5166 - acc: 0.5279 - val_loss: 3.1368 - val_acc: 0.2019\n",
      "Epoch 20/30\n",
      "7303/7303 [==============================] - 188s 26ms/step - loss: 1.4978 - acc: 0.5302 - val_loss: 3.1350 - val_acc: 0.1971\n",
      "Epoch 21/30\n",
      "7303/7303 [==============================] - 189s 26ms/step - loss: 1.4536 - acc: 0.5470 - val_loss: 3.1214 - val_acc: 0.1907\n",
      "Epoch 22/30\n",
      "7303/7303 [==============================] - 186s 25ms/step - loss: 1.4217 - acc: 0.5570 - val_loss: 3.1819 - val_acc: 0.2016\n",
      "Epoch 23/30\n",
      "7303/7303 [==============================] - 184s 25ms/step - loss: 1.3924 - acc: 0.5609 - val_loss: 3.2469 - val_acc: 0.1955\n",
      "Epoch 24/30\n",
      "7303/7303 [==============================] - 184s 25ms/step - loss: 1.3617 - acc: 0.5661 - val_loss: 3.2534 - val_acc: 0.1789\n",
      "Epoch 25/30\n",
      "7303/7303 [==============================] - 185s 25ms/step - loss: 1.3306 - acc: 0.5762 - val_loss: 3.3330 - val_acc: 0.1837\n",
      "Epoch 26/30\n",
      "7303/7303 [==============================] - 185s 25ms/step - loss: 1.3025 - acc: 0.5807 - val_loss: 3.3727 - val_acc: 0.1859\n",
      "Epoch 27/30\n",
      "7303/7303 [==============================] - 185s 25ms/step - loss: 1.2704 - acc: 0.5870 - val_loss: 3.4379 - val_acc: 0.1834\n",
      "Epoch 28/30\n",
      "7303/7303 [==============================] - 186s 25ms/step - loss: 1.2535 - acc: 0.5895 - val_loss: 3.4460 - val_acc: 0.1824\n",
      "Epoch 29/30\n",
      "7303/7303 [==============================] - 185s 25ms/step - loss: 1.2285 - acc: 0.5952 - val_loss: 3.5074 - val_acc: 0.1754\n",
      "Epoch 30/30\n",
      "7303/7303 [==============================] - 188s 26ms/step - loss: 1.2031 - acc: 0.6048 - val_loss: 3.4685 - val_acc: 0.1901\n",
      "Elapsed time: 6119.92 seconds\n"
     ]
    }
   ],
   "source": [
    "t1 = time.time()\n",
    "history = model.fit(data, one_hot_labels,\n",
    "                   epochs = 30,\n",
    "                   batch_size = 32,\n",
    "                   validation_split = 0.3)\n",
    "t2 = time.time()\n",
    "print('Elapsed time: {:.2f} seconds'.format((t2-t1)))"
   ]
  },
  {
   "cell_type": "markdown",
   "metadata": {},
   "source": [
    "## 6. Evaluation"
   ]
  },
  {
   "cell_type": "markdown",
   "metadata": {},
   "source": [
    "Here the model is tested with  the testing set. Model.evaluate function computes testing sets loss function and accuracy."
   ]
  },
  {
   "cell_type": "code",
   "execution_count": 11,
   "metadata": {},
   "outputs": [
    {
     "name": "stdout",
     "output_type": "stream",
     "text": [
      "12733/12733 [==============================] - 72s 6ms/step\n"
     ]
    },
    {
     "data": {
      "text/plain": [
       "[2.7694019010302351, 0.28594989400670934]"
      ]
     },
     "execution_count": 11,
     "metadata": {},
     "output_type": "execute_result"
    }
   ],
   "source": [
    "# download and preprocess the test data\n",
    "\n",
    "test_dir = os.path.join(ohsumed_dir, 'test')\n",
    "\n",
    "test_labels = []\n",
    "test_texts = []\n",
    "\n",
    "for label_type in L:\n",
    "    dir_name = os.path.join(test_dir, label_type)\n",
    "    for fname in os.listdir(dir_name):\n",
    "        f = open(os.path.join(dir_name, fname))\n",
    "        test_texts.append(f.read())\n",
    "        f.close()\n",
    "        i = L.index(label_type)\n",
    "        test_labels.append(i)\n",
    "        \n",
    "test_sequences = tokenizer.texts_to_sequences(test_texts)\n",
    "x_test = pad_sequences(test_sequences, maxlen=maxlen)\n",
    "test_labels = np.asarray(test_labels)\n",
    "y_test = to_categorical(test_labels)\n",
    "\n",
    "# evaluate the model with test data\n",
    "model.evaluate(x_test, y_test)"
   ]
  },
  {
   "cell_type": "markdown",
   "metadata": {},
   "source": [
    "## 7. Results and discussion"
   ]
  },
  {
   "cell_type": "code",
   "execution_count": 12,
   "metadata": {},
   "outputs": [
    {
     "data": {
      "image/png": "[encoded data removed]",
      "text/plain": [
       "<matplotlib.figure.Figure at 0x1b23e947ba8>"
      ]
     },
     "metadata": {},
     "output_type": "display_data"
    },
    {
     "data": {
      "image/png": "[encoded data removed]",
      "text/plain": [
       "<matplotlib.figure.Figure at 0x1b23d66db70>"
      ]
     },
     "metadata": {},
     "output_type": "display_data"
    }
   ],
   "source": [
    "acc = history.history['acc']\n",
    "val_acc = history.history['val_acc']\n",
    "loss = history.history['loss']\n",
    "val_loss = history.history['val_loss']\n",
    "\n",
    "epochs = range(1, len(acc) + 1)\n",
    "\n",
    "plt.figure(figsize=(15, 3))\n",
    "plt.plot(epochs, acc, 'bo', label='Training acc')\n",
    "plt.plot(epochs, val_acc, 'b', label='Validation acc')\n",
    "plt.title('Training and validation accuracy')\n",
    "plt.grid()\n",
    "plt.xlabel('Epoch')\n",
    "plt.legend()\n",
    "\n",
    "\n",
    "plt.figure(figsize=(15, 3))\n",
    "plt.plot(epochs, loss, 'bo', label='Training loss')\n",
    "plt.plot(epochs, val_loss, 'b', label='Validation loss')\n",
    "plt.title('Training and validation loss')\n",
    "plt.grid()\n",
    "plt.xlabel('Epoch')\n",
    "plt.legend()\n",
    "\n",
    "plt.show()"
   ]
  },
  {
   "cell_type": "markdown",
   "metadata": {},
   "source": [
    "There is some heavy overfitting in the model despite the dropout arguments. Validation accuracy is extremely low and validation loss is extremely high. It is possible to see from the graph that overfitting starts after the fifth epoch. Interesting is that the testing accuracy and loss are better than validation results. "
   ]
  },
  {
   "cell_type": "markdown",
   "metadata": {},
   "source": [
    "### Metrics results"
   ]
  },
  {
   "cell_type": "markdown",
   "metadata": {},
   "source": [
    "Sklearn library calculates the metrics. In here they are classification report that shows classification results per class, confusion matrix and possibility to check predictions by text."
   ]
  },
  {
   "cell_type": "code",
   "execution_count": 13,
   "metadata": {
    "collapsed": true
   },
   "outputs": [],
   "source": [
    "# calculate the predictions\n",
    "predictions = model.predict(data)\n",
    "y_pred = np.argmax(predictions, axis = 1)"
   ]
  },
  {
   "cell_type": "code",
   "execution_count": 14,
   "metadata": {},
   "outputs": [
    {
     "name": "stdout",
     "output_type": "stream",
     "text": [
      "             precision    recall  f1-score   support\n",
      "\n",
      "          0       0.47      0.48      0.47       423\n",
      "          1       0.41      0.23      0.29       158\n",
      "          2       0.62      0.32      0.42        65\n",
      "          3       0.56      0.64      0.60      1163\n",
      "          4       0.42      0.51      0.46       283\n",
      "          5       0.55      0.52      0.54       588\n",
      "          6       0.51      0.36      0.42       100\n",
      "          7       0.45      0.49      0.47       473\n",
      "          8       0.44      0.34      0.38       125\n",
      "          9       0.53      0.51      0.52       621\n",
      "         10       0.49      0.52      0.50       162\n",
      "         11       0.55      0.53      0.54       491\n",
      "         12       0.51      0.53      0.52       281\n",
      "         13       0.63      0.69      0.66      1249\n",
      "         14       0.51      0.32      0.39       215\n",
      "         15       0.40      0.36      0.38       200\n",
      "         16       0.60      0.40      0.48       295\n",
      "         17       0.58      0.54      0.56       388\n",
      "         18       0.44      0.28      0.35       191\n",
      "         19       0.54      0.52      0.53       525\n",
      "         20       0.62      0.56      0.59       546\n",
      "         21       0.33      0.10      0.15        92\n",
      "         22       0.44      0.50      0.47      1799\n",
      "\n",
      "avg / total       0.52      0.52      0.52     10433\n",
      "\n"
     ]
    }
   ],
   "source": [
    "# classification results per class\n",
    "print(classification_report(labels, y_pred))"
   ]
  },
  {
   "cell_type": "code",
   "execution_count": 15,
   "metadata": {
    "scrolled": false
   },
   "outputs": [
    {
     "name": "stdout",
     "output_type": "stream",
     "text": [
      "[[203   3   0   5  11  19   3  25   0  15   4   7   7  13   2   5   1   5   1  18  12   1  63]\n",
      " [ 16  36   0  12   1   6   0   7   1   2   2   2   6   2   0   0   2   0   0  48   0   1  14]\n",
      " [  8   0  21   3   1   3   0   2   0   3   5   1   6   2   0   0   0   1   0   2   1   1   5]\n",
      " [  2   1   1 745  12  34  10  46  11  16   7  45  20  13   5   4   9  11  10  33  12   0 116]\n",
      " [  5   1   0   5 144   3   2   3   2  19   2   2   1   3   3   6   7   6   4   3  15   0  47]\n",
      " [ 18   4   2  47   7 308   1   7   0   9   2  12   4   8   2   2   0   9   0   7  20   1 118]\n",
      " [  4   1   0  19   3   0  36   4   1   0   0   1   0   3   2   3   3   1   2   3   0   0  14]\n",
      " [ 25   3   0  40   4   9   2 231   4   6   1   5   4  20   3   4   1   3   0  13  10   3  82]\n",
      " [  4   0   0  19   9   1   1  13  42   1   1   0   0   1   1   2   3   1   0   1   1   0  24]\n",
      " [  9   1   1  33  12   6   0   6   2 318   9   6   8  29   3   5   1   6   1  13  20   3 129]\n",
      " [  3   2   3   8   8   1   0   1   0   6  84   0   1   4   0   2   5   3   1   5   3   0  22]\n",
      " [  8   1   0  80   3  10   0   6   2   4   0 262   7  35   5   2   2   3   6   2   3   0  50]\n",
      " [ 16   8   0  24   1   4   1   2   0   3   1   9 149   4   5   9   1   1   0   7   2   0  34]\n",
      " [ 12   0   0  10   5  11   0  18   1  29   5  27  19 856   7  26   5  25   7   8  14   4 160]\n",
      " [  0   2   0  15   4   4   2  17   8   4   3   5   5  11  69   3   7   2   0   9   0   0  45]\n",
      " [  3   0   0  10   4   2   1  11   1   6   1   2  10  27   3  72   2   1   2   2   0   0  40]\n",
      " [  5   4   0  24  29   8   3   1   1   7   7   4   4   9   8   4 119   4   3  18   7   1  25]\n",
      " [  3   1   1  12   7   8   2   2   0  12   4  16   2  52   0   3   2 210  18   3   3   1  26]\n",
      " [  0   1   0  36   6   4   2   4   1   5   1  11   4  17   3   1   2  23  54   4   0   0  12]\n",
      " [ 25  13   3  33   5  11   1  41   4  12  10  10   8   7   3   0  10   5   2 271  10   1  40]\n",
      " [ 15   0   0  10  28  10   1  13   0  37   5   5   1  18   1   3   1   2   2  10 307   1  76]\n",
      " [  8   1   0   2   1   5   1   0   1   5   2   2   1  18   0   1   3   8   2   2   8   9  12]\n",
      " [ 44   4   2 137  39  89   2  48  14  84  15  44  28 202  11  22  11  32   7  23  45   0 896]]\n"
     ]
    }
   ],
   "source": [
    "# confusion matrix\n",
    "cm = confusion_matrix(labels, y_pred)\n",
    "print(np.array2string(cm, max_line_width = 100))"
   ]
  },
  {
   "cell_type": "markdown",
   "metadata": {},
   "source": [
    "This confusion matrix is not so great. The diagonal line from the upper left corner downwards should be formed from as big number as possible and everything else should be close to zero. And as you can see, in this model that is not happening. "
   ]
  },
  {
   "cell_type": "code",
   "execution_count": 16,
   "metadata": {},
   "outputs": [
    {
     "name": "stdout",
     "output_type": "stream",
     "text": [
      "Pleuropulmonary manifestations of hepatic amebiasis \n",
      " Pleuropulmonary manifestations of hepatic amebiasis occurred in 30 patients; 18 (60%) presented with at least 1 pulmonary complaint and 10 (33%) had multiple pulmonary symptoms.\n",
      " In 14 patients (47%), abnormalities were found on examination of the chest.\n",
      " In 16 chest roentgenograms (53%), there was at least 1 abnormality: right-sided pleural effusion (9 patients) and elevated right hemidiaphragm (8 patients) were the most common.\n",
      " All patients were treated with metronidazole (Flagyl) and had resolution of the amebic liver abscess and pulmonary disease.\n",
      " Pleuropulmonary disease is a common complication of amebic liver abscess.\n",
      " The clinical presentation and chest roentgenograms are virtually diagnostic and obviate the need for invasive procedures to confirm the diagnosis.\n",
      " Pleuropulmonary disease resolves with amebicidal treatment of the hepatic abscess.\n",
      "\n"
     ]
    }
   ],
   "source": [
    "print(texts[indices[512]])"
   ]
  },
  {
   "cell_type": "code",
   "execution_count": 17,
   "metadata": {},
   "outputs": [
    {
     "name": "stdout",
     "output_type": "stream",
     "text": [
      "True class:  2\n",
      "Predicted class: 0\n",
      "Predictions per class:\n",
      "[ 0.27  0.02  0.01  0.    0.01  0.23  0.02  0.08  0.03  0.02  0.    0.\n",
      "  0.01  0.    0.    0.    0.    0.    0.    0.04  0.04  0.02  0.17]\n"
     ]
    },
    {
     "data": {
      "image/png": "[encoded data removed]",
      "text/plain": [
       "<matplotlib.figure.Figure at 0x1b23e9285f8>"
      ]
     },
     "metadata": {},
     "output_type": "display_data"
    }
   ],
   "source": [
    "print('True class: ', labels[512])\n",
    "print('Predicted class:', y_pred[512])\n",
    "print('Predictions per class:')\n",
    "print(np.array2string(predictions[512], precision = 2))\n",
    "\n",
    "plt.stem(predictions[512])\n",
    "plt.show()"
   ]
  },
  {
   "cell_type": "markdown",
   "metadata": {},
   "source": [
    "## 8. Conclusions"
   ]
  },
  {
   "cell_type": "markdown",
   "metadata": {},
   "source": [
    "The Case 3. was a nice introduction to recurrent neural networks. I think the difficulty level was okay although it was more time consuming than I originally thought. Also I somehow completely forgot to do it and that's why I'm returning it late. The objectives were achieved such as the neural network works and is able to produce some kind of prediction. Alltogether I think this might have been the most interesting out of all three cases. \n",
    "\n",
    "The validation accuracy and loss were lower than test accuracy and loss and I could not seem to get myself to figure out why. With quick googling I only found reasons for validation accuracy being higher than training accuracy. Training accuracy is best at 0.6. Slightly over 0.28 test accuracy is also not good enough for a medical classifier. There is still some iossues to figure out with this model."
   ]
  }
 ],
 "metadata": {
  "kernelspec": {
   "display_name": "Python 3",
   "language": "python",
   "name": "python3"
  },
  "language_info": {
   "codemirror_mode": {
    "name": "ipython",
    "version": 3
   },
   "file_extension": ".py",
   "mimetype": "text/x-python",
   "name": "python",
   "nbconvert_exporter": "python",
   "pygments_lexer": "ipython3",
   "version": "3.6.3"
  }
 },
 "nbformat": 4,
 "nbformat_minor": 2
}
