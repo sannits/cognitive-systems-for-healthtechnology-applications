{
 "cells": [
  {
   "cell_type": "markdown",
   "metadata": {},
   "source": [
    "# Case 2. Diabetic Retinopathy Analysis\n",
    "Sanni Tolonen<br>\n",
    "26.2.2018<br>\n",
    "Cognitive Systems for Health Technology Applications, Spring 2018<br>\n",
    "Helsinki Metropolia University of Applied Sciences"
   ]
  },
  {
   "cell_type": "markdown",
   "metadata": {},
   "source": [
    "<h2>1. Objectives</h2><br>\n",
    "The aim of this assignment is to learn to use convolutional neural networks to classify medical\n",
    "images.<br>\n",
    "For a little help in this assignment I checked what Ben Graham and his team had done in Kaggle Diabetic Retinopathy Detection competition report."
   ]
  },
  {
   "cell_type": "markdown",
   "metadata": {},
   "source": [
    "<h2> 2. Required libraries </h2>"
   ]
  },
  {
   "cell_type": "code",
   "execution_count": 1,
   "metadata": {},
   "outputs": [
    {
     "name": "stderr",
     "output_type": "stream",
     "text": [
      "Using TensorFlow backend.\n"
     ]
    }
   ],
   "source": [
    "# import libraries and functions\n",
    "\n",
    "import numpy as np\n",
    "import matplotlib.pyplot as plt \n",
    "import pickle\n",
    "from keras import layers\n",
    "from keras import models\n",
    "from keras.preprocessing.image import ImageDataGenerator\n",
    "from keras import optimizers\n",
    "import time"
   ]
  },
  {
   "cell_type": "markdown",
   "metadata": {},
   "source": [
    "Numpy is used for scientific computing and creating multidimensional arrays, matplotlib for ploting figures, pickle for saving the history of the model, keras for building the convolutional neural network and time for calculating time."
   ]
  },
  {
   "cell_type": "markdown",
   "metadata": {},
   "source": [
    "<h2> 3. Data description and preprocessing </h2>"
   ]
  },
  {
   "cell_type": "markdown",
   "metadata": {},
   "source": [
    "This dataset is a large set of high-resolution retina images taken under a variety of imaging conditions. \n",
    "A clinician has rated the presence of diabetic retinopathy in each image on a scale of 0 to 4:\n",
    "\n",
    "<ul>\n",
    "<li>0 - No DR</li>\n",
    "<li>1 - Mild</li>\n",
    "<li>2 - Moderate</li>\n",
    "<li>3 - Severe</li>\n",
    "<li>4 - Proliferative DR</li>\n",
    "</ul>\n",
    "\n",
    "The images come from different models and types of cameras, which can affect the visual appearance. Some images are shown as one would see the retina anatomically meaning macula on the left, optic nerve on the right for the right eye. Others are shown as one would see through a microscope condensing lens in example inverted, as one sees in a typical live eye exam. There are two ways to tell if an image is inverted:\n",
    "\n",
    "It is inverted if the macula, the small dark central area, is slightly higher than the midline through the optic nerve. If the macula is lower than the midline of the optic nerve, it's not inverted.\n",
    "If there is a notch on the side of the image (square, triangle, or circle) then it's not inverted. If there is no notch, it's inverted."
   ]
  },
  {
   "cell_type": "code",
   "execution_count": 2,
   "metadata": {},
   "outputs": [
    {
     "name": "stdout",
     "output_type": "stream",
     "text": [
      "Training dataset.\n",
      "Found 1928 images belonging to 2 classes.\n",
      "Validation dataset.\n",
      "Found 1021 images belonging to 2 classes.\n",
      "Test dataset.\n",
      "Found 1013 images belonging to 2 classes.\n"
     ]
    }
   ],
   "source": [
    "# dataset directories and labels files\n",
    "\n",
    "train_dir = \"../dataset2/train\" \n",
    "validation_dir = \"../dataset2/validation\" \n",
    "test_dir = \"../dataset2/test\" \n",
    "\n",
    "# create datagenerators\n",
    "\n",
    "train_datagen = ImageDataGenerator(rescale=1./255,\n",
    "                                   fill_mode='nearest',\n",
    "                                   horizontal_flip=True,\n",
    "                                   zoom_range=0.2)\n",
    "\n",
    "validation_datagen = ImageDataGenerator(rescale = 1./255)\n",
    "\n",
    "test_datagen = ImageDataGenerator(rescale=1./255)\n",
    "\n",
    "# training parameters\n",
    "\n",
    "batch_size = 50\n",
    "epochs = 50\n",
    "steps_per_epoch = 25 \n",
    "validation_steps = 10\n",
    "image_height = 150\n",
    "image_width = 200 \n",
    "\n",
    "# generator for train dataset\n",
    "\n",
    "print('Training dataset.')\n",
    "train_generator = train_datagen.flow_from_directory(\n",
    "        train_dir,\n",
    "        target_size = (image_height, image_width),\n",
    "        batch_size = batch_size,\n",
    "        class_mode = 'binary')\n",
    "\n",
    "# generator for validation dataset\n",
    "\n",
    "print('Validation dataset.')\n",
    "validation_generator = validation_datagen.flow_from_directory(\n",
    "        validation_dir,\n",
    "        target_size = (image_height, image_width),\n",
    "        batch_size = batch_size,\n",
    "        class_mode = 'binary')\n",
    "\n",
    "# generator for test dataset\n",
    "\n",
    "print('Test dataset.')\n",
    "test_generator = test_datagen.flow_from_directory(\n",
    "        test_dir,\n",
    "        target_size = (image_height, image_width),\n",
    "        batch_size = batch_size,\n",
    "        class_mode = 'binary')\n"
   ]
  },
  {
   "cell_type": "markdown",
   "metadata": {},
   "source": [
    "Dataset is splitted to train, validation and test datasets. All images will be rescaled by 1./255 and resized to 150x200. Training set is supplemented. It's filling mode is choosed 'nearest' which means that if there are generated empty pixels in prosessing generator is able to choose a pixel value from nearest pixel that has a value. It's also accepting horizontal flip, zoom range is maxium in 20%. For preprocessing I first tried the preprocessing function designed by Sakari Lukkarinen but I had some issues with that so I did some research and used a different approach."
   ]
  },
  {
   "cell_type": "markdown",
   "metadata": {},
   "source": [
    "<h2> 4. Modeling and compilation </h2>"
   ]
  },
  {
   "cell_type": "markdown",
   "metadata": {},
   "source": [
    "This model is almost exactly alike the one in Sakaris GitHub repository. I wanted to try with this one also, since I had problems with the other one. For starters, there is two Conv2D layers followed by one MaxPool2D layer. After two sets of these, there is two Conv2D layers and then two sets of two Conv2D layers with a Dropout layer for weight regularization to avoid overfitting. In the end there is  Flatten layer to flatten the input, a couple of Dense leyers and another Dropout layer."
   ]
  },
  {
   "cell_type": "code",
   "execution_count": 3,
   "metadata": {},
   "outputs": [
    {
     "name": "stdout",
     "output_type": "stream",
     "text": [
      "_________________________________________________________________\n",
      "Layer (type)                 Output Shape              Param #   \n",
      "=================================================================\n",
      "conv2d_1 (Conv2D)            (None, 148, 198, 32)      896       \n",
      "_________________________________________________________________\n",
      "conv2d_2 (Conv2D)            (None, 146, 196, 32)      9248      \n",
      "_________________________________________________________________\n",
      "max_pooling2d_1 (MaxPooling2 (None, 72, 97, 32)        0         \n",
      "_________________________________________________________________\n",
      "conv2d_3 (Conv2D)            (None, 70, 95, 64)        18496     \n",
      "_________________________________________________________________\n",
      "conv2d_4 (Conv2D)            (None, 68, 93, 64)        36928     \n",
      "_________________________________________________________________\n",
      "max_pooling2d_2 (MaxPooling2 (None, 33, 46, 64)        0         \n",
      "_________________________________________________________________\n",
      "conv2d_5 (Conv2D)            (None, 31, 44, 96)        55392     \n",
      "_________________________________________________________________\n",
      "conv2d_6 (Conv2D)            (None, 29, 42, 96)        83040     \n",
      "_________________________________________________________________\n",
      "max_pooling2d_3 (MaxPooling2 (None, 14, 20, 96)        0         \n",
      "_________________________________________________________________\n",
      "conv2d_7 (Conv2D)            (None, 12, 18, 128)       110720    \n",
      "_________________________________________________________________\n",
      "conv2d_8 (Conv2D)            (None, 10, 16, 128)       147584    \n",
      "_________________________________________________________________\n",
      "conv2d_9 (Conv2D)            (None, 8, 14, 160)        184480    \n",
      "_________________________________________________________________\n",
      "conv2d_10 (Conv2D)           (None, 6, 12, 160)        230560    \n",
      "_________________________________________________________________\n",
      "dropout_1 (Dropout)          (None, 6, 12, 160)        0         \n",
      "_________________________________________________________________\n",
      "conv2d_11 (Conv2D)           (None, 4, 10, 192)        276672    \n",
      "_________________________________________________________________\n",
      "conv2d_12 (Conv2D)           (None, 2, 8, 192)         331968    \n",
      "_________________________________________________________________\n",
      "dropout_2 (Dropout)          (None, 2, 8, 192)         0         \n",
      "_________________________________________________________________\n",
      "flatten_1 (Flatten)          (None, 3072)              0         \n",
      "_________________________________________________________________\n",
      "dense_1 (Dense)              (None, 256)               786688    \n",
      "_________________________________________________________________\n",
      "dropout_3 (Dropout)          (None, 256)               0         \n",
      "_________________________________________________________________\n",
      "dense_2 (Dense)              (None, 1)                 257       \n",
      "=================================================================\n",
      "Total params: 2,272,929\n",
      "Trainable params: 2,272,929\n",
      "Non-trainable params: 0\n",
      "_________________________________________________________________\n"
     ]
    }
   ],
   "source": [
    "# build the model\n",
    "\n",
    "model = models.Sequential()\n",
    "model.add(layers.Conv2D(32, (3, 3), activation = 'relu', \n",
    "                        input_shape = (image_height, image_width, 3)))\n",
    "model.add(layers.Conv2D(32, (3, 3), activation = 'relu'))\n",
    "model.add(layers.MaxPool2D((3, 3), strides=2))\n",
    "\n",
    "model.add(layers.Conv2D(64, (3, 3), activation = 'relu'))\n",
    "model.add(layers.Conv2D(64, (3, 3), activation = 'relu'))\n",
    "model.add(layers.MaxPool2D((3, 3), strides=2))\n",
    "\n",
    "model.add(layers.Conv2D(96, (3, 3), activation = 'relu'))\n",
    "model.add(layers.Conv2D(96, (3, 3), activation = 'relu'))\n",
    "model.add(layers.MaxPool2D((3, 3), strides=2))\n",
    "\n",
    "model.add(layers.Conv2D(128, (3, 3), activation = 'relu'))\n",
    "model.add(layers.Conv2D(128, (3, 3), activation = 'relu'))\n",
    "\n",
    "model.add(layers.Conv2D(160, (3, 3), activation = 'relu'))\n",
    "model.add(layers.Conv2D(160, (3, 3), activation = 'relu'))\n",
    "model.add(layers.Dropout(0.1))\n",
    "\n",
    "model.add(layers.Conv2D(192, (3, 3), activation = 'relu'))\n",
    "model.add(layers.Conv2D(192, (3, 3), activation = 'relu'))\n",
    "model.add(layers.Dropout(0.1))\n",
    "\n",
    "model.add(layers.Flatten())\n",
    "model.add(layers.Dense(256, activation='relu'))\n",
    "model.add(layers.Dropout(0.2))\n",
    "model.add(layers.Dense(1, activation='sigmoid'))\n",
    "\n",
    "model.summary()\n",
    "\n",
    "# compile the model\n",
    "\n",
    "model.compile(loss='binary_crossentropy',\n",
    "              optimizer=optimizers.RMSprop(),\n",
    "              metrics=['acc'])\n"
   ]
  },
  {
   "cell_type": "markdown",
   "metadata": {},
   "source": [
    "<h2> 5. Training and validation </h2>"
   ]
  },
  {
   "cell_type": "code",
   "execution_count": 4,
   "metadata": {},
   "outputs": [
    {
     "name": "stdout",
     "output_type": "stream",
     "text": [
      "Epoch 1/50\n",
      "25/25 [==============================] - 645s 26s/step - loss: 4.5573 - acc: 0.6998 - val_loss: 4.9644 - val_acc: 0.6920\n",
      "Epoch 2/50\n",
      "25/25 [==============================] - 578s 23s/step - loss: 4.7194 - acc: 0.7072 - val_loss: 4.9644 - val_acc: 0.6920\n",
      "Epoch 3/50\n",
      "25/25 [==============================] - 570s 23s/step - loss: 4.5941 - acc: 0.7150 - val_loss: 4.9644 - val_acc: 0.6920\n",
      "Epoch 4/50\n",
      "25/25 [==============================] - 613s 25s/step - loss: 4.6552 - acc: 0.7112 - val_loss: 4.9644 - val_acc: 0.6920\n",
      "Epoch 5/50\n",
      "25/25 [==============================] - 580s 23s/step - loss: 4.5131 - acc: 0.7200 - val_loss: 4.9644 - val_acc: 0.6920\n",
      "Epoch 6/50\n",
      "25/25 [==============================] - 555s 22s/step - loss: 4.7266 - acc: 0.7068 - val_loss: 4.9644 - val_acc: 0.6920\n",
      "Epoch 7/50\n",
      "25/25 [==============================] - 597s 24s/step - loss: 4.8390 - acc: 0.6998 - val_loss: 4.9644 - val_acc: 0.6920\n",
      "Epoch 8/50\n",
      "25/25 [==============================] - 571s 23s/step - loss: 4.7363 - acc: 0.7061 - val_loss: 4.9644 - val_acc: 0.6920\n",
      "Epoch 9/50\n",
      "25/25 [==============================] - 578s 23s/step - loss: 4.3454 - acc: 0.7304 - val_loss: 4.9644 - val_acc: 0.6920\n",
      "Epoch 10/50\n",
      "25/25 [==============================] - 632s 25s/step - loss: 4.8037 - acc: 0.7020 - val_loss: 4.9644 - val_acc: 0.6920\n",
      "Epoch 11/50\n",
      "25/25 [==============================] - 572s 23s/step - loss: 4.6162 - acc: 0.7136 - val_loss: 4.9644 - val_acc: 0.6920\n",
      "Epoch 12/50\n",
      "25/25 [==============================] - 593s 24s/step - loss: 4.6291 - acc: 0.7128 - val_loss: 4.9644 - val_acc: 0.6920\n",
      "Epoch 13/50\n",
      "25/25 [==============================] - 626s 25s/step - loss: 4.7106 - acc: 0.7077 - val_loss: 4.9644 - val_acc: 0.6920\n",
      "Epoch 14/50\n",
      "25/25 [==============================] - 589s 24s/step - loss: 4.6936 - acc: 0.7088 - val_loss: 4.9644 - val_acc: 0.6920\n",
      "Epoch 15/50\n",
      "25/25 [==============================] - 657s 26s/step - loss: 4.5260 - acc: 0.7192 - val_loss: 4.9644 - val_acc: 0.6920\n",
      "Epoch 16/50\n",
      "25/25 [==============================] - 614s 25s/step - loss: 4.6463 - acc: 0.7117 - val_loss: 4.9644 - val_acc: 0.6920\n",
      "Epoch 17/50\n",
      "25/25 [==============================] - 598s 24s/step - loss: 4.8096 - acc: 0.7016 - val_loss: 4.9644 - val_acc: 0.6920\n",
      "Epoch 18/50\n",
      "25/25 [==============================] - 622s 25s/step - loss: 4.7967 - acc: 0.7024 - val_loss: 4.9644 - val_acc: 0.6920\n",
      "Epoch 19/50\n",
      "25/25 [==============================] - 572s 23s/step - loss: 4.5527 - acc: 0.7175 - val_loss: 4.9644 - val_acc: 0.6920\n",
      "Epoch 20/50\n",
      "25/25 [==============================] - 568s 23s/step - loss: 4.5646 - acc: 0.7168 - val_loss: 4.9644 - val_acc: 0.6920\n",
      "Epoch 21/50\n",
      "25/25 [==============================] - 610s 24s/step - loss: 4.8483 - acc: 0.6992 - val_loss: 4.9644 - val_acc: 0.6920\n",
      "Epoch 22/50\n",
      "25/25 [==============================] - 578s 23s/step - loss: 4.5101 - acc: 0.7202 - val_loss: 4.9644 - val_acc: 0.6920\n",
      "Epoch 23/50\n",
      "25/25 [==============================] - 576s 23s/step - loss: 4.5002 - acc: 0.7208 - val_loss: 4.9644 - val_acc: 0.6920\n",
      "Epoch 24/50\n",
      "25/25 [==============================] - 591s 24s/step - loss: 4.8490 - acc: 0.6992 - val_loss: 4.9644 - val_acc: 0.6920\n",
      "Epoch 25/50\n",
      "25/25 [==============================] - 570s 23s/step - loss: 4.6813 - acc: 0.7096 - val_loss: 4.9644 - val_acc: 0.6920\n",
      "Epoch 26/50\n",
      "25/25 [==============================] - 573s 23s/step - loss: 4.8003 - acc: 0.7022 - val_loss: 4.9644 - val_acc: 0.6920\n",
      "Epoch 27/50\n",
      "25/25 [==============================] - 591s 24s/step - loss: 4.4228 - acc: 0.7256 - val_loss: 4.9644 - val_acc: 0.6920\n",
      "Epoch 28/50\n",
      "25/25 [==============================] - 546s 22s/step - loss: 4.7137 - acc: 0.7076 - val_loss: 4.9644 - val_acc: 0.6920\n",
      "Epoch 29/50\n",
      "25/25 [==============================] - 619s 25s/step - loss: 4.7102 - acc: 0.7078 - val_loss: 4.9644 - val_acc: 0.6920\n",
      "Epoch 30/50\n",
      "25/25 [==============================] - 580s 23s/step - loss: 4.6747 - acc: 0.7100 - val_loss: 4.9644 - val_acc: 0.6920\n",
      "Epoch 31/50\n",
      "25/25 [==============================] - 562s 22s/step - loss: 4.6936 - acc: 0.7088 - val_loss: 4.9644 - val_acc: 0.6920\n",
      "Epoch 32/50\n",
      "25/25 [==============================] - 617s 25s/step - loss: 4.5131 - acc: 0.7200 - val_loss: 4.9644 - val_acc: 0.6920\n",
      "Epoch 33/50\n",
      "25/25 [==============================] - 576s 23s/step - loss: 4.8103 - acc: 0.7016 - val_loss: 4.9644 - val_acc: 0.6920\n",
      "Epoch 34/50\n",
      "25/25 [==============================] - 563s 23s/step - loss: 4.7942 - acc: 0.7026 - val_loss: 4.9644 - val_acc: 0.6920\n",
      "Epoch 35/50\n",
      "25/25 [==============================] - 637s 25s/step - loss: 4.3712 - acc: 0.7288 - val_loss: 4.9644 - val_acc: 0.6920\n",
      "Epoch 36/50\n",
      "25/25 [==============================] - 574s 23s/step - loss: 4.8295 - acc: 0.7004 - val_loss: 4.9644 - val_acc: 0.6920\n",
      "Epoch 37/50\n",
      "25/25 [==============================] - 581s 23s/step - loss: 4.5646 - acc: 0.7168 - val_loss: 4.9644 - val_acc: 0.6920\n",
      "Epoch 38/50\n",
      "25/25 [==============================] - 577s 23s/step - loss: 4.5815 - acc: 0.7158 - val_loss: 4.9644 - val_acc: 0.6920\n",
      "Epoch 39/50\n",
      "25/25 [==============================] - 576s 23s/step - loss: 4.7839 - acc: 0.7032 - val_loss: 4.9644 - val_acc: 0.6920\n",
      "Epoch 40/50\n",
      "25/25 [==============================] - 579s 23s/step - loss: 4.8999 - acc: 0.6960 - val_loss: 4.9644 - val_acc: 0.6920\n",
      "Epoch 41/50\n",
      "25/25 [==============================] - 581s 23s/step - loss: 4.7424 - acc: 0.7058 - val_loss: 4.9644 - val_acc: 0.6920\n",
      "Epoch 42/50\n",
      "25/25 [==============================] - 556s 22s/step - loss: 4.3583 - acc: 0.7296 - val_loss: 4.9644 - val_acc: 0.6920\n",
      "Epoch 43/50\n",
      "25/25 [==============================] - 620s 25s/step - loss: 4.8232 - acc: 0.7008 - val_loss: 4.9644 - val_acc: 0.6920\n",
      "Epoch 44/50\n",
      "25/25 [==============================] - 581s 23s/step - loss: 4.5617 - acc: 0.7170 - val_loss: 4.9644 - val_acc: 0.6920\n",
      "Epoch 45/50\n",
      "25/25 [==============================] - 558s 22s/step - loss: 4.5554 - acc: 0.7174 - val_loss: 4.9644 - val_acc: 0.6920\n",
      "Epoch 46/50\n",
      "25/25 [==============================] - 623s 25s/step - loss: 4.8225 - acc: 0.7008 - val_loss: 4.9644 - val_acc: 0.6920\n",
      "Epoch 47/50\n",
      "25/25 [==============================] - 603s 24s/step - loss: 4.4522 - acc: 0.7238 - val_loss: 4.9644 - val_acc: 0.6920\n",
      "Epoch 48/50\n",
      "25/25 [==============================] - 573s 23s/step - loss: 4.7581 - acc: 0.7048 - val_loss: 4.9644 - val_acc: 0.6920\n",
      "Epoch 49/50\n",
      "25/25 [==============================] - 588s 24s/step - loss: 4.8660 - acc: 0.6981 - val_loss: 4.9644 - val_acc: 0.6920\n",
      "Epoch 50/50\n",
      "25/25 [==============================] - 579s 23s/step - loss: 4.3712 - acc: 0.7288 - val_loss: 4.9644 - val_acc: 0.6920\n"
     ]
    }
   ],
   "source": [
    "# train the model\n",
    "\n",
    "t1 = time.time()\n",
    "\n",
    "h = model.fit_generator(\n",
    "      train_generator,\n",
    "      steps_per_epoch = steps_per_epoch,\n",
    "      verbose = 1,\n",
    "      epochs = epochs,\n",
    "      validation_data = validation_generator,\n",
    "      validation_steps = validation_steps)\n",
    "t2 = time.time()\n",
    "\n",
    "# store the elapsed time into history\n",
    "\n",
    "h.history.update({'time_elapsed': t2 - t1})\n",
    "\n",
    "# save the model and history\n",
    "\n",
    "model.save('case_2_run_3.h5')\n",
    "pickle.dump(h.history, open('case_2_history_3.p', 'wb'))"
   ]
  },
  {
   "cell_type": "code",
   "execution_count": 5,
   "metadata": {},
   "outputs": [
    {
     "name": "stdout",
     "output_type": "stream",
     "text": [
      "Time per epoch 8.19 hours.\n",
      "Time per epoch 12.28 minutes.\n"
     ]
    }
   ],
   "source": [
    "print('Time per epoch {:.2f} hours.'.format((t2-t1)/3600))\n",
    "print('Time per epoch {:.2f} minutes.'.format((t2-t1)/40/60))"
   ]
  },
  {
   "cell_type": "markdown",
   "metadata": {},
   "source": [
    "<h2> 6. Evaluation </h2>"
   ]
  },
  {
   "cell_type": "markdown",
   "metadata": {},
   "source": [
    "Here the model created above is tested with the testing set. "
   ]
  },
  {
   "cell_type": "code",
   "execution_count": 6,
   "metadata": {},
   "outputs": [
    {
     "name": "stdout",
     "output_type": "stream",
     "text": [
      "Found 1013 images belonging to 2 classes.\n"
     ]
    },
    {
     "data": {
      "text/plain": [
       "[4.6420114636421204, 0.71200000345706937]"
      ]
     },
     "execution_count": 6,
     "metadata": {},
     "output_type": "execute_result"
    }
   ],
   "source": [
    "test_generator = test_datagen.flow_from_directory(\n",
    "        test_dir,\n",
    "        target_size = (image_height, image_width),\n",
    "        batch_size = batch_size,\n",
    "        class_mode = 'binary')\n",
    "\n",
    "r = model.evaluate_generator(test_generator, steps = 20)\n",
    "\n",
    "# loss and accuracy\n",
    "r"
   ]
  },
  {
   "cell_type": "markdown",
   "metadata": {},
   "source": [
    "<h2> 7. Results and discussion </h2>"
   ]
  },
  {
   "cell_type": "markdown",
   "metadata": {},
   "source": [
    "Training accuracy is still under 0.75 the whole time. The final testing accuracy is 0.71. In the end of training the loss function is 4.77 which is really big. This means that the inconsistency between predicted value and actual label is large. The final testing loss function is 4.70. "
   ]
  },
  {
   "cell_type": "code",
   "execution_count": 8,
   "metadata": {},
   "outputs": [
    {
     "data": {
      "image/png": "[encoded data removed]",
      "text/plain": [
       "<matplotlib.figure.Figure at 0x2d1965f2438>"
      ]
     },
     "metadata": {},
     "output_type": "display_data"
    },
    {
     "data": {
      "image/png": "[encoded data removed]",
      "text/plain": [
       "<matplotlib.figure.Figure at 0x2d18fb85358>"
      ]
     },
     "metadata": {},
     "output_type": "display_data"
    }
   ],
   "source": [
    "acc = h.history['acc']\n",
    "val_acc = h.history['val_acc']\n",
    "loss = h.history['loss']\n",
    "val_loss = h.history['val_loss']\n",
    "\n",
    "epochs = range(len(acc))\n",
    "\n",
    "plt.plot(epochs, acc, 'bo', label='Training accuracy')\n",
    "plt.plot(epochs, val_acc, 'b', label='Validation accracy')\n",
    "plt.title('Training and validation accuracy')\n",
    "plt.ylim([0, 1])\n",
    "plt.xlabel('Epochs')\n",
    "plt.grid()\n",
    "plt.legend()\n",
    "\n",
    "plt.figure()\n",
    "\n",
    "plt.plot(epochs, loss, 'bo', label='Training loss')\n",
    "plt.plot(epochs, val_loss, 'b', label='Validation loss')\n",
    "plt.title('Training and validation loss')\n",
    "plt.ylim([0, 10])\n",
    "plt.xlabel('Epochs')\n",
    "plt.grid()\n",
    "plt.legend()  \n",
    "\n",
    "plt.show()"
   ]
  },
  {
   "cell_type": "markdown",
   "metadata": {},
   "source": [
    "<h2>8. Conclusions</h2>"
   ]
  },
  {
   "cell_type": "markdown",
   "metadata": {},
   "source": [
    "I had still the same problem, validation accuracy and validation loss stay the same and the results are even worse, I can not seem to understand what is going wrong."
   ]
  }
 ],
 "metadata": {
  "kernelspec": {
   "display_name": "Python 3",
   "language": "python",
   "name": "python3"
  },
  "language_info": {
   "codemirror_mode": {
    "name": "ipython",
    "version": 3
   },
   "file_extension": ".py",
   "mimetype": "text/x-python",
   "name": "python",
   "nbconvert_exporter": "python",
   "pygments_lexer": "ipython3",
   "version": "3.6.3"
  }
 },
 "nbformat": 4,
 "nbformat_minor": 2
}
