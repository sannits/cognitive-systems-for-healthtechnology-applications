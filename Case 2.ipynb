{
 "cells": [
  {
   "cell_type": "markdown",
   "metadata": {},
   "source": [
    "# Case 2. Diabetic Retinopathy Analysis\n",
    "Sanni Tolonen<br>\n",
    "25.2.2018<br>\n",
    "Cognitive Systems for Health Technology Applications, Spring 2018<br>\n",
    "Helsinki Metropolia University of Applied Sciences"
   ]
  },
  {
   "cell_type": "markdown",
   "metadata": {},
   "source": [
    "<h2>1. Objectives</h2><br>\n",
    "The aim of this assignment is to learn to use convolutional neural networks to classify medical\n",
    "images."
   ]
  },
  {
   "cell_type": "markdown",
   "metadata": {},
   "source": [
    "<h2> 2. Required libraries </h2>"
   ]
  },
  {
   "cell_type": "code",
   "execution_count": 45,
   "metadata": {},
   "outputs": [],
   "source": [
    "# import libraries and functions\n",
    "\n",
    "import numpy as np\n",
    "import matplotlib.pyplot as plt \n",
    "import pickle\n",
    "from keras import layers\n",
    "from keras import models\n",
    "from keras.preprocessing.image import ImageDataGenerator\n",
    "from keras import optimizers\n",
    "import os\n",
    "import time"
   ]
  },
  {
   "cell_type": "markdown",
   "metadata": {},
   "source": [
    "<h2> 3. Data description and preprocessing </h2>"
   ]
  },
  {
   "cell_type": "markdown",
   "metadata": {},
   "source": [
    "This dataset is a large set of high-resolution retina images taken under a variety of imaging conditions. \n",
    "A clinician has rated the presence of diabetic retinopathy in each image on a scale of 0 to 4:\n",
    "\n",
    "<ul>\n",
    "<li>0 - No DR</li>\n",
    "<li>1 - Mild</li>\n",
    "<li>2 - Moderate</li>\n",
    "<li>3 - Severe</li>\n",
    "<li>4 - Proliferative DR</li>\n",
    "</ul>\n",
    "\n",
    "The images come from different models and types of cameras, which can affect the visual appearance. Some images are shown as one would see the retina anatomically meaning macula on the left, optic nerve on the right for the right eye. Others are shown as one would see through a microscope condensing lens in example inverted, as one sees in a typical live eye exam. There are two ways to tell if an image is inverted:\n",
    "\n",
    "It is inverted if the macula, the small dark central area, is slightly higher than the midline through the optic nerve. If the macula is lower than the midline of the optic nerve, it's not inverted.\n",
    "If there is a notch on the side of the image (square, triangle, or circle) then it's not inverted. If there is no notch, it's inverted."
   ]
  },
  {
   "cell_type": "code",
   "execution_count": 35,
   "metadata": {
    "collapsed": true
   },
   "outputs": [],
   "source": [
    "# dataset directories and labels files\n",
    "\n",
    "train_dir = \"../dataset2/train\" \n",
    "validation_dir = \"../dataset2/validation\" \n",
    "test_dir = \"../dataset2/test\" \n",
    "\n",
    "#preprocessing function\n",
    "\n",
    "def my_fun(x):\n",
    "    r = x[:, :, 0]\n",
    "    g = x[:, :, 1]\n",
    "    b = x[:, :, 2]\n",
    "    r = (r - np.mean(r))/(12.0*np.std(r))\n",
    "    g = (g - np.mean(g))/(12.0*np.std(g))\n",
    "    b = (b - np.mean(g))/(12.0*np.std(b))\n",
    "    x[:, :, 0] = r\n",
    "    x[:, :, 1] = g\n",
    "    x[:, :, 2] = b\n",
    "    x += 0.5\n",
    "    return x"
   ]
  },
  {
   "cell_type": "markdown",
   "metadata": {},
   "source": [
    "Dataset is splitted to train, validation and test sets. For preprocessing I used a function defined by Sakari Lukkarinen. "
   ]
  },
  {
   "cell_type": "markdown",
   "metadata": {},
   "source": [
    "<h2> 4. Modeling and compilation </h2>"
   ]
  },
  {
   "cell_type": "code",
   "execution_count": 36,
   "metadata": {},
   "outputs": [
    {
     "name": "stdout",
     "output_type": "stream",
     "text": [
      "Training dataset.\n",
      "Found 1928 images belonging to 2 classes.\n",
      "Validation dataset.\n",
      "Found 1021 images belonging to 2 classes.\n",
      "Test dataset.\n",
      "Found 1013 images belonging to 2 classes.\n"
     ]
    }
   ],
   "source": [
    "# training parameters\n",
    "\n",
    "batch_size = 32\n",
    "epochs = 10\n",
    "steps_per_epoch = 39 \n",
    "validation_steps = 13\n",
    "image_height = 150\n",
    "image_width = 200 \n",
    "\n",
    "# create datagenerators\n",
    "\n",
    "train_datagen = ImageDataGenerator(preprocessing_function = my_fun)\n",
    "validation_datagen = ImageDataGenerator(preprocessing_function = my_fun)\n",
    "test_datagen = ImageDataGenerator(preprocessing_function = my_fun)\n",
    "\n",
    "# generator for train dataset\n",
    "\n",
    "print('Training dataset.')\n",
    "train_generator = train_datagen.flow_from_directory(\n",
    "        train_dir,\n",
    "        target_size = (image_height, image_width),\n",
    "        batch_size = batch_size,\n",
    "        class_mode = 'binary')\n",
    "\n",
    "# generator for validation dataset\n",
    "\n",
    "print('Validation dataset.')\n",
    "validation_generator = validation_datagen.flow_from_directory(\n",
    "        validation_dir,\n",
    "        target_size = (image_height, image_width),\n",
    "        batch_size = batch_size,\n",
    "        class_mode = 'binary')\n",
    "\n",
    "# generator for test dataset\n",
    "\n",
    "print('Test dataset.')\n",
    "test_generator = test_datagen.flow_from_directory(\n",
    "        test_dir,\n",
    "        target_size = (image_height, image_width),\n",
    "        batch_size = batch_size,\n",
    "        class_mode = 'binary')\n",
    "\n"
   ]
  },
  {
   "cell_type": "markdown",
   "metadata": {},
   "source": [
    "<h2> 5. Training and validation </h2>"
   ]
  },
  {
   "cell_type": "markdown",
   "metadata": {},
   "source": [
    "For starters, there is two Conv2D layers followed by one MaxPool2D layer. After two sets of these, there is two Conv2D layers and then two sets of two Conv2D layers with a Dropout layer for weight regularization to avoid overfitting. In the end there is  Flatten layer to flatten the input, a couple of Dense leyers and another Dropout layer."
   ]
  },
  {
   "cell_type": "code",
   "execution_count": 37,
   "metadata": {},
   "outputs": [
    {
     "name": "stdout",
     "output_type": "stream",
     "text": [
      "_________________________________________________________________\n",
      "Layer (type)                 Output Shape              Param #   \n",
      "=================================================================\n",
      "conv2d_61 (Conv2D)           (None, 148, 198, 32)      896       \n",
      "_________________________________________________________________\n",
      "conv2d_62 (Conv2D)           (None, 146, 196, 32)      9248      \n",
      "_________________________________________________________________\n",
      "max_pooling2d_16 (MaxPooling (None, 72, 97, 32)        0         \n",
      "_________________________________________________________________\n",
      "conv2d_63 (Conv2D)           (None, 70, 95, 64)        18496     \n",
      "_________________________________________________________________\n",
      "conv2d_64 (Conv2D)           (None, 68, 93, 64)        36928     \n",
      "_________________________________________________________________\n",
      "max_pooling2d_17 (MaxPooling (None, 33, 46, 64)        0         \n",
      "_________________________________________________________________\n",
      "conv2d_65 (Conv2D)           (None, 31, 44, 96)        55392     \n",
      "_________________________________________________________________\n",
      "conv2d_66 (Conv2D)           (None, 29, 42, 96)        83040     \n",
      "_________________________________________________________________\n",
      "max_pooling2d_18 (MaxPooling (None, 14, 20, 96)        0         \n",
      "_________________________________________________________________\n",
      "conv2d_67 (Conv2D)           (None, 12, 18, 128)       110720    \n",
      "_________________________________________________________________\n",
      "conv2d_68 (Conv2D)           (None, 10, 16, 128)       147584    \n",
      "_________________________________________________________________\n",
      "conv2d_69 (Conv2D)           (None, 8, 14, 160)        184480    \n",
      "_________________________________________________________________\n",
      "conv2d_70 (Conv2D)           (None, 6, 12, 160)        230560    \n",
      "_________________________________________________________________\n",
      "dropout_16 (Dropout)         (None, 6, 12, 160)        0         \n",
      "_________________________________________________________________\n",
      "conv2d_71 (Conv2D)           (None, 4, 10, 192)        276672    \n",
      "_________________________________________________________________\n",
      "conv2d_72 (Conv2D)           (None, 2, 8, 192)         331968    \n",
      "_________________________________________________________________\n",
      "dropout_17 (Dropout)         (None, 2, 8, 192)         0         \n",
      "_________________________________________________________________\n",
      "flatten_6 (Flatten)          (None, 3072)              0         \n",
      "_________________________________________________________________\n",
      "dense_11 (Dense)             (None, 256)               786688    \n",
      "_________________________________________________________________\n",
      "dropout_18 (Dropout)         (None, 256)               0         \n",
      "_________________________________________________________________\n",
      "dense_12 (Dense)             (None, 1)                 257       \n",
      "=================================================================\n",
      "Total params: 2,272,929\n",
      "Trainable params: 2,272,929\n",
      "Non-trainable params: 0\n",
      "_________________________________________________________________\n",
      "Epoch 1/10\n",
      "39/39 [==============================] - 589s 15s/step - loss: 4.6149 - acc: 0.7004 - val_loss: 4.6882 - val_acc: 0.7091\n",
      "Epoch 2/10\n",
      "39/39 [==============================] - 657s 17s/step - loss: 4.8044 - acc: 0.7019 - val_loss: 4.6882 - val_acc: 0.7091\n",
      "Epoch 3/10\n",
      "39/39 [==============================] - 748s 19s/step - loss: 4.6349 - acc: 0.7124 - val_loss: 4.6882 - val_acc: 0.7091\n",
      "Epoch 4/10\n",
      "39/39 [==============================] - 804s 21s/step - loss: 4.8177 - acc: 0.7011 - val_loss: 4.6882 - val_acc: 0.7091\n",
      "Epoch 5/10\n",
      "39/39 [==============================] - 704s 18s/step - loss: 4.3913 - acc: 0.7276 - val_loss: 4.6882 - val_acc: 0.7091\n",
      "Epoch 6/10\n",
      "39/39 [==============================] - 739s 19s/step - loss: 4.7399 - acc: 0.7059 - val_loss: 4.6882 - val_acc: 0.7091\n",
      "Epoch 7/10\n",
      "39/39 [==============================] - 794s 20s/step - loss: 4.5590 - acc: 0.7171 - val_loss: 4.6882 - val_acc: 0.7091\n",
      "Epoch 8/10\n",
      "39/39 [==============================] - 763s 20s/step - loss: 4.5722 - acc: 0.7163 - val_loss: 4.6882 - val_acc: 0.7091\n",
      "Epoch 9/10\n",
      "39/39 [==============================] - 777s 20s/step - loss: 4.7521 - acc: 0.7052 - val_loss: 4.6882 - val_acc: 0.7091\n",
      "Epoch 10/10\n",
      "39/39 [==============================] - 755s 19s/step - loss: 4.7786 - acc: 0.7035 - val_loss: 4.6882 - val_acc: 0.7091\n",
      " \n",
      "Total elapsed time for training: 122.214 minutes\n",
      " \n"
     ]
    },
    {
     "ename": "NameError",
     "evalue": "name 'model_filename' is not defined",
     "output_type": "error",
     "traceback": [
      "\u001b[1;31m---------------------------------------------------------------------------\u001b[0m",
      "\u001b[1;31mNameError\u001b[0m                                 Traceback (most recent call last)",
      "\u001b[1;32m<ipython-input-37-e7abd7aec0f5>\u001b[0m in \u001b[0;36m<module>\u001b[1;34m()\u001b[0m\n\u001b[0;32m     61\u001b[0m \u001b[1;31m# save the model\u001b[0m\u001b[1;33m\u001b[0m\u001b[1;33m\u001b[0m\u001b[0m\n\u001b[0;32m     62\u001b[0m \u001b[1;33m\u001b[0m\u001b[0m\n\u001b[1;32m---> 63\u001b[1;33m \u001b[0mprint\u001b[0m\u001b[1;33m(\u001b[0m\u001b[1;34m'Model is saved to file:'\u001b[0m\u001b[1;33m,\u001b[0m \u001b[0mmodel_filename\u001b[0m\u001b[1;33m)\u001b[0m\u001b[1;33m\u001b[0m\u001b[0m\n\u001b[0m\u001b[0;32m     64\u001b[0m \u001b[0mfname\u001b[0m \u001b[1;33m=\u001b[0m \u001b[0mos\u001b[0m\u001b[1;33m.\u001b[0m\u001b[0mpath\u001b[0m\u001b[1;33m.\u001b[0m\u001b[0mjoin\u001b[0m\u001b[1;33m(\u001b[0m\u001b[1;34m'..'\u001b[0m\u001b[1;33m,\u001b[0m \u001b[1;34m'Results'\u001b[0m\u001b[1;33m,\u001b[0m \u001b[0mmodel_filename\u001b[0m\u001b[1;33m)\u001b[0m\u001b[1;33m\u001b[0m\u001b[0m\n\u001b[0;32m     65\u001b[0m \u001b[0mmodel\u001b[0m\u001b[1;33m.\u001b[0m\u001b[0msave\u001b[0m\u001b[1;33m(\u001b[0m\u001b[0mfname\u001b[0m\u001b[1;33m)\u001b[0m\u001b[1;33m\u001b[0m\u001b[0m\n",
      "\u001b[1;31mNameError\u001b[0m: name 'model_filename' is not defined"
     ]
    }
   ],
   "source": [
    "# build the model\n",
    "\n",
    "model = models.Sequential()\n",
    "model.add(layers.Conv2D(32, (3, 3), activation = 'relu', \n",
    "                        input_shape = (image_height, image_width, 3)))\n",
    "model.add(layers.Conv2D(32, (3, 3), activation = 'relu'))\n",
    "model.add(layers.MaxPool2D((3, 3), strides=2))\n",
    "\n",
    "model.add(layers.Conv2D(64, (3, 3), activation = 'relu'))\n",
    "model.add(layers.Conv2D(64, (3, 3), activation = 'relu'))\n",
    "model.add(layers.MaxPool2D((3, 3), strides=2))\n",
    "\n",
    "model.add(layers.Conv2D(96, (3, 3), activation = 'relu'))\n",
    "model.add(layers.Conv2D(96, (3, 3), activation = 'relu'))\n",
    "model.add(layers.MaxPool2D((3, 3), strides=2))\n",
    "\n",
    "model.add(layers.Conv2D(128, (3, 3), activation = 'relu'))\n",
    "model.add(layers.Conv2D(128, (3, 3), activation = 'relu'))\n",
    "\n",
    "model.add(layers.Conv2D(160, (3, 3), activation = 'relu'))\n",
    "model.add(layers.Conv2D(160, (3, 3), activation = 'relu'))\n",
    "model.add(layers.Dropout(0.1))\n",
    "\n",
    "model.add(layers.Conv2D(192, (3, 3), activation = 'relu'))\n",
    "model.add(layers.Conv2D(192, (3, 3), activation = 'relu'))\n",
    "model.add(layers.Dropout(0.1))\n",
    "\n",
    "model.add(layers.Flatten())\n",
    "model.add(layers.Dense(256, activation='relu'))\n",
    "model.add(layers.Dropout(0.2))\n",
    "model.add(layers.Dense(1, activation='sigmoid'))\n",
    "\n",
    "model.summary()\n",
    "\n",
    "# compile the model\n",
    "\n",
    "model.compile(loss='binary_crossentropy',\n",
    "              optimizer=optimizers.RMSprop(),\n",
    "              metrics=['acc'])\n",
    "\n",
    "\n",
    "# train the model\n",
    "\n",
    "t1 = time.time()\n",
    "h = model.fit_generator(\n",
    "      train_generator,\n",
    "      steps_per_epoch = steps_per_epoch,\n",
    "      verbose = 1,\n",
    "      epochs = epochs,\n",
    "      validation_data = validation_generator,\n",
    "      validation_steps = validation_steps)\n",
    "t2 = time.time()\n",
    "\n",
    "# store the elapsed time into history\n",
    "\n",
    "h.history.update({'time_elapsed': t2 - t1})\n",
    "print(' ')\n",
    "print('Total elapsed time for training: {:.3f} minutes'.format((t2-t1)/60))\n",
    "print(' ')\n",
    "\n"
   ]
  },
  {
   "cell_type": "code",
   "execution_count": 40,
   "metadata": {},
   "outputs": [],
   "source": [
    "# Saves the model and history\n",
    "model.save('case_2_run_1.h5')\n",
    "pickle.dump(h.history, open('case_2_history_1.p', 'wb'))"
   ]
  },
  {
   "cell_type": "code",
   "execution_count": 41,
   "metadata": {},
   "outputs": [
    {
     "name": "stdout",
     "output_type": "stream",
     "text": [
      "Elapsed time 2.04 hours.\n",
      "Time per epoch 12.22 minutes.\n"
     ]
    }
   ],
   "source": [
    "print('Elapsed time {:.2f} hours.'.format((t2-t1)/3600))\n",
    "print('Time per epoch {:.2f} minutes.'.format((t2-t1)/10/60))"
   ]
  },
  {
   "cell_type": "markdown",
   "metadata": {},
   "source": [
    "<h2> 6. Evaluation </h2>"
   ]
  },
  {
   "cell_type": "markdown",
   "metadata": {},
   "source": [
    "Here the model created above is tested with the testing set. "
   ]
  },
  {
   "cell_type": "code",
   "execution_count": 42,
   "metadata": {},
   "outputs": [
    {
     "name": "stdout",
     "output_type": "stream",
     "text": [
      "Found 1013 images belonging to 2 classes.\n"
     ]
    },
    {
     "data": {
      "text/plain": [
       "[4.7011111917949862, 0.70833333333333337]"
      ]
     },
     "execution_count": 42,
     "metadata": {},
     "output_type": "execute_result"
    }
   ],
   "source": [
    "test_generator = test_datagen.flow_from_directory(\n",
    "        test_dir,\n",
    "        target_size = (image_height, image_width),\n",
    "        batch_size = batch_size,\n",
    "        class_mode = 'binary')\n",
    "\n",
    "r = model.evaluate_generator(test_generator, steps = 21)\n",
    "\n",
    "# loss and accuracy\n",
    "r"
   ]
  },
  {
   "cell_type": "markdown",
   "metadata": {},
   "source": [
    "<h2> 7. Results and discussion </h2>"
   ]
  },
  {
   "cell_type": "markdown",
   "metadata": {},
   "source": [
    "Training accuracy is under 0.75 the whole time. The final testing accuracy is 0.71. In the end of training the loss function is 4.77 which is really big. This means that the inconsistency between predicted value and actual label is large. The final testing loss function is 4.70. "
   ]
  },
  {
   "cell_type": "code",
   "execution_count": 49,
   "metadata": {},
   "outputs": [
    {
     "data": {
      "image/png": "[encoded data removed]",
      "text/plain": [
       "<matplotlib.figure.Figure at 0x250bf2ca080>"
      ]
     },
     "metadata": {},
     "output_type": "display_data"
    },
    {
     "data": {
      "image/png": "[encoded data removed]",
      "text/plain": [
       "<matplotlib.figure.Figure at 0x250bef832b0>"
      ]
     },
     "metadata": {},
     "output_type": "display_data"
    }
   ],
   "source": [
    "acc = h.history['acc']\n",
    "val_acc = h.history['val_acc']\n",
    "loss = h.history['loss']\n",
    "val_loss = h.history['val_loss']\n",
    "\n",
    "epochs = range(len(acc))\n",
    "\n",
    "plt.plot(epochs, acc, 'bo', label='Training accuracy')\n",
    "plt.plot(epochs, val_acc, 'b', label='Validation accracy')\n",
    "plt.title('Training and validation accuracy')\n",
    "plt.ylim([0, 1])\n",
    "plt.xlabel('Epochs')\n",
    "plt.grid()\n",
    "plt.legend()\n",
    "\n",
    "plt.figure()\n",
    "\n",
    "plt.plot(epochs, loss, 'bo', label='Training loss')\n",
    "plt.plot(epochs, val_loss, 'b', label='Validation loss')\n",
    "plt.title('Training and validation loss')\n",
    "plt.ylim([0, 10])\n",
    "plt.xlabel('Epochs')\n",
    "plt.grid()\n",
    "plt.legend()  \n",
    "\n",
    "plt.show()"
   ]
  },
  {
   "cell_type": "markdown",
   "metadata": {},
   "source": [
    "<h2> 8. Conclusions </h2>"
   ]
  },
  {
   "cell_type": "markdown",
   "metadata": {
    "collapsed": true
   },
   "source": [
    "This Case 2 was a nice and definately interesting introduction to the convolutional neural networks. The objectives were in fact achieved because the convolutional neural network works. I think the difficulty level was ok, could have maybe been a little easier for my taste. I underestimated the time consuming of this assignment and that's why I have so few epochs. I'm aware that with more epochs, the results would have been better and more useful.\n",
    "\n",
    "72% accuracy isn't that good for binary classification and it's not good enough for a medical classifier. Testing accuracy was at best 80%. The dataset seems fairly small for training a convolutional neural network and I think that with a larger dataset it would be possible to achieve better results.\n",
    "\n",
    "I'm 99% sure that the problems I have in this network are caused by overfitting, but due to my lack of enthusiasm to do school work during this \"spring break\" I did not have the time to work with that more since I wanted to return the assignment in time. Unfortunately I still missed it. I did mess this assignment up pretty bad. This following night I will try leave my laptop running this same set with more epochs and return another version tomorrow, just for viewings."
   ]
  },
  {
   "cell_type": "code",
   "execution_count": null,
   "metadata": {
    "collapsed": true
   },
   "outputs": [],
   "source": []
  }
 ],
 "metadata": {
  "kernelspec": {
   "display_name": "Python 3",
   "language": "python",
   "name": "python3"
  },
  "language_info": {
   "codemirror_mode": {
    "name": "ipython",
    "version": 3
   },
   "file_extension": ".py",
   "mimetype": "text/x-python",
   "name": "python",
   "nbconvert_exporter": "python",
   "pygments_lexer": "ipython3",
   "version": "3.6.3"
  }
 },
 "nbformat": 4,
 "nbformat_minor": 2
}
